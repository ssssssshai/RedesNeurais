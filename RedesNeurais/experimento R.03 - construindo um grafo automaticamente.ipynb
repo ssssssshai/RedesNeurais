{
 "cells": [
  {
   "attachments": {},
   "cell_type": "markdown",
   "metadata": {},
   "source": [
    "Construindo um grafo automaticamente\n",
    "====================================\n",
    "\n"
   ]
  },
  {
   "attachments": {},
   "cell_type": "markdown",
   "metadata": {},
   "source": [
    "## Introdução\n",
    "\n"
   ]
  },
  {
   "attachments": {},
   "cell_type": "markdown",
   "metadata": {},
   "source": [
    "Neste notebook nós vamos dar o primeiro passo para construir nossa rede neural artificial. Neste primeiro passo, nós vamos criar uma classe que gera automaticamente o nosso `grafo computacional`. O grafo computacional é o grafo que representa todas as operações matemáticas que ocorreram ao se computar um certo valor $y$. O grafo computacional é um passo necessário pois será baseado nele que iremos computar os gradientes locais necessários para realizar o `backpropagation`.\n",
    "\n"
   ]
  },
  {
   "attachments": {},
   "cell_type": "markdown",
   "metadata": {},
   "source": [
    "## Importações\n",
    "\n"
   ]
  },
  {
   "cell_type": "code",
   "execution_count": 1,
   "metadata": {},
   "outputs": [],
   "source": [
    "from funcoes import plota_grafo"
   ]
  },
  {
   "attachments": {},
   "cell_type": "markdown",
   "metadata": {},
   "source": [
    "## Código e discussão\n",
    "\n"
   ]
  },
  {
   "attachments": {},
   "cell_type": "markdown",
   "metadata": {},
   "source": [
    "### Primeiros passos\n",
    "\n"
   ]
  },
  {
   "attachments": {},
   "cell_type": "markdown",
   "metadata": {},
   "source": [
    "A base de tudo será uma classe chamada `Valor`. Vamos começar pelo básico!\n",
    "\n"
   ]
  },
  {
   "cell_type": "code",
   "execution_count": 2,
   "metadata": {},
   "outputs": [],
   "source": [
    "class Valor:\n",
    "    def __init__(self, data):\n",
    "        self.data = data\n",
    "\n",
    "    def __repr__(self):\n",
    "        return f\"Valor(data={self.data})\""
   ]
  },
  {
   "attachments": {},
   "cell_type": "markdown",
   "metadata": {},
   "source": [
    "Vamos testar nossa classe!\n",
    "\n"
   ]
  },
  {
   "cell_type": "code",
   "execution_count": 3,
   "metadata": {},
   "outputs": [
    {
     "name": "stdout",
     "output_type": "stream",
     "text": [
      "Valor(data=60)\n",
      "60\n"
     ]
    }
   ],
   "source": [
    "x1 = Valor(60)\n",
    "print(x1)\n",
    "print(x1.data)"
   ]
  },
  {
   "attachments": {},
   "cell_type": "markdown",
   "metadata": {},
   "source": [
    "### Os dunders `__add__` e `__mul__`\n",
    "\n"
   ]
  },
  {
   "attachments": {},
   "cell_type": "markdown",
   "metadata": {},
   "source": [
    "Observe que não conseguimos adicionar nem multiplicar objetos criados com a classe `Valor`.\n",
    "\n"
   ]
  },
  {
   "cell_type": "code",
   "execution_count": 4,
   "metadata": {},
   "outputs": [],
   "source": [
    "a = Valor(10)\n",
    "b = Valor(5)"
   ]
  },
  {
   "cell_type": "code",
   "execution_count": 5,
   "metadata": {},
   "outputs": [
    {
     "ename": "TypeError",
     "evalue": "unsupported operand type(s) for +: 'Valor' and 'Valor'",
     "output_type": "error",
     "traceback": [
      "\u001b[1;31m---------------------------------------------------------------------------\u001b[0m",
      "\u001b[1;31mTypeError\u001b[0m                                 Traceback (most recent call last)",
      "\u001b[1;32mC:\\Users\\SHAIAN~1\\AppData\\Local\\Temp/ipykernel_19196/3864629426.py\u001b[0m in \u001b[0;36m<module>\u001b[1;34m\u001b[0m\n\u001b[1;32m----> 1\u001b[1;33m \u001b[0mprint\u001b[0m\u001b[1;33m(\u001b[0m\u001b[0ma\u001b[0m \u001b[1;33m+\u001b[0m \u001b[0mb\u001b[0m\u001b[1;33m)\u001b[0m\u001b[1;33m\u001b[0m\u001b[1;33m\u001b[0m\u001b[0m\n\u001b[0m",
      "\u001b[1;31mTypeError\u001b[0m: unsupported operand type(s) for +: 'Valor' and 'Valor'"
     ]
    }
   ],
   "source": [
    "print(a + b)"
   ]
  },
  {
   "cell_type": "code",
   "execution_count": 6,
   "metadata": {},
   "outputs": [
    {
     "ename": "TypeError",
     "evalue": "unsupported operand type(s) for *: 'Valor' and 'Valor'",
     "output_type": "error",
     "traceback": [
      "\u001b[1;31m---------------------------------------------------------------------------\u001b[0m",
      "\u001b[1;31mTypeError\u001b[0m                                 Traceback (most recent call last)",
      "\u001b[1;32mC:\\Users\\SHAIAN~1\\AppData\\Local\\Temp/ipykernel_19196/2640154986.py\u001b[0m in \u001b[0;36m<module>\u001b[1;34m\u001b[0m\n\u001b[1;32m----> 1\u001b[1;33m \u001b[0mprint\u001b[0m\u001b[1;33m(\u001b[0m\u001b[0ma\u001b[0m \u001b[1;33m*\u001b[0m \u001b[0mb\u001b[0m\u001b[1;33m)\u001b[0m\u001b[1;33m\u001b[0m\u001b[1;33m\u001b[0m\u001b[0m\n\u001b[0m",
      "\u001b[1;31mTypeError\u001b[0m: unsupported operand type(s) for *: 'Valor' and 'Valor'"
     ]
    }
   ],
   "source": [
    "print(a * b)"
   ]
  },
  {
   "attachments": {},
   "cell_type": "markdown",
   "metadata": {},
   "source": [
    "Ué&#x2026; porque não conseguimos? Não conseguimos pois o Python (ainda) não é vidente. Ele lá vai saber como adicionar ou multiplicar algo que você criou? Pra você parece óbvio que valores podem ser adicionados ou multiplicados, mas para o Python ele nem sabe o que significa a palavra `Valor`&#x2026;\n",
    "\n",
    "Como sempre, temos que contar para o programa o que queremos que aconteça quando usarmos os operadores `+` e `*`. Quem faz isso são os dunders `__add__` e `__mul__`.\n",
    "\n"
   ]
  },
  {
   "cell_type": "code",
   "execution_count": 7,
   "metadata": {},
   "outputs": [],
   "source": [
    "class Valor:\n",
    "    def __init__(self, data):\n",
    "        self.data = data\n",
    "\n",
    "    def __repr__(self):\n",
    "        return f\"Valor(data={self.data})\"\n",
    "\n",
    "    def __add__(self, outro_valor):\n",
    "        saida = Valor(self.data + outro_valor.data)\n",
    "        return saida\n",
    "\n",
    "    def __mul__(self, outro_valor):\n",
    "        saida = Valor(self.data * outro_valor.data)\n",
    "        return saida"
   ]
  },
  {
   "attachments": {},
   "cell_type": "markdown",
   "metadata": {},
   "source": [
    "Vamos testar!\n",
    "\n"
   ]
  },
  {
   "cell_type": "code",
   "execution_count": 8,
   "metadata": {},
   "outputs": [
    {
     "name": "stdout",
     "output_type": "stream",
     "text": [
      "Valor(data=15)\n",
      "Valor(data=50)\n"
     ]
    }
   ],
   "source": [
    "a = Valor(10)\n",
    "b = Valor(5)\n",
    "\n",
    "print(a+b)\n",
    "print(a*b)"
   ]
  },
  {
   "attachments": {},
   "cell_type": "markdown",
   "metadata": {},
   "source": [
    "### Registrando os progenitores\n",
    "\n"
   ]
  },
  {
   "attachments": {},
   "cell_type": "markdown",
   "metadata": {},
   "source": [
    "Nosso objetivo é construir um grafo computacional. Em um grafo computacional, um certo vértice pode ter um ou mais vértices progenitores (são seus pais/mães). Nós não podemos perder essa informação quando formos construir um grafo, então precisamos incluir essa informação na nossa classe.\n",
    "\n"
   ]
  },
  {
   "cell_type": "code",
   "execution_count": 9,
   "metadata": {},
   "outputs": [],
   "source": [
    "class Valor:\n",
    "    def __init__(self, data, progenitor=()):\n",
    "        self.data = data\n",
    "        self.progenitor = progenitor\n",
    "\n",
    "    def __repr__(self):\n",
    "        return f\"Valor(data={self.data})\"\n",
    "\n",
    "    def __add__(self, outro_valor):\n",
    "        data = self.data + outro_valor.data\n",
    "        progenitor = (self, outro_valor)\n",
    "        saida = Valor(data, progenitor)\n",
    "        return saida\n",
    "\n",
    "    def __mul__(self, outro_valor):\n",
    "        data = self.data * outro_valor.data\n",
    "        progenitor = (self, outro_valor)\n",
    "        saida = Valor(data, progenitor)\n",
    "        return saida"
   ]
  },
  {
   "attachments": {},
   "cell_type": "markdown",
   "metadata": {},
   "source": [
    "Vamos testar!\n",
    "\n"
   ]
  },
  {
   "cell_type": "code",
   "execution_count": 10,
   "metadata": {},
   "outputs": [
    {
     "name": "stdout",
     "output_type": "stream",
     "text": [
      "10\n",
      "()\n",
      "Valor(data=15)\n",
      "Valor(data=150)\n",
      "(Valor(data=10), Valor(data=5))\n"
     ]
    }
   ],
   "source": [
    "a = Valor(10)\n",
    "b = Valor(5)\n",
    "\n",
    "print(a.data)\n",
    "print(a.progenitor)\n",
    "\n",
    "c = a + b\n",
    "d = c * a\n",
    "\n",
    "print(c)\n",
    "print(d)\n",
    "print(c.progenitor)"
   ]
  },
  {
   "attachments": {},
   "cell_type": "markdown",
   "metadata": {},
   "source": [
    "### Registrando o operador mãe\n",
    "\n"
   ]
  },
  {
   "attachments": {},
   "cell_type": "markdown",
   "metadata": {},
   "source": [
    "Em um grafo computacional, um vértice pode ter um operador mãe. O operador mãe é o operador que foi usado para gerar o vértice.\n",
    "\n"
   ]
  },
  {
   "cell_type": "code",
   "execution_count": 11,
   "metadata": {},
   "outputs": [],
   "source": [
    "class Valor:\n",
    "    def __init__(self, data, progenitor=(), operador_mae=\"\"):\n",
    "        self.data = data\n",
    "        self.progenitor = progenitor\n",
    "        self.operador_mae = operador_mae\n",
    "\n",
    "    def __repr__(self):\n",
    "        return f\"Valor(data={self.data})\"\n",
    "\n",
    "    def __add__(self, outro_valor):\n",
    "        data = self.data + outro_valor.data\n",
    "        progenitor = (self, outro_valor)\n",
    "        operador_mae = \"+\"\n",
    "        saida = Valor(data, progenitor, operador_mae)\n",
    "        return saida\n",
    "\n",
    "    def __mul__(self, outro_valor):\n",
    "        data = self.data * outro_valor.data\n",
    "        progenitor = (self, outro_valor)\n",
    "        operador_mae = \"*\"\n",
    "        saida = Valor(data, progenitor, operador_mae)\n",
    "        return saida"
   ]
  },
  {
   "attachments": {},
   "cell_type": "markdown",
   "metadata": {},
   "source": [
    "Vamos testar!\n",
    "\n"
   ]
  },
  {
   "cell_type": "code",
   "execution_count": 12,
   "metadata": {},
   "outputs": [
    {
     "name": "stdout",
     "output_type": "stream",
     "text": [
      "Valor(data=15)\n",
      "(Valor(data=10), Valor(data=5))\n",
      "+\n"
     ]
    }
   ],
   "source": [
    "a = Valor(10)\n",
    "b = Valor(5)\n",
    "\n",
    "c = a + b\n",
    "d = c * a\n",
    "\n",
    "print(c)\n",
    "print(c.progenitor)\n",
    "print(c.operador_mae)"
   ]
  },
  {
   "attachments": {},
   "cell_type": "markdown",
   "metadata": {},
   "source": [
    "### Plotando o primeiro grafo\n",
    "\n"
   ]
  },
  {
   "attachments": {},
   "cell_type": "markdown",
   "metadata": {},
   "source": [
    "Vamos plotar nosso primeiro grafo!\n",
    "\n"
   ]
  },
  {
   "cell_type": "code",
   "execution_count": 13,
   "metadata": {},
   "outputs": [
    {
     "data": {
      "image/svg+xml": [
       "<?xml version=\"1.0\" encoding=\"UTF-8\" standalone=\"no\"?>\n",
       "<!DOCTYPE svg PUBLIC \"-//W3C//DTD SVG 1.1//EN\"\n",
       " \"http://www.w3.org/Graphics/SVG/1.1/DTD/svg11.dtd\">\n",
       "<!-- Generated by graphviz version 6.0.2 (20221011.1828)\n",
       " -->\n",
       "<!-- Pages: 1 -->\n",
       "<svg width=\"515pt\" height=\"127pt\"\n",
       " viewBox=\"0.00 0.00 515.00 127.00\" xmlns=\"http://www.w3.org/2000/svg\" xmlns:xlink=\"http://www.w3.org/1999/xlink\">\n",
       "<g id=\"graph0\" class=\"graph\" transform=\"scale(1 1) rotate(0) translate(4 123)\">\n",
       "<polygon fill=\"white\" stroke=\"none\" points=\"-4,4 -4,-123 511,-123 511,4 -4,4\"/>\n",
       "<!-- 2280043997312 -->\n",
       "<g id=\"node1\" class=\"node\">\n",
       "<title>2280043997312</title>\n",
       "<polygon fill=\"none\" stroke=\"black\" points=\"213,-27.5 213,-63.5 299,-63.5 299,-27.5 213,-27.5\"/>\n",
       "<text text-anchor=\"middle\" x=\"256\" y=\"-41.8\" font-family=\"Times New Roman,serif\" font-size=\"14.00\">data &#45;6.0000</text>\n",
       "</g>\n",
       "<!-- 2280043998608+ -->\n",
       "<g id=\"node5\" class=\"node\">\n",
       "<title>2280043998608+</title>\n",
       "<ellipse fill=\"none\" stroke=\"black\" cx=\"363\" cy=\"-72.5\" rx=\"27\" ry=\"18\"/>\n",
       "<text text-anchor=\"middle\" x=\"363\" y=\"-68.8\" font-family=\"Times New Roman,serif\" font-size=\"14.00\">+</text>\n",
       "</g>\n",
       "<!-- 2280043997312&#45;&gt;2280043998608+ -->\n",
       "<g id=\"edge4\" class=\"edge\">\n",
       "<title>2280043997312&#45;&gt;2280043998608+</title>\n",
       "<path fill=\"none\" stroke=\"black\" d=\"M299.1,-56.33C308.55,-58.76 318.47,-61.31 327.57,-63.65\"/>\n",
       "<polygon fill=\"black\" stroke=\"black\" points=\"326.86,-67.08 337.42,-66.18 328.61,-60.3 326.86,-67.08\"/>\n",
       "</g>\n",
       "<!-- 2280043997312* -->\n",
       "<g id=\"node2\" class=\"node\">\n",
       "<title>2280043997312*</title>\n",
       "<ellipse fill=\"none\" stroke=\"black\" cx=\"149\" cy=\"-45.5\" rx=\"27\" ry=\"18\"/>\n",
       "<text text-anchor=\"middle\" x=\"149\" y=\"-41.8\" font-family=\"Times New Roman,serif\" font-size=\"14.00\">*</text>\n",
       "</g>\n",
       "<!-- 2280043997312*&#45;&gt;2280043997312 -->\n",
       "<g id=\"edge1\" class=\"edge\">\n",
       "<title>2280043997312*&#45;&gt;2280043997312</title>\n",
       "<path fill=\"none\" stroke=\"black\" d=\"M176.23,-45.5C184.26,-45.5 193.4,-45.5 202.53,-45.5\"/>\n",
       "<polygon fill=\"black\" stroke=\"black\" points=\"202.79,-49 212.79,-45.5 202.79,-42 202.79,-49\"/>\n",
       "</g>\n",
       "<!-- 2280043998368 -->\n",
       "<g id=\"node3\" class=\"node\">\n",
       "<title>2280043998368</title>\n",
       "<polygon fill=\"none\" stroke=\"black\" points=\"0,-55.5 0,-91.5 86,-91.5 86,-55.5 0,-55.5\"/>\n",
       "<text text-anchor=\"middle\" x=\"43\" y=\"-69.8\" font-family=\"Times New Roman,serif\" font-size=\"14.00\">data &#45;3.0000</text>\n",
       "</g>\n",
       "<!-- 2280043998368&#45;&gt;2280043997312* -->\n",
       "<g id=\"edge3\" class=\"edge\">\n",
       "<title>2280043998368&#45;&gt;2280043997312*</title>\n",
       "<path fill=\"none\" stroke=\"black\" d=\"M86,-62.19C95.34,-59.68 105.13,-57.04 114.09,-54.63\"/>\n",
       "<polygon fill=\"black\" stroke=\"black\" points=\"115.05,-58 123.8,-52.02 113.23,-51.24 115.05,-58\"/>\n",
       "</g>\n",
       "<!-- 2280043998608 -->\n",
       "<g id=\"node4\" class=\"node\">\n",
       "<title>2280043998608</title>\n",
       "<polygon fill=\"none\" stroke=\"black\" points=\"426,-54.5 426,-90.5 507,-90.5 507,-54.5 426,-54.5\"/>\n",
       "<text text-anchor=\"middle\" x=\"466.5\" y=\"-68.8\" font-family=\"Times New Roman,serif\" font-size=\"14.00\">data 4.0000</text>\n",
       "</g>\n",
       "<!-- 2280043998608+&#45;&gt;2280043998608 -->\n",
       "<g id=\"edge2\" class=\"edge\">\n",
       "<title>2280043998608+&#45;&gt;2280043998608</title>\n",
       "<path fill=\"none\" stroke=\"black\" d=\"M390.14,-72.5C397.91,-72.5 406.69,-72.5 415.45,-72.5\"/>\n",
       "<polygon fill=\"black\" stroke=\"black\" points=\"415.65,-76 425.65,-72.5 415.65,-69 415.65,-76\"/>\n",
       "</g>\n",
       "<!-- 2280043999136 -->\n",
       "<g id=\"node6\" class=\"node\">\n",
       "<title>2280043999136</title>\n",
       "<polygon fill=\"none\" stroke=\"black\" points=\"212,-82.5 212,-118.5 300,-118.5 300,-82.5 212,-82.5\"/>\n",
       "<text text-anchor=\"middle\" x=\"256\" y=\"-96.8\" font-family=\"Times New Roman,serif\" font-size=\"14.00\">data 10.0000</text>\n",
       "</g>\n",
       "<!-- 2280043999136&#45;&gt;2280043998608+ -->\n",
       "<g id=\"edge6\" class=\"edge\">\n",
       "<title>2280043999136&#45;&gt;2280043998608+</title>\n",
       "<path fill=\"none\" stroke=\"black\" d=\"M300.01,-89.03C309.21,-86.58 318.81,-84.02 327.63,-81.66\"/>\n",
       "<polygon fill=\"black\" stroke=\"black\" points=\"328.8,-84.97 337.56,-79.02 327,-78.21 328.8,-84.97\"/>\n",
       "</g>\n",
       "<!-- 2280043998656 -->\n",
       "<g id=\"node7\" class=\"node\">\n",
       "<title>2280043998656</title>\n",
       "<polygon fill=\"none\" stroke=\"black\" points=\"2.5,-0.5 2.5,-36.5 83.5,-36.5 83.5,-0.5 2.5,-0.5\"/>\n",
       "<text text-anchor=\"middle\" x=\"43\" y=\"-14.8\" font-family=\"Times New Roman,serif\" font-size=\"14.00\">data 2.0000</text>\n",
       "</g>\n",
       "<!-- 2280043998656&#45;&gt;2280043997312* -->\n",
       "<g id=\"edge5\" class=\"edge\">\n",
       "<title>2280043998656&#45;&gt;2280043997312*</title>\n",
       "<path fill=\"none\" stroke=\"black\" d=\"M83.61,-28.78C93.48,-31.35 103.97,-34.07 113.57,-36.56\"/>\n",
       "<polygon fill=\"black\" stroke=\"black\" points=\"112.99,-40.03 123.55,-39.15 114.75,-33.25 112.99,-40.03\"/>\n",
       "</g>\n",
       "</g>\n",
       "</svg>\n"
      ],
      "text/plain": [
       "<graphviz.graphs.Digraph at 0x212dd366ac0>"
      ]
     },
     "execution_count": 13,
     "metadata": {},
     "output_type": "execute_result"
    }
   ],
   "source": [
    "a = Valor(2)\n",
    "b = Valor(-3)\n",
    "c = Valor(10)\n",
    "\n",
    "d = a * b\n",
    "e = d + c\n",
    "\n",
    "plota_grafo(e)"
   ]
  },
  {
   "attachments": {},
   "cell_type": "markdown",
   "metadata": {},
   "source": [
    "### Registrando o rótulo\n",
    "\n"
   ]
  },
  {
   "attachments": {},
   "cell_type": "markdown",
   "metadata": {},
   "source": [
    "Nosso grafo seria mais legível se tivéssemos rótulos indicando o que é cada vértice. Vamos incluir essa informação na nossa classe.\n",
    "\n"
   ]
  },
  {
   "cell_type": "code",
   "execution_count": 14,
   "metadata": {},
   "outputs": [],
   "source": [
    "class Valor:\n",
    "    def __init__(self, data, progenitor=(), operador_mae=\"\", rotulo=\"\"):\n",
    "        self.data = data\n",
    "        self.progenitor = progenitor\n",
    "        self.operador_mae = operador_mae\n",
    "        self.rotulo = rotulo\n",
    "\n",
    "    def __repr__(self):\n",
    "        return f\"Valor(data={self.data})\"\n",
    "\n",
    "    def __add__(self, outro_valor):\n",
    "        data = self.data + outro_valor.data\n",
    "        progenitor = (self, outro_valor)\n",
    "        operador_mae = \"+\"\n",
    "        saida = Valor(data, progenitor, operador_mae)\n",
    "        return saida\n",
    "\n",
    "    def __mul__(self, outro_valor):\n",
    "        data = self.data * outro_valor.data\n",
    "        progenitor = (self, outro_valor)\n",
    "        operador_mae = \"*\"\n",
    "        saida = Valor(data, progenitor, operador_mae)\n",
    "        return saida"
   ]
  },
  {
   "attachments": {},
   "cell_type": "markdown",
   "metadata": {},
   "source": [
    "Vamos testar!\n",
    "\n"
   ]
  },
  {
   "cell_type": "code",
   "execution_count": 15,
   "metadata": {},
   "outputs": [
    {
     "data": {
      "image/svg+xml": [
       "<?xml version=\"1.0\" encoding=\"UTF-8\" standalone=\"no\"?>\n",
       "<!DOCTYPE svg PUBLIC \"-//W3C//DTD SVG 1.1//EN\"\n",
       " \"http://www.w3.org/Graphics/SVG/1.1/DTD/svg11.dtd\">\n",
       "<!-- Generated by graphviz version 6.0.2 (20221011.1828)\n",
       " -->\n",
       "<!-- Pages: 1 -->\n",
       "<svg width=\"585pt\" height=\"128pt\"\n",
       " viewBox=\"0.00 0.00 585.00 128.00\" xmlns=\"http://www.w3.org/2000/svg\" xmlns:xlink=\"http://www.w3.org/1999/xlink\">\n",
       "<g id=\"graph0\" class=\"graph\" transform=\"scale(1 1) rotate(0) translate(4 124)\">\n",
       "<polygon fill=\"white\" stroke=\"none\" points=\"-4,4 -4,-124 581,-124 581,4 -4,4\"/>\n",
       "<!-- 2280043219072 -->\n",
       "<g id=\"node1\" class=\"node\">\n",
       "<title>2280043219072</title>\n",
       "<polygon fill=\"none\" stroke=\"black\" points=\"0,-83.5 0,-119.5 110,-119.5 110,-83.5 0,-83.5\"/>\n",
       "<text text-anchor=\"middle\" x=\"12\" y=\"-97.8\" font-family=\"Times New Roman,serif\" font-size=\"14.00\">b</text>\n",
       "<polyline fill=\"none\" stroke=\"black\" points=\"24,-83.5 24,-119.5\"/>\n",
       "<text text-anchor=\"middle\" x=\"67\" y=\"-97.8\" font-family=\"Times New Roman,serif\" font-size=\"14.00\">data &#45;3.0000</text>\n",
       "</g>\n",
       "<!-- 2280030250704* -->\n",
       "<g id=\"node4\" class=\"node\">\n",
       "<title>2280030250704*</title>\n",
       "<ellipse fill=\"none\" stroke=\"black\" cx=\"173\" cy=\"-73.5\" rx=\"27\" ry=\"18\"/>\n",
       "<text text-anchor=\"middle\" x=\"173\" y=\"-69.8\" font-family=\"Times New Roman,serif\" font-size=\"14.00\">*</text>\n",
       "</g>\n",
       "<!-- 2280043219072&#45;&gt;2280030250704* -->\n",
       "<g id=\"edge3\" class=\"edge\">\n",
       "<title>2280043219072&#45;&gt;2280030250704*</title>\n",
       "<path fill=\"none\" stroke=\"black\" d=\"M110.26,-88.4C119.49,-86.18 128.84,-83.92 137.37,-81.86\"/>\n",
       "<polygon fill=\"black\" stroke=\"black\" points=\"138.42,-85.21 147.32,-79.46 136.78,-78.4 138.42,-85.21\"/>\n",
       "</g>\n",
       "<!-- 2280030250656 -->\n",
       "<g id=\"node2\" class=\"node\">\n",
       "<title>2280030250656</title>\n",
       "<polygon fill=\"none\" stroke=\"black\" points=\"236,-0.5 236,-36.5 347,-36.5 347,-0.5 236,-0.5\"/>\n",
       "<text text-anchor=\"middle\" x=\"247.5\" y=\"-14.8\" font-family=\"Times New Roman,serif\" font-size=\"14.00\">c</text>\n",
       "<polyline fill=\"none\" stroke=\"black\" points=\"259,-0.5 259,-36.5\"/>\n",
       "<text text-anchor=\"middle\" x=\"303\" y=\"-14.8\" font-family=\"Times New Roman,serif\" font-size=\"14.00\">data 10.0000</text>\n",
       "</g>\n",
       "<!-- 2280043998032+ -->\n",
       "<g id=\"node6\" class=\"node\">\n",
       "<title>2280043998032+</title>\n",
       "<ellipse fill=\"none\" stroke=\"black\" cx=\"410\" cy=\"-45.5\" rx=\"27\" ry=\"18\"/>\n",
       "<text text-anchor=\"middle\" x=\"410\" y=\"-41.8\" font-family=\"Times New Roman,serif\" font-size=\"14.00\">+</text>\n",
       "</g>\n",
       "<!-- 2280030250656&#45;&gt;2280043998032+ -->\n",
       "<g id=\"edge4\" class=\"edge\">\n",
       "<title>2280030250656&#45;&gt;2280043998032+</title>\n",
       "<path fill=\"none\" stroke=\"black\" d=\"M347.34,-31.21C356.57,-33.35 365.91,-35.51 374.44,-37.49\"/>\n",
       "<polygon fill=\"black\" stroke=\"black\" points=\"373.85,-40.95 384.38,-39.79 375.43,-34.13 373.85,-40.95\"/>\n",
       "</g>\n",
       "<!-- 2280030250704 -->\n",
       "<g id=\"node3\" class=\"node\">\n",
       "<title>2280030250704</title>\n",
       "<polygon fill=\"none\" stroke=\"black\" points=\"236.5,-55.5 236.5,-91.5 346.5,-91.5 346.5,-55.5 236.5,-55.5\"/>\n",
       "<text text-anchor=\"middle\" x=\"248.5\" y=\"-69.8\" font-family=\"Times New Roman,serif\" font-size=\"14.00\">d</text>\n",
       "<polyline fill=\"none\" stroke=\"black\" points=\"260.5,-55.5 260.5,-91.5\"/>\n",
       "<text text-anchor=\"middle\" x=\"303.5\" y=\"-69.8\" font-family=\"Times New Roman,serif\" font-size=\"14.00\">data &#45;6.0000</text>\n",
       "</g>\n",
       "<!-- 2280030250704&#45;&gt;2280043998032+ -->\n",
       "<g id=\"edge5\" class=\"edge\">\n",
       "<title>2280030250704&#45;&gt;2280043998032+</title>\n",
       "<path fill=\"none\" stroke=\"black\" d=\"M346.66,-60.48C356.14,-58.2 365.77,-55.89 374.53,-53.79\"/>\n",
       "<polygon fill=\"black\" stroke=\"black\" points=\"375.45,-57.16 384.35,-51.42 373.81,-50.36 375.45,-57.16\"/>\n",
       "</g>\n",
       "<!-- 2280030250704*&#45;&gt;2280030250704 -->\n",
       "<g id=\"edge1\" class=\"edge\">\n",
       "<title>2280030250704*&#45;&gt;2280030250704</title>\n",
       "<path fill=\"none\" stroke=\"black\" d=\"M200.14,-73.5C208.03,-73.5 217.05,-73.5 226.28,-73.5\"/>\n",
       "<polygon fill=\"black\" stroke=\"black\" points=\"226.32,-77 236.32,-73.5 226.32,-70 226.32,-77\"/>\n",
       "</g>\n",
       "<!-- 2280043998032 -->\n",
       "<g id=\"node5\" class=\"node\">\n",
       "<title>2280043998032</title>\n",
       "<polygon fill=\"none\" stroke=\"black\" points=\"473,-27.5 473,-63.5 577,-63.5 577,-27.5 473,-27.5\"/>\n",
       "<text text-anchor=\"middle\" x=\"484.5\" y=\"-41.8\" font-family=\"Times New Roman,serif\" font-size=\"14.00\">e</text>\n",
       "<polyline fill=\"none\" stroke=\"black\" points=\"496,-27.5 496,-63.5\"/>\n",
       "<text text-anchor=\"middle\" x=\"536.5\" y=\"-41.8\" font-family=\"Times New Roman,serif\" font-size=\"14.00\">data 4.0000</text>\n",
       "</g>\n",
       "<!-- 2280043998032+&#45;&gt;2280043998032 -->\n",
       "<g id=\"edge2\" class=\"edge\">\n",
       "<title>2280043998032+&#45;&gt;2280043998032</title>\n",
       "<path fill=\"none\" stroke=\"black\" d=\"M437.21,-45.5C444.88,-45.5 453.62,-45.5 462.51,-45.5\"/>\n",
       "<polygon fill=\"black\" stroke=\"black\" points=\"462.58,-49 472.58,-45.5 462.58,-42 462.58,-49\"/>\n",
       "</g>\n",
       "<!-- 2280030250368 -->\n",
       "<g id=\"node7\" class=\"node\">\n",
       "<title>2280030250368</title>\n",
       "<polygon fill=\"none\" stroke=\"black\" points=\"3,-28.5 3,-64.5 107,-64.5 107,-28.5 3,-28.5\"/>\n",
       "<text text-anchor=\"middle\" x=\"14.5\" y=\"-42.8\" font-family=\"Times New Roman,serif\" font-size=\"14.00\">a</text>\n",
       "<polyline fill=\"none\" stroke=\"black\" points=\"26,-28.5 26,-64.5\"/>\n",
       "<text text-anchor=\"middle\" x=\"66.5\" y=\"-42.8\" font-family=\"Times New Roman,serif\" font-size=\"14.00\">data 2.0000</text>\n",
       "</g>\n",
       "<!-- 2280030250368&#45;&gt;2280030250704* -->\n",
       "<g id=\"edge6\" class=\"edge\">\n",
       "<title>2280030250368&#45;&gt;2280030250704*</title>\n",
       "<path fill=\"none\" stroke=\"black\" d=\"M107.22,-58.42C117.47,-60.81 128.01,-63.26 137.53,-65.48\"/>\n",
       "<polygon fill=\"black\" stroke=\"black\" points=\"136.86,-68.91 147.39,-67.77 138.45,-62.1 136.86,-68.91\"/>\n",
       "</g>\n",
       "</g>\n",
       "</svg>\n"
      ],
      "text/plain": [
       "<graphviz.graphs.Digraph at 0x212dd3669a0>"
      ]
     },
     "execution_count": 15,
     "metadata": {},
     "output_type": "execute_result"
    }
   ],
   "source": [
    "a = Valor(2, rotulo=\"a\")\n",
    "b = Valor(-3, rotulo=\"b\")\n",
    "c = Valor(10, rotulo=\"c\")\n",
    "\n",
    "d = a * b\n",
    "e = d + c\n",
    "\n",
    "d.rotulo = \"d\"\n",
    "e.rotulo = \"e\"\n",
    "\n",
    "plota_grafo(e)"
   ]
  },
  {
   "attachments": {},
   "cell_type": "markdown",
   "metadata": {},
   "source": [
    "### Refazendo o grafo que fizemos na aula anterior\n",
    "\n"
   ]
  },
  {
   "attachments": {},
   "cell_type": "markdown",
   "metadata": {},
   "source": [
    "Na aula anterior nós fizemos um grafo computacional para aprender como funciona o backpropagation. Vamos refazer ele aqui!\n",
    "\n"
   ]
  },
  {
   "cell_type": "code",
   "execution_count": 16,
   "metadata": {},
   "outputs": [
    {
     "name": "stdout",
     "output_type": "stream",
     "text": [
      "digraph {\n",
      "\tgraph [rankdir=LR]\n",
      "\t2280043997696 [label=\"{ x1 | data 60.0000 }\" shape=record]\n",
      "\t2280043995680 [label=\"{ w3 | data 2.0000 }\" shape=record]\n",
      "\t2280043996832 [label=\"{ x2 | data 24.0000 }\" shape=record]\n",
      "\t2280043998896 [label=\"{ s1 | data 600.0000 }\" shape=record]\n",
      "\t\"2280043998896*\" [label=\"*\"]\n",
      "\t\"2280043998896*\" -> 2280043998896\n",
      "\t2280043995824 [label=\"{ w2 | data 5.0000 }\" shape=record]\n",
      "\t2280043995872 [label=\"{ b | data 7.0000 }\" shape=record]\n",
      "\t2280044116240 [label=\"{ s2 | data 120.0000 }\" shape=record]\n",
      "\t\"2280044116240*\" [label=\"*\"]\n",
      "\t\"2280044116240*\" -> 2280044116240\n",
      "\t2280044116288 [label=\"{ n | data 720.0000 }\" shape=record]\n",
      "\t\"2280044116288+\" [label=\"+\"]\n",
      "\t\"2280044116288+\" -> 2280044116288\n",
      "\t2280043995968 [label=\"{ w1 | data 10.0000 }\" shape=record]\n",
      "\t2280044116336 [label=\"{ k | data 727.0000 }\" shape=record]\n",
      "\t\"2280044116336+\" [label=\"+\"]\n",
      "\t\"2280044116336+\" -> 2280044116336\n",
      "\t2280044116432 [label=\"{ y | data 1454.0000 }\" shape=record]\n",
      "\t\"2280044116432*\" [label=\"*\"]\n",
      "\t\"2280044116432*\" -> 2280044116432\n",
      "\t2280043997696 -> \"2280043998896*\"\n",
      "\t2280044116288 -> \"2280044116336+\"\n",
      "\t2280044116240 -> \"2280044116288+\"\n",
      "\t2280043995824 -> \"2280044116240*\"\n",
      "\t2280043998896 -> \"2280044116288+\"\n",
      "\t2280043996832 -> \"2280044116240*\"\n",
      "\t2280044116336 -> \"2280044116432*\"\n",
      "\t2280043995872 -> \"2280044116336+\"\n",
      "\t2280043995968 -> \"2280043998896*\"\n",
      "\t2280043995680 -> \"2280044116432*\"\n",
      "}\n",
      "\n"
     ]
    }
   ],
   "source": [
    "x1 = Valor(60, rotulo='x1')\n",
    "x2 = Valor(24, rotulo='x2')\n",
    "w1 = Valor(10, rotulo='w1')\n",
    "w2 = Valor(5, rotulo='w2')\n",
    "w3 = Valor(2, rotulo='w3')\n",
    "b = Valor(7, rotulo = 'b')\n",
    "\n",
    "\n",
    "s1 = x1 * w1\n",
    "s1.rotulo = 's1'\n",
    "\n",
    "s2 = x2 * w2\n",
    "s2.rotulo = 's2'\n",
    "\n",
    "n = s1 + s2\n",
    "n.rotulo = 'n'\n",
    "\n",
    "k = n + b\n",
    "k.rotulo = \"k\"\n",
    "\n",
    "y = k * w3\n",
    "y.rotulo = \"y\"\n",
    "\n",
    "grafo = plota_grafo(y)\n",
    "print(grafo)"
   ]
  },
  {
   "attachments": {},
   "cell_type": "markdown",
   "metadata": {},
   "source": [
    "## Conclusão\n",
    "\n"
   ]
  },
  {
   "attachments": {},
   "cell_type": "markdown",
   "metadata": {},
   "source": [
    "## Playground\n",
    "\n"
   ]
  },
  {
   "cell_type": "code",
   "execution_count": null,
   "metadata": {},
   "outputs": [],
   "source": []
  }
 ],
 "metadata": {
  "kernelspec": {
   "display_name": "Python 3",
   "language": "python",
   "name": "python3"
  },
  "language_info": {
   "codemirror_mode": {
    "name": "ipython",
    "version": 3
   },
   "file_extension": ".py",
   "mimetype": "text/x-python",
   "name": "python",
   "nbconvert_exporter": "python",
   "pygments_lexer": "ipython3",
   "version": "3.9.7"
  },
  "org": null
 },
 "nbformat": 4,
 "nbformat_minor": 4
}
