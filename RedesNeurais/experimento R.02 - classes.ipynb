{
 "cells": [
  {
   "attachments": {},
   "cell_type": "markdown",
   "metadata": {},
   "source": [
    "Introdução à Classes\n",
    "====================\n",
    "\n"
   ]
  },
  {
   "attachments": {},
   "cell_type": "markdown",
   "metadata": {},
   "source": [
    "## Introdução\n",
    "\n"
   ]
  },
  {
   "attachments": {},
   "cell_type": "markdown",
   "metadata": {},
   "source": [
    "Quando queremos organizar objetos em uma certa ordem bem definida, usamos `listas`.\n",
    "\n",
    "Quando queremos relacionar dois objetos entre si, usamos `dicionários`.\n",
    "\n",
    "Quando queremos agrupar objetos únicos sem repetição e sem ordem bem definida, usamos `conjuntos`.\n",
    "\n",
    "Quando queremos executar uma sequência bem definida de ações, usamos `funções`.\n",
    "\n",
    "O que nós usamos quando queremos criar uma estrutura complexa de informações e ações onde apenas listas, dicionários, conjuntos e funções não são suficientes? Neste caso, usamos `classes`!\n",
    "\n"
   ]
  },
  {
   "attachments": {},
   "cell_type": "markdown",
   "metadata": {},
   "source": [
    "## Código e discussão\n",
    "\n"
   ]
  },
  {
   "attachments": {},
   "cell_type": "markdown",
   "metadata": {},
   "source": [
    "### A classe mais simples do mundo\n",
    "\n"
   ]
  },
  {
   "attachments": {},
   "cell_type": "markdown",
   "metadata": {},
   "source": [
    "A classe mais simples do mundo é simplesmente um amontoado de informação. Classes devem ser nomeadas sempre com a primeira letra em maiúsculo.\n",
    "\n"
   ]
  },
  {
   "cell_type": "code",
   "execution_count": 2,
   "metadata": {},
   "outputs": [],
   "source": [
    "class Dados: #Funciona como uma \"receita\".\n",
    "    dado1 = 10\n",
    "    dado2 = [1, 2, 3]\n",
    "    dado3 = 0.908\n",
    "    dado4 = {\"a\": 1, \"b\": 2}"
   ]
  },
  {
   "attachments": {},
   "cell_type": "markdown",
   "metadata": {},
   "source": [
    "Para criar um objeto baseado na sua classe, basta chamá-la com o parênteses, da mesma forma que fazemos com funções.\n",
    "\n"
   ]
  },
  {
   "cell_type": "code",
   "execution_count": 3,
   "metadata": {},
   "outputs": [],
   "source": [
    "calculo = Dados() #Dizemos que o objeto calculo deve ser criado seguindo a \"receita\" definida nos Dados."
   ]
  },
  {
   "attachments": {},
   "cell_type": "markdown",
   "metadata": {},
   "source": [
    "Agora podemos acessar os objetos da classe. Para isso usamos o ponto final.\n",
    "\n"
   ]
  },
  {
   "cell_type": "code",
   "execution_count": 4,
   "metadata": {},
   "outputs": [
    {
     "name": "stdout",
     "output_type": "stream",
     "text": [
      "[1, 2, 3]\n"
     ]
    }
   ],
   "source": [
    "print (calculo.dado2)"
   ]
  },
  {
   "attachments": {},
   "cell_type": "markdown",
   "metadata": {},
   "source": [
    "Se você se perguntou &ldquo;uai, mas por que usar uma classe sendo que um dicionário faria efetivamente a mesma coisa?&rdquo;, então você está no caminho certo. Apenas armazenar dados em uma classe desta forma não representa uma vantagem objetiva em relação à usar um dicionário. Vamos seguir em frente!\n",
    "\n"
   ]
  },
  {
   "attachments": {},
   "cell_type": "markdown",
   "metadata": {},
   "source": [
    "### Classes podem fazer algo ao serem criadas\n",
    "\n"
   ]
  },
  {
   "attachments": {},
   "cell_type": "markdown",
   "metadata": {},
   "source": [
    "Quando nós criamos uma classe, nós dizemos que criamos uma instância desta classe. Uma instância de uma classe representa um objeto que tem as propriedades da classe.\n",
    "\n",
    "Ao instanciar uma classe, você pode executar uma tarefa. Para isso, defina o método `__init__` usando necessariamente o `self` como primeiro argumento.\n",
    "\n"
   ]
  },
  {
   "cell_type": "code",
   "execution_count": 5,
   "metadata": {},
   "outputs": [],
   "source": [
    "class Material: #Será executada quando um objeto novo for criado para essa classe.\n",
    "    def __init__(self, modulo_elastico): #__init__ é inicar, self é uma variável que eu posso referenciar a \"eu mesmo\", indica a própria classe. Essa função recebe o argumento modulo_elastico\n",
    "        self.modulo_elastico = modulo_elastico #\"eu mesmo\" terei uma propriedade, e essa propriedade terá o valor que o usuário colocará como modulo_elastico."
   ]
  },
  {
   "attachments": {},
   "cell_type": "markdown",
   "metadata": {},
   "source": [
    "Agora podemos criar um objeto da classe `Material` com um certo valor de módulo elástico.\n",
    "\n"
   ]
  },
  {
   "cell_type": "code",
   "execution_count": 6,
   "metadata": {},
   "outputs": [
    {
     "name": "stdout",
     "output_type": "stream",
     "text": [
      "<__main__.Material object at 0x000001E62BC12160>\n",
      "100\n"
     ]
    }
   ],
   "source": [
    "modulo_elastico_do_meu_material = 100\n",
    "meu_material = Material(modulo_elastico_do_meu_material) #Criado com a \"receita\", não precisa do self pois é ele mesmo, só do valor de entrada.\n",
    "\n",
    "print(meu_material)\n",
    "print(meu_material.modulo_elastico) #Lembrando que o uso do . diz respeito ao objeto de retorno de dentro da classe."
   ]
  },
  {
   "attachments": {},
   "cell_type": "markdown",
   "metadata": {},
   "source": [
    "### Os métodos `dunder`\n",
    "\n"
   ]
  },
  {
   "attachments": {},
   "cell_type": "markdown",
   "metadata": {},
   "source": [
    "Observe que acima usamos um método chamado `__init__` com prefixo de dois sublinhados e sufixo de dois sublinhados. Esses métodos com essa notação são especiais e são chamados de `dunder` (vem de *double underscore*, ou duplo sublinhado em português). Existem diversos métodos dunder!\n",
    "\n",
    "Os métodos dunder controlam certos comportamentos da nossa classe. Por exemplo, observe que quando damos `print` em um objeto instanciado de uma classe ele mostra um texto padrão do tipo `<__main__.Material object at 0x7f0d2b57f9a0>`. Quem controla o texto que é exibido é o método dunder `__repr__`. Vamos ver um exemplo.\n",
    "\n"
   ]
  },
  {
   "cell_type": "code",
   "execution_count": 7,
   "metadata": {},
   "outputs": [
    {
     "name": "stdout",
     "output_type": "stream",
     "text": [
      "Material com módulo elástico de 100 GPa.\n"
     ]
    }
   ],
   "source": [
    "class Material:\n",
    "    def __init__(self, modulo_elastico):\n",
    "        self.modulo_elastico = modulo_elastico\n",
    "\n",
    "    def __repr__(self): #Como eu represento isso numa maneira string? A __repr__ é a solução, controla o jeito que seu objeto será apresentado.\n",
    "        return f\"Material com módulo elástico de {self.modulo_elastico} GPa.\" #Alterei o comportamento da minha classe, que seria de como ela mostra para o usuário.\n",
    "\n",
    "modulo_elastico_do_meu_material = 100\n",
    "meu_material = Material(modulo_elastico_do_meu_material)\n",
    "\n",
    "print(meu_material)\n",
    "\n",
    "#Os métodos de dunder são usadas para modificar o comportamento das classes. \n",
    "#Todas as funções dentro da classe são chamadas de métodos."
   ]
  },
  {
   "attachments": {},
   "cell_type": "markdown",
   "metadata": {},
   "source": [
    "### Os métodos que não são `dunder`\n",
    "\n"
   ]
  },
  {
   "attachments": {},
   "cell_type": "markdown",
   "metadata": {},
   "source": [
    "Classes podem ter métodos que não são especiais. Vamos tentar implementar um método que usa a lei de Hook para calcular a tensão aplicada no material ($\\sigma$) dada uma deformação ($\\varepsilon$).\n",
    "\n",
    "$$\n",
    "\\sigma = E \\varepsilon\n",
    "$$\n",
    "\n"
   ]
  },
  {
   "cell_type": "code",
   "execution_count": 8,
   "metadata": {},
   "outputs": [
    {
     "name": "stdout",
     "output_type": "stream",
     "text": [
      "Material com módulo elástico de 250 GPa.\n",
      "500\n",
      "Shai\n"
     ]
    }
   ],
   "source": [
    "class Material:\n",
    "\n",
    "    def __init__(self, modulo_elastico):\n",
    "        self.modulo_elastico = modulo_elastico\n",
    "        self.nome = \"Shai\"\n",
    "\n",
    "    def __repr__(self):\n",
    "        return f\"Material com módulo elástico de {self.modulo_elastico} GPa.\"\n",
    "    \n",
    "    def tensao(self, deformacao): #É uma ação que pode ser implementada nas nossas classes.\n",
    "        valor_tensao = self.modulo_elastico * deformacao\n",
    "        return valor_tensao\n",
    "\n",
    "modulo_elastico_do_meu_material = 250\n",
    "meu_material = Material(modulo_elastico_do_meu_material)\n",
    "\n",
    "deformacao = 2\n",
    "\n",
    "tensao = meu_material.tensao(deformacao)\n",
    "\n",
    "print(meu_material)\n",
    "print(tensao)\n",
    "print(meu_material.nome)"
   ]
  },
  {
   "attachments": {},
   "cell_type": "markdown",
   "metadata": {},
   "source": [
    "### Alterando o estado da nossa classe\n",
    "\n"
   ]
  },
  {
   "attachments": {},
   "cell_type": "markdown",
   "metadata": {},
   "source": [
    "Classes são estruturas de dados onde nos preocupamos com o seu estado. No exemplo acima, nosso material tem uma propriedade chamada de `modulo_elastico`. Digamos que nós podemos aumentar o módulo elástico do nosso material realizando um tratamento térmico. Cada vez que realizamos o tratamento térmico o módulo elástico aumenta em 10%, porém o material só aguenta no máximo 5 tratamentos térmicos. Alterar uma propriedade da nossa classe é alterar seu estado. Podemos adicionar esse processo de tratamento térmico na nossa classe.\n",
    "\n"
   ]
  },
  {
   "cell_type": "code",
   "execution_count": 12,
   "metadata": {},
   "outputs": [
    {
     "name": "stdout",
     "output_type": "stream",
     "text": [
      "Material com módulo elástico de 100 GPa.\n",
      "Material com módulo elástico de 110.00000000000001 GPa.\n",
      "Material com módulo elástico de 121.00000000000003 GPa.\n",
      "Material com módulo elástico de 133.10000000000005 GPa.\n",
      "Material com módulo elástico de 146.41000000000008 GPa.\n",
      "Material com módulo elástico de 161.0510000000001 GPa.\n",
      "Material com módulo elástico de 161.0510000000001 GPa.\n",
      "Material com módulo elástico de 161.0510000000001 GPa.\n",
      "2\n",
      "0\n"
     ]
    }
   ],
   "source": [
    "class Material:\n",
    "    def __init__(self, modulo_elastico):\n",
    "        self.modulo_elastico = modulo_elastico\n",
    "        self.num_tratamentos = 0\n",
    "\n",
    "    def __repr__(self):\n",
    "        return f\"Material com módulo elástico de {self.modulo_elastico} GPa.\"\n",
    "\n",
    "    def tratamento_termico(self):\n",
    "        if self.num_tratamentos < 5:\n",
    "            self.modulo_elastico = self.modulo_elastico * 1.1\n",
    "            self.num_tratamentos = self.num_tratamentos + 1\n",
    "\n",
    "modulo_elastico_do_meu_material = 100\n",
    "meu_material = Material(modulo_elastico_do_meu_material)\n",
    "\n",
    "print(meu_material)\n",
    "\n",
    "meu_material.tratamento_termico()\n",
    "print(meu_material)\n",
    "\n",
    "meu_material.tratamento_termico()\n",
    "print(meu_material)\n",
    "\n",
    "meu_material.tratamento_termico()\n",
    "print(meu_material)\n",
    "\n",
    "meu_material.tratamento_termico()\n",
    "print(meu_material)\n",
    "\n",
    "meu_material.tratamento_termico()\n",
    "print(meu_material)\n",
    "\n",
    "meu_material.tratamento_termico()\n",
    "print(meu_material)\n",
    "\n",
    "meu_material.tratamento_termico()\n",
    "print(meu_material)\n",
    "\n",
    "\n",
    "material_da_thay = Material(2)\n",
    "print(material_da_thay.modulo_elastico)\n",
    "print(material_da_thay.num_tratamentos)"
   ]
  },
  {
   "attachments": {},
   "cell_type": "markdown",
   "metadata": {},
   "source": [
    "### Alterando o estado da nossa classe fora dela\n",
    "\n"
   ]
  },
  {
   "attachments": {},
   "cell_type": "markdown",
   "metadata": {},
   "source": [
    "Em certos casos nós precisamos alterar alguma propriedade da nossa classe fora dela (isto é, fora das linhas de código que foram usadas para definir a classe). Podemos, por exemplo, alterar o módulo elástico do nosso material &ldquo;na mão&rdquo;.\n",
    "\n"
   ]
  },
  {
   "cell_type": "code",
   "execution_count": 10,
   "metadata": {},
   "outputs": [
    {
     "name": "stdout",
     "output_type": "stream",
     "text": [
      "Material com módulo elástico de 100 GPa.\n",
      "Material com módulo elástico de 200 GPa.\n"
     ]
    }
   ],
   "source": [
    "class Material:\n",
    "    def __init__(self, modulo_elastico):\n",
    "        self.modulo_elastico = modulo_elastico\n",
    "        self.num_tratamentos = 0\n",
    "\n",
    "    def __repr__(self):\n",
    "        return f\"Material com módulo elástico de {self.modulo_elastico} GPa.\"\n",
    "\n",
    "modulo_elastico_do_meu_material = 100\n",
    "meu_material = Material(modulo_elastico_do_meu_material)\n",
    "print(meu_material)\n",
    "\n",
    "# alterando a propriedade \"na mão\"\n",
    "meu_material.modulo_elastico = 200\n",
    "print(meu_material)"
   ]
  },
  {
   "attachments": {},
   "cell_type": "markdown",
   "metadata": {},
   "source": [
    "Pense muito bem antes de sair alterando propriedades de classes &ldquo;na mão&rdquo;. Não é uma ação proibida, mas também não é algo que fazemos a todo momento sem justificativa.\n",
    "\n"
   ]
  },
  {
   "attachments": {},
   "cell_type": "markdown",
   "metadata": {},
   "source": [
    "### Testando suas habilidades\n",
    "\n"
   ]
  },
  {
   "attachments": {},
   "cell_type": "markdown",
   "metadata": {},
   "source": [
    "Para testar suas habilidades, modifique a classe `Material` adicionando um novo argumento no método `__init__`, usando ele para criar uma nova propriedade e criando um novo método que altera o estado desta classe.\n",
    "\n"
   ]
  },
  {
   "cell_type": "code",
   "execution_count": 24,
   "metadata": {},
   "outputs": [
    {
     "name": "stdout",
     "output_type": "stream",
     "text": [
      "Material com módulo elástico de 250 GPa., e é feito de Carbono\n"
     ]
    }
   ],
   "source": [
    "class Material:\n",
    "\n",
    "    def __init__(self, modulo_elastico, composicao):\n",
    "        self.modulo_elastico = modulo_elastico\n",
    "        self.composicao = composicao\n",
    "\n",
    "    def __repr__(self):\n",
    "        return f\"Material com módulo elástico de {self.modulo_elastico} GPa., e é feito de {self.composicao}\"\n",
    "    \n",
    "    def altera_composicao(self): #É uma ação que pode ser implementada nas nossas classes.\n",
    "        self.composicao = self.composicao\n",
    "\n",
    "modulo_elastico_do_meu_material, composicao = 250, 'Carbono'\n",
    "meu_material = Material(modulo_elastico_do_meu_material, composicao)\n",
    "\n",
    "\n",
    "print(meu_material)\n"
   ]
  },
  {
   "attachments": {},
   "cell_type": "markdown",
   "metadata": {},
   "source": [
    "## Conclusão\n",
    "\n"
   ]
  },
  {
   "attachments": {},
   "cell_type": "markdown",
   "metadata": {},
   "source": [
    "Nessa aula aprendemos a utilizar classes e estados de objetos em redes neurais. As classes são como \"receitas\" que contêm diversas funções e dados, podendo comportar diversas estruturas para esses dados. As funções dentro das classes são chamadas de métodos. O método init é um dunder pré-definido que serve para guardar informações. As classes podem ter métodos que não são dunders, onde definimos suas regras e sua usabilidade. O self é usado para se referir \"a ele mesmo\", de modo que facilite nossa vida. Na programação, geralmente, preocupamos com as ações, enquanto nas classes, nos preocupamos com os estados do objeto e suas características."
   ]
  },
  {
   "attachments": {},
   "cell_type": "markdown",
   "metadata": {},
   "source": [
    "## Playground\n",
    "\n"
   ]
  },
  {
   "cell_type": "code",
   "execution_count": null,
   "metadata": {},
   "outputs": [],
   "source": []
  }
 ],
 "metadata": {
  "kernelspec": {
   "display_name": "Python 3",
   "language": "python",
   "name": "python3"
  },
  "language_info": {
   "codemirror_mode": {
    "name": "ipython",
    "version": 3
   },
   "file_extension": ".py",
   "mimetype": "text/x-python",
   "name": "python",
   "nbconvert_exporter": "python",
   "pygments_lexer": "ipython3",
   "version": "3.9.7"
  },
  "org": null
 },
 "nbformat": 4,
 "nbformat_minor": 4
}
