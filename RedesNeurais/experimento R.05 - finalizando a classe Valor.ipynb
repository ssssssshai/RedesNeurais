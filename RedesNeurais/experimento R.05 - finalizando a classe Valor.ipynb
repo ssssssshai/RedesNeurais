{
 "cells": [
  {
   "cell_type": "markdown",
   "source": [
    "Finalizando a classe Valor\n",
    "==========================\n",
    "\n"
   ],
   "metadata": {}
  },
  {
   "cell_type": "markdown",
   "source": [
    "## Introdução\n",
    "\n"
   ],
   "metadata": {}
  },
  {
   "cell_type": "markdown",
   "source": [
    "Chegou a hora de finalizar a classe `Valor`!\n",
    "\n"
   ],
   "metadata": {}
  },
  {
   "cell_type": "markdown",
   "source": [
    "## Objetivo\n",
    "\n"
   ],
   "metadata": {}
  },
  {
   "cell_type": "markdown",
   "source": [
    "O objetivo é fazer com que a classe `Valor` seja capaz de realizar algumas operações necessárias para que seja usada na nossa rede neural artificial.\n",
    "\n"
   ],
   "metadata": {}
  },
  {
   "cell_type": "markdown",
   "source": [
    "## Importações\n",
    "\n"
   ],
   "metadata": {}
  },
  {
   "cell_type": "code",
   "execution_count": null,
   "source": [
    "import math"
   ],
   "outputs": [],
   "metadata": {}
  },
  {
   "cell_type": "markdown",
   "source": [
    "## Código e discussão\n",
    "\n"
   ],
   "metadata": {}
  },
  {
   "cell_type": "markdown",
   "source": [
    "### Finalizando a classe `Valor`\n",
    "\n"
   ],
   "metadata": {}
  },
  {
   "cell_type": "markdown",
   "source": [
    "Aqui está a classe `Valor` assim como feita na aula anterior. Vamos modificá-la para cumprir nossos objetivos (ver objetivos na próxima seção).\n",
    "\n"
   ],
   "metadata": {}
  },
  {
   "cell_type": "code",
   "execution_count": null,
   "source": [
    "class Valor:\r\n",
    "    def __init__(self, data, progenitor=(), operador_mae=\"\", rotulo=\"\"):\r\n",
    "        self.data = data\r\n",
    "        self.progenitor = progenitor\r\n",
    "        self.operador_mae = operador_mae\r\n",
    "        self.rotulo = rotulo\r\n",
    "        self.grad = 0\r\n",
    "\r\n",
    "    def __repr__(self):\r\n",
    "        return f\"Valor(data={self.data})\"\r\n",
    "\r\n",
    "    def __add__(self, outro_valor):\r\n",
    "        data = self.data + outro_valor.data\r\n",
    "        progenitor = (self, outro_valor)\r\n",
    "        operador_mae = \"+\"\r\n",
    "        saida = Valor(data, progenitor, operador_mae)\r\n",
    "\r\n",
    "        def propagar_adicao():\r\n",
    "            self.grad += saida.grad * 1\r\n",
    "            outro_valor.grad += saida.grad * 1\r\n",
    "\r\n",
    "        saida.propagar = propagar_adicao\r\n",
    "\r\n",
    "        return saida\r\n",
    "\r\n",
    "    def __mul__(self, outro_valor):\r\n",
    "        data = self.data * outro_valor.data\r\n",
    "        progenitor = (self, outro_valor)\r\n",
    "        operador_mae = \"*\"\r\n",
    "        saida = Valor(data, progenitor, operador_mae)\r\n",
    "\r\n",
    "        def propagar_multiplicacao():\r\n",
    "            self.grad += saida.grad * outro_valor.data\r\n",
    "            outro_valor.grad += saida.grad * self.data\r\n",
    "\r\n",
    "        saida.propagar = propagar_multiplicacao\r\n",
    "\r\n",
    "        return saida\r\n",
    "\r\n",
    "    def propagar(self):\r\n",
    "        pass\r\n",
    "\r\n",
    "    def propagar_tudo(self):\r\n",
    "        ordem_topologica = []\r\n",
    "        visitados = set()\r\n",
    "\r\n",
    "        def constroi_ordem_topologica(v):\r\n",
    "            if v not in visitados:\r\n",
    "                visitados.add(v)\r\n",
    "                for progenitor in v.progenitor:\r\n",
    "                    constroi_ordem_topologica(progenitor)\r\n",
    "                ordem_topologica.append(v)\r\n",
    "\r\n",
    "        constroi_ordem_topologica(self)\r\n",
    "\r\n",
    "        self.grad = 1  # o gradiente do vértice folha deve ser 1\r\n",
    "\r\n",
    "        for v in reversed(ordem_topologica):\r\n",
    "            v.propagar()\r\n",
    "\r\n",
    "#Até aqui nossa classe consegue fazer o backpropagation, plotar os grafos e também consegue fazer duas operações matemáticas: adição e multiplicação."
   ],
   "outputs": [],
   "metadata": {}
  },
  {
   "cell_type": "markdown",
   "source": [
    "### Objetivos a serem cumpridos\n",
    "\n"
   ],
   "metadata": {}
  },
  {
   "cell_type": "markdown",
   "source": [
    "Quero poder acidionar uma instância de `Valor` com uma constante qualquer.\n",
    "\n"
   ],
   "metadata": {}
  },
  {
   "cell_type": "code",
   "execution_count": null,
   "source": [
    "a = Valor(10, rotulo=\"a\")\r\n",
    "b = a + 1\r\n",
    "print(b)"
   ],
   "outputs": [],
   "metadata": {}
  },
  {
   "cell_type": "markdown",
   "source": [
    "Quero poder multiplicar uma instância de `Valor` com uma constante qualquer.\n",
    "\n"
   ],
   "metadata": {}
  },
  {
   "cell_type": "code",
   "execution_count": null,
   "source": [
    "a = Valor(10, rotulo=\"a\")\r\n",
    "b = a * 10\r\n",
    "print(b)"
   ],
   "outputs": [],
   "metadata": {}
  },
  {
   "cell_type": "markdown",
   "source": [
    "Quero poder acidionar uma instância de `Valor` com uma constante qualquer, mas na ordem oposta.\n",
    "\n"
   ],
   "metadata": {}
  },
  {
   "cell_type": "code",
   "execution_count": null,
   "source": [
    "a = Valor(10, rotulo=\"a\")\r\n",
    "b = 1 + a\r\n",
    "print(b)"
   ],
   "outputs": [],
   "metadata": {}
  },
  {
   "cell_type": "markdown",
   "source": [
    "Quero poder multiplicar uma instância de `Valor` com uma constante qualquer, mas na ordem oposta.\n",
    "\n"
   ],
   "metadata": {}
  },
  {
   "cell_type": "code",
   "execution_count": null,
   "source": [
    "a = Valor(10, rotulo=\"a\")\r\n",
    "b = 10 * a\r\n",
    "print(b)"
   ],
   "outputs": [],
   "metadata": {}
  },
  {
   "cell_type": "markdown",
   "source": [
    "Quero poder aplicar a função exponencial ($e^x$) em uma instância de `Valor`, computando corretamente o gradiente local desta operação.\n",
    "\n"
   ],
   "metadata": {}
  },
  {
   "cell_type": "code",
   "execution_count": null,
   "source": [
    "a = Valor(1, rotulo=\"a\")\r\n",
    "b = a.exp()\r\n",
    "print(b)"
   ],
   "outputs": [],
   "metadata": {}
  },
  {
   "cell_type": "markdown",
   "source": [
    "Quero poder elevar uma instância de `Valor` a um número real qualquer. **Nota**: não vai funcionar se fizer um `Valor` elevado a outro `Valor` pois vamos propagar os gradientes apenas considerando que estamos elevando a uma constante qualquer.\n",
    "\n"
   ],
   "metadata": {}
  },
  {
   "cell_type": "code",
   "execution_count": null,
   "source": [
    "a = Valor(10, rotulo=\"a\")\r\n",
    "b = a**2\r\n",
    "print(b)"
   ],
   "outputs": [],
   "metadata": {}
  },
  {
   "cell_type": "markdown",
   "source": [
    "Quero poder dividir uma instância de `Valor` por outra instância de `Valor`.\n",
    "\n"
   ],
   "metadata": {}
  },
  {
   "cell_type": "code",
   "execution_count": null,
   "source": [
    "a = Valor(1, rotulo=\"a\")\r\n",
    "b = Valor(2, rotulo=\"b\")\r\n",
    "c = a / b\r\n",
    "print(c)"
   ],
   "outputs": [],
   "metadata": {}
  },
  {
   "cell_type": "markdown",
   "source": [
    "Quero poder computar o negativo de uma instância de `Valor`.\n",
    "\n"
   ],
   "metadata": {}
  },
  {
   "cell_type": "code",
   "execution_count": null,
   "source": [
    "a = Valor(1, rotulo=\"a\")\r\n",
    "b = -a\r\n",
    "print(b)"
   ],
   "outputs": [],
   "metadata": {}
  },
  {
   "cell_type": "markdown",
   "source": [
    "Quero poder subtrair uma instância de `Valor` por outra instância de `Valor`.\n",
    "\n"
   ],
   "metadata": {}
  },
  {
   "cell_type": "code",
   "execution_count": null,
   "source": [
    "a = Valor(10, rotulo=\"a\")\r\n",
    "b = Valor(3, rotulo=\"b\")\r\n",
    "c = a - b\r\n",
    "print(c)"
   ],
   "outputs": [],
   "metadata": {}
  },
  {
   "cell_type": "markdown",
   "source": [
    "E, finalmente, quero poder aplicar a função sigmoide (também conhecida como logística) a uma instância de `Valor`. A função sigmoide é a seguinte:\n",
    "\n",
    "$$\n",
    "S(x) = \\frac{e^x}{e^x + 1}\n",
    "$$\n",
    "\n"
   ],
   "metadata": {}
  },
  {
   "cell_type": "code",
   "execution_count": null,
   "source": [
    "a = Valor(1, rotulo=\"a\")\r\n",
    "b = a.sig()\r\n",
    "print(b)"
   ],
   "outputs": [],
   "metadata": {}
  },
  {
   "cell_type": "markdown",
   "source": [
    "## Conclusão\n",
    "\n"
   ],
   "metadata": {}
  },
  {
   "cell_type": "markdown",
   "source": [
    "## Playground\n",
    "\n"
   ],
   "metadata": {}
  },
  {
   "cell_type": "code",
   "execution_count": null,
   "source": [],
   "outputs": [],
   "metadata": {}
  }
 ],
 "metadata": {
  "kernelspec": {
   "display_name": "ilumpy",
   "language": "python",
   "name": "ilumpy"
  },
  "language_info": {
   "codemirror_mode": {
    "name": "ipython",
    "version": 3
   },
   "file_extension": ".py",
   "mimetype": "text/x-python",
   "name": "python",
   "nbconvert_exporter": "python",
   "pygments_lexer": "ipython3",
   "version": "3.10.6"
  },
  "org": null
 },
 "nbformat": 4,
 "nbformat_minor": 4
}