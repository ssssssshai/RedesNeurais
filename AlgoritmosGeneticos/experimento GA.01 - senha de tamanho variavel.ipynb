{
 "cells": [
  {
   "attachments": {},
   "cell_type": "markdown",
   "metadata": {},
   "source": [
    "A senha de tamanho variável\n",
    "========================================\n",
    "\n"
   ]
  },
  {
   "cell_type": "markdown",
   "metadata": {},
   "source": [
    "## Introdução\n",
    "\n"
   ]
  },
  {
   "attachments": {},
   "cell_type": "markdown",
   "metadata": {},
   "source": [
    "xxx"
   ]
  },
  {
   "cell_type": "markdown",
   "metadata": {},
   "source": [
    "## Objetivo\n",
    "\n"
   ]
  },
  {
   "attachments": {},
   "cell_type": "markdown",
   "metadata": {},
   "source": [
    "x\n"
   ]
  },
  {
   "cell_type": "markdown",
   "metadata": {},
   "source": [
    "## Importações\n",
    "\n"
   ]
  },
  {
   "cell_type": "markdown",
   "metadata": {},
   "source": [
    "Todos os comandos de `import` devem estar dentro desta seção.\n",
    "\n"
   ]
  },
  {
   "cell_type": "code",
   "execution_count": 18,
   "metadata": {},
   "outputs": [],
   "source": [
    "from funcoes import populacao_inical_senhavariavel as populacao_inicial\n",
    "from funcoes import funcao_objetivo_senhavariavel as funcao_objetivo\n",
    "from funcoes import selecao_senhavariavel\n",
    "from funcoes import cruzamento_simples_senhavariavel as funcao_cruzamento\n",
    "from funcoes import mutacao_senhavariavel\n",
    "import random"
   ]
  },
  {
   "cell_type": "markdown",
   "metadata": {},
   "source": [
    "## Códigos e discussão\n",
    "\n"
   ]
  },
  {
   "cell_type": "code",
   "execution_count": 19,
   "metadata": {},
   "outputs": [],
   "source": [
    "# CONSTANTES\n",
    "\n",
    "#Constantes relacionadas à busca:\n",
    "\n",
    "TAMANHO_POPULACAO = 10\n",
    "TAMANHO_TORNEIO = 3\n",
    "CHANCE_CRUZAMENTO = 0.5\n",
    "CHANCE_MUTACAO = 0.05\n",
    "\n",
    "# Constantes relacionadas ao problema que será resolvido:\n",
    "\n",
    "SENHA_REAL = 'KimPetrasNoTheThown'\n",
    "LETRAS = 'abcdefghijqlmnopqrstuvwxyzABCDEFGHIJQLMNOPQRSTUVWXYZ'\n",
    "TAMANHO_SENHA_MAX = 100\n",
    "PENALIDADE = 100"
   ]
  },
  {
   "cell_type": "code",
   "execution_count": 20,
   "metadata": {},
   "outputs": [],
   "source": [
    "#Funções que serão utilizadas somente nesse experimento:\n",
    "\n",
    "def cria_populacao_inicial(tamanho_populacao, tamanho_senha_max):\n",
    "    return populacao_inicial(tamanho_populacao, tamanho_senha_max, LETRAS)\n",
    "\n",
    "def funcao_objetivo_pop(populacao):\n",
    "    return funcao_objetivo(populacao, SENHA_REAL, PENALIDADE)\n",
    "\n",
    "def funcao_selecao(populacao, fitness):\n",
    "    return selecao_senhavariavel(populacao, fitness, TAMANHO_TORNEIO)\n",
    "\n",
    "def funcao_mutacao(individuo):\n",
    "    return mutacao_senhavariavel(individuo, LETRAS, TAMANHO_SENHA_MAX)"
   ]
  },
  {
   "cell_type": "code",
   "execution_count": 21,
   "metadata": {},
   "outputs": [
    {
     "name": "stdout",
     "output_type": "stream",
     "text": [
      "[['l', 'q', 'r', 'O', 'n', 's', 'y', 'h', 't', 'Z', 'm', 'y', 'J', 'E', 'h', 'h', 'J'], ['V', 'o', 'C', 'P', 'D', 'a', 'A', 'W', 'F', 'U', 'u', 'l', 't', 'l', 'Y', 'u', 'C', 'W', 'u', 'R', 'e', 'b', 'y', 'O', 'd', 'D', 's', 'y', 't', 's', 'Z', 'J', 'T', 'q', 't', 'X', 'x', 'w', 't', 'B', 'R', 'u', 'G', 'M', 'Z', 'g', 'S', 'w', 'e', 'j', 'O', 'S', 'a', 'b', 'w', 'X', 'm', 'D', 'X', 'M', 'R', 's', 'n', 'z', 't', 'Q', 'Y', 's', 'N', 'h', 'O', 'd', 'B', 'D', 'E', 'r', 'u', 'e', 'q', 'e', 'N', 'f', 'q', 'R', 'c', 't', 'G', 'n', 'z', 'w', 's', 'F', 'P', 'e'], ['o', 'F', 'u', 'Y', 'R', 'U', 'a', 'B', 'z', 'Q', 'x', 's', 'F', 'B', 'J', 'N', 'E', 'g', 'L', 'C', 'p', 'a', 'V', 'O', 'm', 'R', 'i', 't', 'm', 'm'], ['D', 'B', 'o', 'e', 'U', 'u', 'G', 'r', 'U', 'a', 'p', 'v', 'b', 'N', 'm', 'U', 'D', 'Y', 'W', 'I', 'X', 'L', 'Y', 'D', 'C', 'a', 'l', 'W', 'H', 'Q', 'L', 'I', 'G', 'P', 'm', 's', 'f', 'q', 'O', 'W', 'g', 'X', 's', 'O', 'i', 'R', 'I', 't', 'V', 'n', 'e', 'D', 'j', 'H', 'd', 'f', 'I', 'i', 'O', 'z', 'q', 'c', 'R', 'B', 's', 'B', 'r', 'S', 'p', 'c', 'H', 'J', 'E', 'y', 'f', 'P', 'i', 'w', 'B', 'O', 'z', 'W', 'b', 'u', 'p', 'W', 'R', 'h', 'y', 'L', 'V', 'd'], ['P', 'X', 'i', 'x', 'L', 'c', 'C', 'c', 's', 'c', 'g', 'u', 'U', 'h', 'E', 'H', 'm', 'i', 'O', 'x', 'T', 'm', 'b', 'o', 'G', 's', 'V', 'F', 'l', 'F', 'Y', 'Q', 'x', 'f', 'C', 'd', 'I', 's', 'W', 'a', 'D', 'I', 'i', 'C', 'g', 'z', 'M', 't', 'n', 'd', 'A', 'd', 'L', 'x', 'g', 'r', 'e', 'z', 'F', 'i', 'Q', 'B', 'h', 'Q', 'r', 'E', 'u', 'D', 'm', 'H', 'u', 'C', 'I', 'q', 'E', 'G', 'L', 'P', 'h', 'v', 'n', 'E', 'p', 'e', 'H', 'V', 'i', 'Q', 'q', 'J', 'u', 'l', 'i', 't'], ['f', 'T', 'h', 'm', 'a', 'g', 'I', 'S', 'E', 'w', 'd', 'g', 'm', 'Z', 'Z', 'L', 'j', 'l', 'j', 's', 'u', 'D', 'g', 'R', 'q', 'x', 'N', 'v', 'o', 'v', 'B', 'i', 'F', 'E', 'D', 'X', 'M', 'J', 'a', 'L', 'M', 'q', 'B', 'y', 'l', 'p', 'q', 'Z', 'M', 'L', 'h', 'q', 'V', 'l', 'w', 'E', 'q', 'Y', 'w', 'x', 'L', 'C', 'i', 'p', 'T', 'R', 'l', 'I', 'P', 'h', 'U', 'S', 't', 'L', 'H', 'I', 'U', 'r', 'q', 'C', 'r', 'i', 'Z', 'Q', 'Y', 'D', 'Q', 'B'], ['I', 'z', 'S', 'W', 'T', 'h', 'Q', 'i', 'c', 'w', 'q', 'X', 'r', 'L', 'g', 'o', 'a', 'a', 'a', 'h', 'Q', 'r', 'b', 'X', 'y', 'd', 'x', 'P', 'q', 'h', 'Q', 'U', 'A'], ['b', 'S', 'M', 'Q', 'D', 'V', 'v', 'w', 'L', 't', 'G', 'G', 'P', 'x', 'N', 'A', 'I', 'q', 'W', 'x', 'D', 'x', 'H', 'g', 'z', 'B', 'h', 'l', 'N', 'P', 'A', 'q', 's', 'T', 'N', 'w', 'I', 'C', 'l', 'U', 'F', 'o', 'j', 'Z', 'w', 'U', 'Q', 'm', 'r', 'b', 'Q', 'B', 'J', 'u', 's', 'G', 'O', 'T', 'b', 'h', 'v', 'b', 'F', 'c', 'h', 'j', 'W', 'M', 'E'], ['T', 'J', 'F', 'J', 'f', 'C', 'P', 'H'], ['Q', 'Q', 'P', 'F', 'a', 'r', 'N', 'P', 'R', 'R', 'L', 's', 'T', 'N', 'T', 'E', 'B', 'a', 'q', 'w', 'l', 'Z', 'a', 'x', 'n', 'o', 'Q', 'T', 'O', 'q', 'a', 'r', 's', 'T', 'l', 'Y', 'r', 'e', 'A', 'G', 'f', 'R', 'V', 'b', 'Q', 'A', 'j', 'z', 'T', 'h', 'q', 'u', 'W', 'x', 'H', 'a', 'o', 'W', 'L', 'm', 'J', 's', 'G', 'o', 'W', 'Y', 'q', 'S', 'P', 'N', 'h', 'l', 'v', 'j', 'R', 'I', 'W', 'G', 'Q', 'P', 'N', 'f', 'Y', 'F', 'o', 'B', 'h', 'c', 'q', 'l', 'E', 'p', 'M', 'G', 'D', 'u']]\n",
      "Progresso da melhor senha já vista:\n"
     ]
    },
    {
     "ename": "RecursionError",
     "evalue": "maximum recursion depth exceeded",
     "output_type": "error",
     "traceback": [
      "\u001b[1;31m---------------------------------------------------------------------------\u001b[0m",
      "\u001b[1;31mRecursionError\u001b[0m                            Traceback (most recent call last)",
      "Cell \u001b[1;32mIn[21], line 12\u001b[0m\n\u001b[0;32m      8\u001b[0m num_gen \u001b[39m=\u001b[39m \u001b[39m1\u001b[39m\n\u001b[0;32m     10\u001b[0m \u001b[39mwhile\u001b[39;00m melhor_fitness_ja_visto \u001b[39m!=\u001b[39m \u001b[39m0\u001b[39m:    \n\u001b[0;32m     11\u001b[0m     \u001b[39m# Seleção\u001b[39;00m\n\u001b[1;32m---> 12\u001b[0m     fitness \u001b[39m=\u001b[39m funcao_objetivo_pop(populacao)\n\u001b[0;32m     13\u001b[0m     populacao \u001b[39m=\u001b[39m funcao_selecao(populacao, fitness)\n\u001b[0;32m     15\u001b[0m     \u001b[39m# Cruzamento\u001b[39;00m\n",
      "Cell \u001b[1;32mIn[20], line 7\u001b[0m, in \u001b[0;36mfuncao_objetivo_pop\u001b[1;34m(populacao)\u001b[0m\n\u001b[0;32m      6\u001b[0m \u001b[39mdef\u001b[39;00m \u001b[39mfuncao_objetivo_pop\u001b[39m(populacao):\n\u001b[1;32m----> 7\u001b[0m     \u001b[39mreturn\u001b[39;00m funcao_objetivo(populacao, SENHA_REAL, PENALIDADE)\n",
      "File \u001b[1;32mc:\\Users\\shaian220071\\OneDrive - CNPEM - Centro Nacional de Pesquisa em Energia e Materiais\\Área de Trabalho\\RedesNeurais\\AlgoritmosGeneticos\\funcoes.py:439\u001b[0m, in \u001b[0;36mfuncao_objetivo_senhavariavel\u001b[1;34m(populacao, senha_verdadeira, penalidade)\u001b[0m\n\u001b[0;32m    436\u001b[0m fitness \u001b[39m=\u001b[39m []\n\u001b[0;32m    438\u001b[0m \u001b[39mfor\u001b[39;00m individuo \u001b[39min\u001b[39;00m populacao:\n\u001b[1;32m--> 439\u001b[0m     fitness\u001b[39m.\u001b[39mappend(funcao_objetivo_senhavariavel(individuo, senha_verdadeira, penalidade))\n\u001b[0;32m    441\u001b[0m \u001b[39mreturn\u001b[39;00m fitness\n",
      "File \u001b[1;32mc:\\Users\\shaian220071\\OneDrive - CNPEM - Centro Nacional de Pesquisa em Energia e Materiais\\Área de Trabalho\\RedesNeurais\\AlgoritmosGeneticos\\funcoes.py:439\u001b[0m, in \u001b[0;36mfuncao_objetivo_senhavariavel\u001b[1;34m(populacao, senha_verdadeira, penalidade)\u001b[0m\n\u001b[0;32m    436\u001b[0m fitness \u001b[39m=\u001b[39m []\n\u001b[0;32m    438\u001b[0m \u001b[39mfor\u001b[39;00m individuo \u001b[39min\u001b[39;00m populacao:\n\u001b[1;32m--> 439\u001b[0m     fitness\u001b[39m.\u001b[39mappend(funcao_objetivo_senhavariavel(individuo, senha_verdadeira, penalidade))\n\u001b[0;32m    441\u001b[0m \u001b[39mreturn\u001b[39;00m fitness\n",
      "    \u001b[1;31m[... skipping similar frames: funcao_objetivo_senhavariavel at line 439 (2970 times)]\u001b[0m\n",
      "File \u001b[1;32mc:\\Users\\shaian220071\\OneDrive - CNPEM - Centro Nacional de Pesquisa em Energia e Materiais\\Área de Trabalho\\RedesNeurais\\AlgoritmosGeneticos\\funcoes.py:439\u001b[0m, in \u001b[0;36mfuncao_objetivo_senhavariavel\u001b[1;34m(populacao, senha_verdadeira, penalidade)\u001b[0m\n\u001b[0;32m    436\u001b[0m fitness \u001b[39m=\u001b[39m []\n\u001b[0;32m    438\u001b[0m \u001b[39mfor\u001b[39;00m individuo \u001b[39min\u001b[39;00m populacao:\n\u001b[1;32m--> 439\u001b[0m     fitness\u001b[39m.\u001b[39mappend(funcao_objetivo_senhavariavel(individuo, senha_verdadeira, penalidade))\n\u001b[0;32m    441\u001b[0m \u001b[39mreturn\u001b[39;00m fitness\n",
      "\u001b[1;31mRecursionError\u001b[0m: maximum recursion depth exceeded"
     ]
    }
   ],
   "source": [
    "populacao = cria_populacao_inicial(TAMANHO_POPULACAO, TAMANHO_SENHA_MAX)\n",
    "\n",
    "print(populacao)\n",
    "\n",
    "melhor_fitness_ja_visto = float(\"inf\")  \n",
    "\n",
    "print(\"Progresso da melhor senha já vista:\")\n",
    "num_gen = 1\n",
    "\n",
    "while melhor_fitness_ja_visto != 0:    \n",
    "    # Seleção\n",
    "    fitness = funcao_objetivo_pop(populacao)\n",
    "    populacao = funcao_selecao(populacao, fitness)\n",
    "    \n",
    "    # Cruzamento\n",
    "    pais = populacao[0::2]\n",
    "    maes = populacao[1::2]\n",
    "    \n",
    "    contador = 0\n",
    "    \n",
    "    for pai, mae in zip(pais, maes):\n",
    "        if random.random() <= CHANCE_CRUZAMENTO:\n",
    "            filho1, filho2 = funcao_cruzamento(pai, mae)\n",
    "            populacao[contador] = filho1\n",
    "            populacao[contador + 1] = filho2\n",
    "        \n",
    "        contador = contador + 2   \n",
    "        \n",
    "    # Mutação\n",
    "    for n in range(len(populacao)):\n",
    "        if random.random() <= CHANCE_MUTACAO:\n",
    "            individuo = populacao[n]\n",
    "            populacao[n] = funcao_mutacao(individuo)            \n",
    "            \n",
    "    # melhor individuo já visto até agora\n",
    "    fitness = funcao_objetivo_pop(populacao)\n",
    "    menor_fitness = min(fitness)\n",
    "    if menor_fitness < melhor_fitness_ja_visto:        \n",
    "        posicao = fitness.index(menor_fitness)\n",
    "        melhor_individuo_ja_visto = populacao[posicao]\n",
    "        melhor_fitness_ja_visto = menor_fitness\n",
    "        string_individuo = ''.join(melhor_individuo_ja_visto)\n",
    "        print(f'Geração: {num_gen:10} - Indivíduo: {string_individuo:80} - fitness: {melhor_fitness_ja_visto}')\n",
    "    num_gen += 1\n",
    "\n",
    "\n",
    "print()\n",
    "print(\"Melhor palpite da senha encontrado:\")\n",
    "print(\"\".join(melhor_individuo_ja_visto))"
   ]
  },
  {
   "cell_type": "markdown",
   "metadata": {},
   "source": [
    "## Conclusão\n",
    "\n"
   ]
  },
  {
   "cell_type": "markdown",
   "metadata": {},
   "source": [
    "Delete este texto e escreva sua conclusão.\n",
    "\n"
   ]
  },
  {
   "cell_type": "markdown",
   "metadata": {},
   "source": [
    "## Referências consultadas\n",
    "\n"
   ]
  },
  {
   "cell_type": "markdown",
   "metadata": {},
   "source": [
    "1.  Delete este texto e inclua suas referências ordenadas numericamente. Se for referenciar no notebook, use o número entre colchetes (exemplo: para citar essa referência aqui escreva &ldquo;[1]&rdquo; sem as áspas).\n",
    "\n",
    "2.  Cada item deve ser numerado. Siga o padrão apresentado.\n",
    "\n",
    "3.  Caso não tenha nenhuma referência consultada, delete esta seção e o texto contido nela!\n",
    "\n"
   ]
  },
  {
   "cell_type": "markdown",
   "metadata": {},
   "source": [
    "## Playground\n",
    "\n"
   ]
  },
  {
   "cell_type": "markdown",
   "metadata": {},
   "source": [
    "Todo código de teste que não faz parte do seu experimento deve vir aqui. Este código não será considerado na avaliação.\n",
    "\n"
   ]
  },
  {
   "cell_type": "code",
   "execution_count": null,
   "metadata": {},
   "outputs": [],
   "source": []
  }
 ],
 "metadata": {
  "kernelspec": {
   "display_name": "ilumpy",
   "language": "python",
   "name": "python3"
  },
  "language_info": {
   "codemirror_mode": {
    "name": "ipython",
    "version": 3
   },
   "file_extension": ".py",
   "mimetype": "text/x-python",
   "name": "python",
   "nbconvert_exporter": "python",
   "pygments_lexer": "ipython3",
   "version": "3.11.2"
  },
  "org": null
 },
 "nbformat": 4,
 "nbformat_minor": 4
}
