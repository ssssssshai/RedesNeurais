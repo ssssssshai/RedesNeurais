{
 "cells": [
  {
   "attachments": {},
   "cell_type": "markdown",
   "metadata": {},
   "source": [
    "A senha de tamanho variável\n",
    "========================================\n",
    "\n"
   ]
  },
  {
   "cell_type": "markdown",
   "metadata": {},
   "source": [
    "## Introdução\n",
    "\n"
   ]
  },
  {
   "attachments": {},
   "cell_type": "markdown",
   "metadata": {},
   "source": [
    "No experimento A.05 realizamos a descoberta de senhas, porém, lá definimos qual seria o tamanho dessa senha através do \"NUMERO_GENES = len(SENHA)\", que nos indicava que o tamanho dos genes (caractéres da senha) seriam iguais a quantidade de letras que a senha teria.\n",
    "Aqui, o tamanho da senha é um mistério, e o algoritmo tem que tentar decifrar por si. \n",
    "Podemos utilizar alguams estratégias mas seguiremos com uma penalidade para que, cada vez que ele erra, da próxima vez não cometer o mesmo erro."
   ]
  },
  {
   "cell_type": "markdown",
   "metadata": {},
   "source": [
    "## Objetivo\n",
    "\n"
   ]
  },
  {
   "attachments": {},
   "cell_type": "markdown",
   "metadata": {},
   "source": [
    "Usar um algoritmo genético para descobrir uma senha de tamanho variável.\n",
    "\n",
    "\n"
   ]
  },
  {
   "cell_type": "markdown",
   "metadata": {},
   "source": [
    "## Importações\n",
    "\n"
   ]
  },
  {
   "cell_type": "markdown",
   "metadata": {},
   "source": [
    "Todos os comandos de `import` devem estar dentro desta seção.\n",
    "\n"
   ]
  },
  {
   "cell_type": "code",
   "execution_count": 6,
   "metadata": {},
   "outputs": [],
   "source": [
    "from funcoes import populacao_inical_senhavariavel as populacao_inicial\n",
    "from funcoes import funcao_objetivo_senhavariavel as funcao_objetivo\n",
    "from funcoes import selecao_senhavariavel\n",
    "from funcoes import cruzamento_simples_senhavariavel as funcao_cruzamento\n",
    "from funcoes import mutacao_senhavariavel\n",
    "import random\n",
    "\n",
    "#Parte das importações das funções do arquivo funções.py."
   ]
  },
  {
   "cell_type": "markdown",
   "metadata": {},
   "source": [
    "## Códigos e discussão\n",
    "\n"
   ]
  },
  {
   "cell_type": "code",
   "execution_count": 7,
   "metadata": {},
   "outputs": [],
   "source": [
    "#CONSTANTES\n",
    "\n",
    "#Constantes relacionadas à busca:\n",
    "\n",
    "TAMANHO_POPULACAO = 10\n",
    "TAMANHO_TORNEIO = 3\n",
    "CHANCE_CRUZAMENTO = 0.5\n",
    "CHANCE_MUTACAO = 0.05\n",
    "\n",
    "#Constantes relacionadas ao problema que será resolvido:\n",
    "\n",
    "SENHA_REAL = 'Kim Petras' #Senha de \"entrada\".\n",
    "LETRAS = 'abcdefghijqlmnopqrstuvwxyzABCDEFGHIJQLKMNOPQRSTUVWXYZ ' #Possibilidades a serem testadas, uma lista de elementos que contenha os caracteres usados na senha, incluindo espaço.\n",
    "TAMANHO_SENHA_MAX = 100 #Ponto de partida do algoritmo, o valor máximo que ele pode assumir de elementos para ir tentando acertar o tamanho da senha.\n",
    "PENALIDADE = 100 #O quanto o algoritmo será punido quando cometer um erro (colocar caractere errado, em excesso, etc.)."
   ]
  },
  {
   "cell_type": "code",
   "execution_count": 8,
   "metadata": {},
   "outputs": [],
   "source": [
    "#Funções que serão utilizadas somente nesse experimento:\n",
    "\n",
    "def cria_populacao_inicial(tamanho_populacao, tamanho_senha_max):\n",
    "    return populacao_inicial(tamanho_populacao, tamanho_senha_max, LETRAS)\n",
    "\n",
    "def funcao_objetivo_pop(populacao):\n",
    "    return funcao_objetivo(populacao, SENHA_REAL, PENALIDADE)\n",
    "\n",
    "def funcao_selecao(populacao, fitness):\n",
    "    return selecao_senhavariavel(populacao, fitness, TAMANHO_TORNEIO)\n",
    "\n",
    "def funcao_mutacao(individuo):\n",
    "    return mutacao_senhavariavel(individuo, LETRAS, TAMANHO_SENHA_MAX)"
   ]
  },
  {
   "cell_type": "code",
   "execution_count": 9,
   "metadata": {},
   "outputs": [
    {
     "name": "stdout",
     "output_type": "stream",
     "text": [
      "Progresso da melhor senha já vista:\n",
      "Geração:          1 - Indivíduo: hbLvHeSJUdfCd VL                                                                 - fitness: 863\n",
      "Geração:          3 - Indivíduo: ZpUuHeSJUdfCd VL                                                                 - fitness: 839\n",
      "Geração:         21 - Indivíduo: VpUuHeSJUdfCd VL                                                                 - fitness: 835\n",
      "Geração:         22 - Indivíduo: VpUnHeSJUdfCd VL                                                                 - fitness: 828\n",
      "Geração:         28 - Indivíduo: VpUnHeSJUifCd VL                                                                 - fitness: 823\n",
      "Geração:         36 - Indivíduo: VpUnHevJUifCd VL                                                                 - fitness: 792\n",
      "Geração:         41 - Indivíduo: VpUnHevpUifCd VL                                                                 - fitness: 754\n",
      "Geração:         42 - Indivíduo: VpUnHevpUifCd                                                                    - fitness: 554\n",
      "Geração:         65 - Indivíduo: VpUnHevpcifCd                                                                    - fitness: 544\n",
      "Geração:         82 - Indivíduo: QpUnHevpcifCd                                                                    - fitness: 539\n",
      "Geração:        111 - Indivíduo: QpUnHevp                                                                         - fitness: 327\n",
      "Geração:        136 - Indivíduo: QpUKHevp                                                                         - fitness: 292\n",
      "Geração:        146 - Indivíduo: QppKHevp                                                                         - fitness: 271\n",
      "Geração:        167 - Indivíduo: QppFHevp                                                                         - fitness: 266\n",
      "Geração:        211 - Indivíduo: QppFOevp                                                                         - fitness: 259\n",
      "Geração:        287 - Indivíduo: QppEOevp                                                                         - fitness: 258\n",
      "Geração:        291 - Indivíduo: LppEOevp                                                                         - fitness: 253\n",
      "Geração:        294 - Indivíduo: LppEOevpvXC                                                                      - fitness: 201\n",
      "Geração:        331 - Indivíduo: LppEPevpvXC                                                                      - fitness: 200\n",
      "Geração:        415 - Indivíduo: LppEPevpvjC                                                                      - fitness: 182\n",
      "Geração:        434 - Indivíduo: LipEPevpvjC                                                                      - fitness: 175\n",
      "Geração:        454 - Indivíduo: LipEPevpajC                                                                      - fitness: 154\n",
      "Geração:        561 - Indivíduo: LipEPevparv                                                                      - fitness: 146\n",
      "Geração:        623 - Indivíduo: LimEPevparv                                                                      - fitness: 143\n",
      "Geração:        810 - Indivíduo: LimEPevpa                                                                        - fitness: 142\n",
      "Geração:        849 - Indivíduo: LimEPevqa                                                                        - fitness: 141\n",
      "Geração:        890 - Indivíduo: LimEPevra                                                                        - fitness: 140\n",
      "Geração:        973 - Indivíduo: LimEPevraY                                                                       - fitness: 66\n",
      "Geração:       1040 - Indivíduo: LimAPevraY                                                                       - fitness: 62\n",
      "Geração:       1048 - Indivíduo: Lim PevraY                                                                       - fitness: 29\n",
      "Geração:       1079 - Indivíduo: Lim Pevraq                                                                       - fitness: 5\n",
      "Geração:       1533 - Indivíduo: Lim Pesraq                                                                       - fitness: 4\n",
      "Geração:       1634 - Indivíduo: Lim Petraq                                                                       - fitness: 3\n",
      "Geração:       2162 - Indivíduo: Kim Petraq                                                                       - fitness: 2\n",
      "Geração:       2374 - Indivíduo: Kim Petrat                                                                       - fitness: 1\n",
      "Geração:       3122 - Indivíduo: Kim Petras                                                                       - fitness: 0\n",
      "\n",
      "Melhor palpite da senha encontrado:\n",
      "Kim Petras\n"
     ]
    }
   ],
   "source": [
    "#Parte da implementação da busca por algoritmos genéticos, usando o mesmo mecanismo (com alterações leves) do problema A.05:\n",
    "populacao = cria_populacao_inicial(TAMANHO_POPULACAO, TAMANHO_SENHA_MAX) #Note que aqui, ao invés do número de genes, que seriam o número de caracteres exatos, colocamos o tamanho máximo que a senha pode assumir.\n",
    "\n",
    "melhor_fitness_ja_visto = float(\"inf\")  \n",
    "\n",
    "print(\"Progresso da melhor senha já vista:\") #Essa parte serve para anlisarmos quantas vezes o algoritmo tentou realizar a busca até acertar.\n",
    "num_gen = 1\n",
    "\n",
    "while melhor_fitness_ja_visto != 0: #Enquanto o fitness for diferente de zero, executaremos as etapas a seguir: \n",
    "    #Parte da seleção:\n",
    "    fitness = funcao_objetivo_pop(populacao)\n",
    "    populacao = funcao_selecao(populacao, fitness)\n",
    "    \n",
    "    #Parte do cruzamento:\n",
    "    pais = populacao[0::2]\n",
    "    maes = populacao[1::2]\n",
    "    \n",
    "    contador = 0\n",
    "    \n",
    "    for pai, mae in zip(pais, maes):\n",
    "        if random.random() <= CHANCE_CRUZAMENTO:\n",
    "            filho1, filho2 = funcao_cruzamento(pai, mae)\n",
    "            populacao[contador] = filho1\n",
    "            populacao[contador + 1] = filho2\n",
    "        \n",
    "        contador = contador + 2   \n",
    "        \n",
    "    #Parte da mutação:\n",
    "    for n in range(len(populacao)):\n",
    "        if random.random() <= CHANCE_MUTACAO:\n",
    "            individuo = populacao[n]\n",
    "            populacao[n] = funcao_mutacao(individuo)            \n",
    "            \n",
    "    #Escolha do melhor individuo já visto até agora:\n",
    "    fitness = funcao_objetivo_pop(populacao)\n",
    "    menor_fitness = min(fitness)\n",
    "    if menor_fitness < melhor_fitness_ja_visto:        \n",
    "        posicao = fitness.index(menor_fitness)\n",
    "        melhor_individuo_ja_visto = populacao[posicao]\n",
    "        melhor_fitness_ja_visto = menor_fitness\n",
    "        string_individuo = ''.join(melhor_individuo_ja_visto)\n",
    "        print(f'Geração: {num_gen:10} - Indivíduo: {string_individuo:80} - fitness: {melhor_fitness_ja_visto}') #Print com o número das gerações necessárias para adivinhar a senha, qual a senha (indivíduo) e a contagem dos fitness. Note que quando o fitness chega a 0 é quando acahmos nossa senha ideal, como definido no começo do nosso loop.\n",
    "    num_gen += 1\n",
    "    \n",
    "print()\n",
    "print(\"Melhor palpite da senha encontrado:\")\n",
    "print(\"\".join(melhor_individuo_ja_visto))"
   ]
  },
  {
   "cell_type": "markdown",
   "metadata": {},
   "source": [
    "## Conclusão\n",
    "\n"
   ]
  },
  {
   "attachments": {},
   "cell_type": "markdown",
   "metadata": {},
   "source": [
    "Utilizei a penalidade para ele \"aprender\" que colocou uma letra num lugar que não deveria estar. Com uma penalidade maior ou uma senha menor com espaçamento fica muito visivel ver esse trabalho que ele tem de corrigir onde era para ser um espaço.\n",
    "Basicamente, é a mesma coisa que concluimos no experimento A.05: Como se fosse um hacker girando várias letrinhas, porém, aqui, quando tem um espaço você tem uma letra \"em branco\" que pode ser considerada o espaço.\n",
    "Outro ponto interessante é notar a correção das letras minúsculas pelas maiúsculas, que deve ser no mesmo mecanismo de girar as opções (letras).\n",
    "\n",
    "É um método meio exaustivo, de certo modo, uma vez que se você tem uma lista com 10 letras, e uma senha com 5, você tem que testar para os 5 espaços as 10 letras até ser a \"correta\". Dependendo o tamanho da senha demora muito mais tempo, e também da complexidade do símbolo. Essa é basicamente a lição de segurança cibernética para a criação de senhas justificada com nossos experimentos de Algoritmos Genéticos.\n"
   ]
  },
  {
   "cell_type": "markdown",
   "metadata": {},
   "source": [
    "## Referências consultadas\n",
    "\n"
   ]
  },
  {
   "cell_type": "markdown",
   "metadata": {},
   "source": [
    "1.  Delete este texto e inclua suas referências ordenadas numericamente. Se for referenciar no notebook, use o número entre colchetes (exemplo: para citar essa referência aqui escreva &ldquo;[1]&rdquo; sem as áspas).\n",
    "\n",
    "2.  Cada item deve ser numerado. Siga o padrão apresentado.\n",
    "\n",
    "3.  Caso não tenha nenhuma referência consultada, delete esta seção e o texto contido nela!\n",
    "\n"
   ]
  },
  {
   "cell_type": "markdown",
   "metadata": {},
   "source": [
    "## Playground\n",
    "\n"
   ]
  },
  {
   "cell_type": "markdown",
   "metadata": {},
   "source": [
    "Todo código de teste que não faz parte do seu experimento deve vir aqui. Este código não será considerado na avaliação.\n",
    "\n"
   ]
  },
  {
   "cell_type": "code",
   "execution_count": null,
   "metadata": {},
   "outputs": [],
   "source": []
  }
 ],
 "metadata": {
  "kernelspec": {
   "display_name": "ilumpy",
   "language": "python",
   "name": "python3"
  },
  "language_info": {
   "codemirror_mode": {
    "name": "ipython",
    "version": 3
   },
   "file_extension": ".py",
   "mimetype": "text/x-python",
   "name": "python",
   "nbconvert_exporter": "python",
   "pygments_lexer": "ipython3",
   "version": "3.11.2"
  },
  "org": null
 },
 "nbformat": 4,
 "nbformat_minor": 4
}
