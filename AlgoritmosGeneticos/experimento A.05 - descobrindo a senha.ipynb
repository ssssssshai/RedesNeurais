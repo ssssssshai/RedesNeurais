{
 "cells": [
  {
   "cell_type": "markdown",
   "metadata": {},
   "source": [
    "Descobrindo a senha\n",
    "===================\n",
    "\n"
   ]
  },
  {
   "cell_type": "markdown",
   "metadata": {},
   "source": [
    "## Objetivo\n",
    "\n"
   ]
  },
  {
   "cell_type": "markdown",
   "metadata": {},
   "source": [
    "Usar um algoritmo genético para descobrir uma senha.\n",
    "\n"
   ]
  },
  {
   "cell_type": "markdown",
   "metadata": {},
   "source": [
    "## Descrição do problema\n",
    "\n"
   ]
  },
  {
   "cell_type": "markdown",
   "metadata": {},
   "source": [
    "Neste problema, a função objetivo deve saber a senha correta e quantificar de alguma maneira o quão perto ou longe os palpites estão da solução (veja que isso é algo que não temos no mundo real. Nenhum site irá te dizer se você está acertando ou errando seu palpite). O critério de parada deste problema é quando a senha for descoberta.\n",
    "\n"
   ]
  },
  {
   "cell_type": "markdown",
   "metadata": {},
   "source": [
    "## Importações\n",
    "\n"
   ]
  },
  {
   "cell_type": "code",
   "execution_count": 2,
   "metadata": {},
   "outputs": [],
   "source": [
    "from funcoes import populacao_inicial_senha\n",
    "from funcoes import funcao_objetivo_pop_senha\n",
    "from funcoes import selecao_torneio_min\n",
    "from funcoes import cruzamento_simples as funcao_cruzamento\n",
    "from funcoes import mutacao_senha\n",
    "import random\n",
    "\n",
    "#Importação das funções, como nos outros experimentos."
   ]
  },
  {
   "cell_type": "markdown",
   "metadata": {},
   "source": [
    "## Códigos e discussão\n",
    "\n"
   ]
  },
  {
   "cell_type": "code",
   "execution_count": 3,
   "metadata": {},
   "outputs": [],
   "source": [
    "#Definição das constantes (significados podem ser encontrados em experimentos anteriores):\n",
    "\n",
    "#Constantes relacionadas à busca:\n",
    "TAMANHO_POPULACAO = 50\n",
    "CHANCE_CRUZAMENTO = 0.5\n",
    "CHANCE_MUTACAO = 0.05\n",
    "NUMERO_COMBATENTES_NO_TORNEIO = 3\n",
    "\n",
    "#Constantes relacionadas ao problema a ser resolvido:\n",
    "\n",
    "SENHA = \"KimPetras\" #Definção de qual será sua senha que será \"descoberta\".\n",
    "LETRAS_POSSIVEIS = \"abcdefghijklmnopqrstuvwxyzABCDEFGHIJKLMNOPQRTUVWXYZ\" #Definição de quais podem ser os itens considerados para tentar adivinhar a senha.\n",
    "NUMERO_GENES = len(SENHA) #Número de genes é o que abrange a SENHA. Logo, se a senha tiver 10 letras, serão 10 genes."
   ]
  },
  {
   "cell_type": "code",
   "execution_count": 4,
   "metadata": {},
   "outputs": [],
   "source": [
    "#Funções que serão utilizadas somente nesse experimento.\n",
    "\n",
    "def cria_populacao_inicial(tamanho, tamanho_senha):\n",
    "    return populacao_inicial_senha(tamanho, tamanho_senha, LETRAS_POSSIVEIS)\n",
    "\n",
    "def funcao_objetivo_pop(populacao):\n",
    "    return funcao_objetivo_pop_senha(populacao, SENHA)\n",
    "\n",
    "def funcao_selecao(populacao, fitness):\n",
    "    return selecao_torneio_min(populacao, fitness, NUMERO_COMBATENTES_NO_TORNEIO)\n",
    "\n",
    "def funcao_mutacao(individuo):\n",
    "    return mutacao_senha(individuo, LETRAS_POSSIVEIS)"
   ]
  },
  {
   "cell_type": "code",
   "execution_count": 5,
   "metadata": {},
   "outputs": [
    {
     "name": "stdout",
     "output_type": "stream",
     "text": [
      "[['x', 'o', 'Y', 'f', 'i', 'w', 'e', 'q', 's'], ['w', 'N', 'q', 'l', 'F', 'E', 'z', 'U', 'N'], ['B', 'a', 'k', 'c', 'e', 's', 'O', 'R', 'q'], ['J', 'n', 'J', 'J', 'C', 'C', 'k', 'j', 'P'], ['K', 'n', 'k', 'I', 'J', 'x', 'b', 'r', 'l'], ['t', 'T', 's', 's', 'Y', 'X', 'q', 'T', 'x'], ['B', 'l', 'o', 'f', 'u', 'J', 'h', 'C', 'L'], ['q', 'L', 'R', 'K', 'd', 'C', 'N', 'N', 'l'], ['y', 'e', 'j', 'V', 'F', 'm', 'G', 'n', 'J'], ['P', 'w', 'O', 'Z', 'x', 'h', 'w', 'w', 'K'], ['r', 'a', 'j', 'B', 'w', 'E', 'a', 's', 'd'], ['Z', 'N', 'G', 'e', 'q', 'P', 'G', 'e', 'k'], ['v', 'h', 'Y', 'a', 'W', 'A', 'I', 'P', 'Y'], ['x', 'k', 'O', 'T', 'n', 'g', 'F', 'g', 'Y'], ['V', 'H', 'D', 's', 'R', 'I', 'J', 'X', 'k'], ['c', 'n', 'a', 'O', 'f', 'c', 'v', 'N', 'Y'], ['b', 'L', 'P', 'X', 'l', 'E', 'C', 'E', 'A'], ['Q', 's', 'Y', 'K', 'v', 'c', 'O', 'W', 'n'], ['h', 'd', 'u', 'j', 'i', 'T', 'R', 'L', 'Q'], ['I', 'E', 'L', 'M', 'O', 'R', 'r', 'I', 'W'], ['K', 'O', 'U', 'F', 'm', 'i', 'z', 'c', 'r'], ['Q', 'I', 'K', 'H', 'l', 'B', 'L', 'g', 'c'], ['h', 'I', 'T', 'z', 'z', 'Y', 'n', 'd', 'Y'], ['Y', 'M', 'Y', 'l', 'j', 'D', 'V', 'M', 'Q'], ['i', 'T', 'Z', 'L', 'q', 'a', 'w', 'm', 'W'], ['F', 'X', 'N', 'p', 'J', 'z', 'I', 'c', 'l'], ['p', 'b', 'P', 'Z', 'E', 'l', 'f', 'T', 'm'], ['O', 'M', 'y', 'w', 'z', 'v', 'W', 'N', 'D'], ['u', 'l', 'W', 'H', 'W', 'A', 'c', 'a', 'm'], ['D', 'g', 'o', 'A', 'G', 'q', 'Y', 'g', 'U'], ['A', 'a', 'd', 'L', 'x', 'n', 'h', 'q', 'u'], ['A', 'R', 'V', 'J', 'e', 'E', 'Z', 'X', 'z'], ['l', 'b', 'l', 'z', 'W', 'N', 'w', 'p', 'B'], ['P', 'i', 'f', 'O', 'J', 'o', 'h', 'm', 'p'], ['d', 'N', 'F', 'W', 'M', 'h', 'j', 'm', 'W'], ['s', 't', 'e', 'M', 'h', 'w', 'R', 'q', 'i'], ['e', 'd', 'Z', 'T', 'v', 'F', 'Y', 'o', 'T'], ['g', 'q', 'l', 'e', 'o', 'U', 'e', 'g', 'X'], ['k', 'k', 'm', 'X', 'N', 'F', 'b', 'L', 'N'], ['t', 'l', 'G', 'D', 'k', 'i', 'z', 'W', 'u'], ['L', 'a', 'P', 't', 'Z', 'c', 't', 'p', 'M'], ['f', 'n', 'i', 'H', 'k', 'l', 'R', 'I', 'b'], ['d', 'l', 'T', 'f', 'a', 'r', 'm', 'T', 't'], ['X', 'J', 'F', 'n', 'Y', 'p', 'Z', 'j', 'I'], ['F', 'R', 'R', 'Y', 'o', 'l', 'Y', 'l', 'W'], ['p', 'V', 'G', 'O', 'C', 'b', 'f', 'v', 'H'], ['G', 'l', 'w', 't', 'b', 'n', 'T', 'd', 'H'], ['f', 'u', 'o', 'r', 'g', 'c', 'W', 'i', 'q'], ['B', 'o', 'O', 'W', 'N', 'k', 'y', 'f', 'Z'], ['o', 'W', 'j', 'R', 'T', 'K', 'D', 'Y', 'd']]\n",
      "Progresso da melhor senha já vista:\n",
      "PifOarmTt - fitness: 38\n",
      "PffOarmcr - fitness: 30\n",
      "PffOarncr - fitness: 29\n",
      "PifOarnct - fitness: 26\n",
      "PfkOarncr - fitness: 24\n",
      "PikOarncr - fitness: 21\n",
      "PikOauncr - fitness: 20\n",
      "PikOaunbr - fitness: 19\n",
      "PikOauscr - fitness: 17\n",
      "PikOausbr - fitness: 16\n",
      "OikOausbr - fitness: 15\n",
      "IikOausbr - fitness: 13\n",
      "IikOaurbr - fitness: 12\n",
      "IikOgurbr - fitness: 10\n",
      "IikOgurar - fitness: 9\n",
      "IinOgurbs - fitness: 8\n",
      "KinOgurbs - fitness: 6\n",
      "KinPgurbs - fitness: 5\n",
      "KinPfurbs - fitness: 4\n",
      "KinPeurbs - fitness: 3\n",
      "KinPetrbs - fitness: 2\n",
      "KinPetras - fitness: 1\n",
      "KimPetras - fitness: 0\n",
      "\n",
      "Melhor palpite da senha encontrado:\n",
      "KimPetras\n"
     ]
    }
   ],
   "source": [
    "populacao = cria_populacao_inicial(TAMANHO_POPULACAO, NUMERO_GENES)\n",
    "\n",
    "print(populacao)\n",
    "\n",
    "melhor_fitness_ja_visto = float(\"inf\")  # é assim que escrevemos infinito em python\n",
    "\n",
    "print(\"Progresso da melhor senha já vista:\")\n",
    "\n",
    "while melhor_fitness_ja_visto !=0: #Método de como fazer um loop para não usar o número de gerações como critério de parada.\n",
    "    \n",
    "    #Parte da seleção:\n",
    "    fitness = funcao_objetivo_pop(populacao)\n",
    "    populacao = funcao_selecao(populacao, fitness)\n",
    "    \n",
    "    #Parte do cruzamento:\n",
    "    pais = populacao[0::2]\n",
    "    maes = populacao[1::2]\n",
    "    \n",
    "    contador = 0\n",
    "    \n",
    "    for pai, mae in zip(pais, maes):\n",
    "        if random.random() <= CHANCE_CRUZAMENTO:\n",
    "            filho1, filho2 = funcao_cruzamento(pai, mae)\n",
    "            populacao[contador] = filho1\n",
    "            populacao[contador + 1] = filho2\n",
    "        \n",
    "        contador = contador + 2   \n",
    "        \n",
    "    #Parte da mutação:\n",
    "    for n in range(len(populacao)):\n",
    "        if random.random() <= CHANCE_MUTACAO:\n",
    "            individuo = populacao[n]\n",
    "            populacao[n] = funcao_mutacao(individuo)            \n",
    "            \n",
    "    #Escolha do melhor individuo já visto até agora:\n",
    "    fitness = funcao_objetivo_pop(populacao)\n",
    "    menor_fitness = min(fitness)\n",
    "    if menor_fitness < melhor_fitness_ja_visto:        \n",
    "        posicao = fitness.index(menor_fitness)\n",
    "        melhor_individuo_ja_visto = populacao[posicao]\n",
    "        melhor_fitness_ja_visto = menor_fitness\n",
    "        print(\"\".join(melhor_individuo_ja_visto), \"- fitness:\", melhor_fitness_ja_visto)\n",
    "\n",
    "print()\n",
    "print(\"Melhor palpite da senha encontrado:\")\n",
    "print(\"\".join(melhor_individuo_ja_visto))"
   ]
  },
  {
   "attachments": {},
   "cell_type": "markdown",
   "metadata": {},
   "source": [
    "## Conclusão\n",
    "\n",
    "Esse método é muito interessante. O jeito dele ir mutando aleatoriamente as letras até que elas se encaixem nos valores atribuídos que dizem ser os melhores é muito legal. É igual aqueles filmes em que os hacks tentam acertar a senha de um sistema e colocam algum dispositivo que vai chutando letra por letra, ou várias e várias sequências. Esse algoritmo faz as coisas nesse sentido.\n",
    "Fiquei pensando em alguma aplicação com materiais que pode ser utilizado, para achar quais são os melhores elementos que você pode numa composição de algo que queira, por exemplo, uma supercondutividade superior a um valor X. Mas acredito que não seja ainda o melhor método para isso.\n",
    "\n",
    "Vi que, conforme a senha é maior, o número de fitness aumenta. Se alternar entre senhas maiúsculas e minúsculas, também.\n",
    "\n",
    "Como nos exercícios anteriores, algumas coisas estão explicadas (as novas) e outras não tem necessidade, já que estamos usando a mesma estrutura para as coisas de \"seleção, cruzamento e mutação\"."
   ]
  },
  {
   "cell_type": "markdown",
   "metadata": {},
   "source": [
    "## Playground\n",
    "\n"
   ]
  },
  {
   "cell_type": "code",
   "execution_count": null,
   "metadata": {},
   "outputs": [],
   "source": []
  }
 ],
 "metadata": {
  "kernelspec": {
   "display_name": "ilumpy",
   "language": "python",
   "name": "python3"
  },
  "language_info": {
   "codemirror_mode": {
    "name": "ipython",
    "version": 3
   },
   "file_extension": ".py",
   "mimetype": "text/x-python",
   "name": "python",
   "nbconvert_exporter": "python",
   "pygments_lexer": "ipython3",
   "version": "3.9.7"
  },
  "org": null
 },
 "nbformat": 4,
 "nbformat_minor": 4
}
