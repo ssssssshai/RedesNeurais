{
 "cells": [
  {
   "cell_type": "markdown",
   "metadata": {},
   "source": [
    "Descobrindo a senha\n",
    "===================\n",
    "\n"
   ]
  },
  {
   "cell_type": "markdown",
   "metadata": {},
   "source": [
    "## Objetivo\n",
    "\n"
   ]
  },
  {
   "cell_type": "markdown",
   "metadata": {},
   "source": [
    "Usar um algoritmo genético para descobrir uma senha.\n",
    "\n"
   ]
  },
  {
   "cell_type": "markdown",
   "metadata": {},
   "source": [
    "## Descrição do problema\n",
    "\n"
   ]
  },
  {
   "cell_type": "markdown",
   "metadata": {},
   "source": [
    "Neste problema, a função objetivo deve saber a senha correta e quantificar de alguma maneira o quão perto ou longe os palpites estão da solução (veja que isso é algo que não temos no mundo real. Nenhum site irá te dizer se você está acertando ou errando seu palpite). O critério de parada deste problema é quando a senha for descoberta.\n",
    "\n"
   ]
  },
  {
   "cell_type": "markdown",
   "metadata": {},
   "source": [
    "## Importações\n",
    "\n"
   ]
  },
  {
   "cell_type": "code",
   "execution_count": 28,
   "metadata": {},
   "outputs": [],
   "source": [
    "from funcoes import populacao_inicial_senha\n",
    "from funcoes import funcao_objetivo_pop_senha\n",
    "from funcoes import selecao_torneio_min\n",
    "from funcoes import cruzamento_simples as funcao_cruzamento\n",
    "from funcoes import mutacao_senha\n",
    "import random\n",
    "\n",
    "#Importação das funções, como nos outros experimentos."
   ]
  },
  {
   "cell_type": "markdown",
   "metadata": {},
   "source": [
    "## Códigos e discussão\n",
    "\n"
   ]
  },
  {
   "cell_type": "code",
   "execution_count": 29,
   "metadata": {},
   "outputs": [],
   "source": [
    "#Definição das constantes (significados podem ser encontrados em experimentos anteriores):\n",
    "\n",
    "#Constantes realcionadas à busca:\n",
    "TAMANHO_POPULACAO = 50\n",
    "CHANCE_CRUZAMENTO = 0.5\n",
    "CHANCE_MUTACAO = 0.05\n",
    "NUMERO_COMBATENTES_NO_TORNEIO = 3\n",
    "\n",
    "#Constantes relacionadas ao problema a ser resulvido:\n",
    "\n",
    "SENHA = \"KimPetras\" #Definção de qual será sua senha que será \"descoberta\".\n",
    "LETRAS_POSSIVEIS = \"abcdefghijklmnopqrstuvwxyzABCDEFGHIJKLMNOPQRTUVWXYZ\" #Definição de quais podem ser os itens considerados para tentar adivinhar a senha.\n",
    "NUMERO_GENES = len(SENHA) #Número de genes é o que abrange a SENHA. Logo, se a senha tiver 10 letras, serão 10 genes."
   ]
  },
  {
   "cell_type": "code",
   "execution_count": 30,
   "metadata": {},
   "outputs": [],
   "source": [
    "#Funções que serão utilizadas somente nesse experimento.\n",
    "\n",
    "def cria_populacao_inicial(tamanho, tamanho_senha):\n",
    "    return populacao_inicial_senha(tamanho, tamanho_senha, LETRAS_POSSIVEIS)\n",
    "\n",
    "def funcao_objetivo_pop(populacao):\n",
    "    return funcao_objetivo_pop_senha(populacao, SENHA)\n",
    "\n",
    "def funcao_selecao(populacao, fitness):\n",
    "    return selecao_torneio_min(populacao, fitness, NUMERO_COMBATENTES_NO_TORNEIO)\n",
    "\n",
    "def funcao_mutacao(individuo):\n",
    "    return mutacao_senha(individuo, LETRAS_POSSIVEIS)"
   ]
  },
  {
   "cell_type": "code",
   "execution_count": 31,
   "metadata": {},
   "outputs": [
    {
     "name": "stdout",
     "output_type": "stream",
     "text": [
      "[['I', 'c', 'x', 'c', 'W', 'P', 't', 's', 'n'], ['y', 'r', 'F', 'T', 'O', 'u', 'Y', 'w', 'l'], ['r', 'H', 'w', 'B', 'T', 'A', 'W', 'C', 'n'], ['M', 'u', 'F', 'D', 'f', 'd', 'z', 'V', 'K'], ['u', 'B', 'V', 'a', 'w', 'v', 'y', 'V', 'j'], ['I', 'P', 't', 'i', 'K', 'w', 'E', 'c', 'e'], ['Y', 'W', 'a', 'K', 'i', 'T', 'Q', 'c', 'J'], ['K', 'y', 'j', 't', 'J', 'z', 'f', 'q', 'o'], ['V', 'i', 'j', 'g', 'T', 'Q', 'O', 'M', 'F'], ['b', 'I', 'r', 'J', 'a', 'y', 'R', 'B', 'e'], ['h', 'k', 'a', 'M', 'F', 'P', 'w', 'u', 'p'], ['Y', 't', 'N', 'Q', 'P', 'N', 'f', 'E', 'H'], ['m', 'N', 'r', 'K', 'm', 'y', 'p', 'E', 'V'], ['h', 'v', 'E', 'K', 'f', 'U', 'R', 'F', 'g'], ['q', 'p', 'K', 'G', 'v', 'N', 'N', 'A', 'O'], ['E', 'g', 'z', 'Y', 'C', 'u', 's', 'g', 'X'], ['t', 'F', 'a', 'h', 'c', 'c', 'L', 'D', 's'], ['B', 'y', 'A', 'W', 'q', 'Z', 'O', 't', 'N'], ['u', 'u', 'i', 'm', 'C', 'C', 'G', 'N', 'X'], ['T', 'U', 'p', 'J', 'J', 'N', 'm', 'j', 'e'], ['g', 'n', 'f', 'h', 'n', 'J', 'k', 'g', 'u'], ['b', 'P', 'o', 'N', 'k', 'i', 'h', 'z', 'q'], ['y', 'L', 'V', 'h', 'u', 'L', 'f', 'G', 'o'], ['t', 'B', 'W', 'K', 'r', 'R', 'e', 'e', 'Y'], ['d', 'B', 'B', 'K', 'V', 'f', 'A', 'E', 'U'], ['W', 'F', 'g', 'c', 'I', 'y', 'b', 'N', 'U'], ['P', 'G', 'y', 'z', 'k', 'a', 'q', 'o', 'D'], ['R', 's', 't', 'A', 'W', 'd', 'B', 'T', 'x'], ['F', 'u', 'M', 'H', 'Y', 'P', 'A', 's', 'O'], ['x', 'o', 'x', 'U', 'o', 'v', 'q', 'M', 'K'], ['u', 'R', 'l', 'C', 'q', 'Y', 'H', 'q', 'D'], ['J', 'c', 'C', 'W', 'm', 'w', 'f', 'h', 's'], ['B', 'T', 'R', 't', 'e', 'E', 'i', 'c', 'P'], ['J', 'o', 'm', 'N', 'k', 'Z', 'W', 'C', 'm'], ['l', 'G', 'E', 'z', 'A', 'J', 'F', 'd', 'o'], ['l', 'y', 'Q', 'G', 'R', 'r', 'y', 'U', 'l'], ['p', 'u', 'q', 'E', 'I', 'R', 'x', 'G', 'y'], ['y', 'x', 'F', 'X', 'k', 'N', 'Y', 'o', 'k'], ['T', 'j', 'J', 'p', 't', 'p', 'l', 'M', 'r'], ['V', 'k', 'Q', 'M', 'M', 'o', 'K', 'C', 'G'], ['Y', 'F', 'K', 'Q', 'O', 'd', 'x', 'Z', 'F'], ['z', 'l', 'W', 'm', 'G', 'f', 'y', 'O', 'x'], ['t', 'Y', 'D', 'T', 'W', 't', 'k', 'p', 'z'], ['m', 'b', 'B', 'a', 'q', 'j', 'P', 'C', 'd'], ['I', 'x', 'I', 'n', 'v', 'I', 'O', 'i', 'C'], ['h', 'Y', 'X', 'I', 'j', 'X', 'c', 'Q', 'I'], ['b', 'o', 'y', 'e', 'L', 'D', 'P', 'R', 'V'], ['m', 's', 'u', 'E', 'e', 'k', 's', 'F', 'O'], ['U', 'X', 'N', 'p', 'N', 'B', 's', 'L', 'j'], ['L', 'C', 'L', 'Q', 'Y', 'D', 'v', 'B', 'u']]\n",
      "Progresso da melhor senha já vista:\n",
      "EgzYCusgn - fitness: 77\n",
      "EgzWmwfhs - fitness: 58\n",
      "FPoNkusgm - fitness: 54\n",
      "EgzWmwsgn - fitness: 51\n",
      "JcoNmwfgs - fitness: 40\n",
      "JcoNmwsgm - fitness: 35\n",
      "JgoWmwsgs - fitness: 30\n",
      "JgoNmwshs - fitness: 26\n",
      "JgoNmwsgs - fitness: 25\n",
      "JgoNkwshs - fitness: 24\n",
      "JgoNmusgs - fitness: 23\n",
      "JgoNkusgs - fitness: 21\n",
      "JgoNcusgs - fitness: 17\n",
      "JioNcusgs - fitness: 15\n",
      "JioQcusgs - fitness: 14\n",
      "JioQdusgs - fitness: 13\n",
      "JioPdusgs - fitness: 12\n",
      "JioPdusbs - fitness: 7\n",
      "JinPdusbs - fitness: 6\n",
      "JinPdtsbs - fitness: 5\n",
      "KinPdtsbs - fitness: 4\n",
      "KinPftrbs - fitness: 3\n",
      "KinPetrbs - fitness: 2\n",
      "KimPetrbs - fitness: 1\n",
      "KimPetras - fitness: 0\n",
      "\n",
      "Melhor palpite da senha encontrado:\n",
      "KimPetras\n"
     ]
    }
   ],
   "source": [
    "populacao = cria_populacao_inicial(TAMANHO_POPULACAO, NUMERO_GENES)\n",
    "\n",
    "print(populacao)\n",
    "\n",
    "melhor_fitness_ja_visto = float(\"inf\")  # é assim que escrevemos infinito em python\n",
    "\n",
    "print(\"Progresso da melhor senha já vista:\")\n",
    "\n",
    "while melhor_fitness_ja_visto !=0: #Método de como fazer um loop para não usar o número de gerações como critério de parada.\n",
    "    \n",
    "    #Parte da seleção:\n",
    "    fitness = funcao_objetivo_pop(populacao)\n",
    "    populacao = funcao_selecao(populacao, fitness)\n",
    "    \n",
    "    #Parte do cruzamento:\n",
    "    pais = populacao[0::2]\n",
    "    maes = populacao[1::2]\n",
    "    \n",
    "    contador = 0\n",
    "    \n",
    "    for pai, mae in zip(pais, maes):\n",
    "        if random.random() <= CHANCE_CRUZAMENTO:\n",
    "            filho1, filho2 = funcao_cruzamento(pai, mae)\n",
    "            populacao[contador] = filho1\n",
    "            populacao[contador + 1] = filho2\n",
    "        \n",
    "        contador = contador + 2   \n",
    "        \n",
    "    #Parte da mutação:\n",
    "    for n in range(len(populacao)):\n",
    "        if random.random() <= CHANCE_MUTACAO:\n",
    "            individuo = populacao[n]\n",
    "            populacao[n] = funcao_mutacao(individuo)            \n",
    "            \n",
    "    #Escolha do melhor individuo já visto até agora:\n",
    "    fitness = funcao_objetivo_pop(populacao)\n",
    "    menor_fitness = min(fitness)\n",
    "    if menor_fitness < melhor_fitness_ja_visto:        \n",
    "        posicao = fitness.index(menor_fitness)\n",
    "        melhor_individuo_ja_visto = populacao[posicao]\n",
    "        melhor_fitness_ja_visto = menor_fitness\n",
    "        print(\"\".join(melhor_individuo_ja_visto), \"- fitness:\", melhor_fitness_ja_visto)\n",
    "\n",
    "print()\n",
    "print(\"Melhor palpite da senha encontrado:\")\n",
    "print(\"\".join(melhor_individuo_ja_visto))"
   ]
  },
  {
   "attachments": {},
   "cell_type": "markdown",
   "metadata": {},
   "source": [
    "## Conclusão\n",
    "\n",
    "Esse método é muito interessante. O jeito dele ir mutando aleatoriamente as letras até que elas se encaixem nos valores atribuídos que dizem ser os melhores é muito legal. É igual aqueles filmes em que os hacks tentam acertar a senha de um sistema e colocam algum dispositivo que vai chutando letra por letra, ou várias e várias sequências. Esse algoritmo faz as coisas nesse sentido.\n",
    "Fiquei pensando em alguma aplicação com materiais que pode ser utilizado, para achar quais são os melhores elementos que você pode numa composição de algo que queira, por exemplo, uma supercondutividade superior a um valor X. Mas acredito que não seja ainda o melhor método para isso.\n",
    "\n",
    "Vi que, conforme a senha é maior, o número de fitness aumenta. Se alternar entre senhas maiúsculas e minúsculas, também.\n",
    "\n",
    "Como nos exercícios anteriores, algumas coisas estão explicadas (as novas) e outras não tem necessidade, já que estamos usando a mesma estrutura para as coisas de \"seleção, cruzamento e mutação\"."
   ]
  },
  {
   "cell_type": "markdown",
   "metadata": {},
   "source": [
    "## Playground\n",
    "\n"
   ]
  },
  {
   "cell_type": "code",
   "execution_count": null,
   "metadata": {},
   "outputs": [],
   "source": []
  }
 ],
 "metadata": {
  "kernelspec": {
   "display_name": "ilumpy",
   "language": "python",
   "name": "python3"
  },
  "language_info": {
   "codemirror_mode": {
    "name": "ipython",
    "version": 3
   },
   "file_extension": ".py",
   "mimetype": "text/x-python",
   "name": "python",
   "nbconvert_exporter": "python",
   "pygments_lexer": "ipython3",
   "version": "3.9.7"
  },
  "org": null
 },
 "nbformat": 4,
 "nbformat_minor": 4
}
