{
 "cells": [
  {
   "cell_type": "markdown",
   "metadata": {},
   "source": [
    "Descobrindo a senha\n",
    "===================\n",
    "\n"
   ]
  },
  {
   "cell_type": "markdown",
   "metadata": {},
   "source": [
    "## Objetivo\n",
    "\n"
   ]
  },
  {
   "cell_type": "markdown",
   "metadata": {},
   "source": [
    "Usar um algoritmo genético para descobrir uma senha.\n",
    "\n"
   ]
  },
  {
   "cell_type": "markdown",
   "metadata": {},
   "source": [
    "## Descrição do problema\n",
    "\n"
   ]
  },
  {
   "cell_type": "markdown",
   "metadata": {},
   "source": [
    "Neste problema, a função objetivo deve saber a senha correta e quantificar de alguma maneira o quão perto ou longe os palpites estão da solução (veja que isso é algo que não temos no mundo real. Nenhum site irá te dizer se você está acertando ou errando seu palpite). O critério de parada deste problema é quando a senha for descoberta.\n",
    "\n"
   ]
  },
  {
   "cell_type": "markdown",
   "metadata": {},
   "source": [
    "## Importações\n",
    "\n"
   ]
  },
  {
   "cell_type": "code",
   "execution_count": 1,
   "metadata": {},
   "outputs": [],
   "source": [
    "from funcoes import populacao_inicial_senha\n",
    "from funcoes import funcao_objetivo_pop_senha\n",
    "from funcoes import selecao_torneio_min\n",
    "from funcoes import cruzamento_simples as funcao_cruzamento\n",
    "from funcoes import mutacao_senha\n",
    "import random\n",
    "\n",
    "#Importação das funções, como nos outros experimentos."
   ]
  },
  {
   "cell_type": "markdown",
   "metadata": {},
   "source": [
    "## Códigos e discussão\n",
    "\n"
   ]
  },
  {
   "cell_type": "code",
   "execution_count": 2,
   "metadata": {},
   "outputs": [],
   "source": [
    "#Definição das constantes (significados podem ser encontrados em experimentos anteriores):\n",
    "\n",
    "#Constantes relacionadas à busca:\n",
    "TAMANHO_POPULACAO = 50\n",
    "CHANCE_CRUZAMENTO = 0.5\n",
    "CHANCE_MUTACAO = 0.05\n",
    "NUMERO_COMBATENTES_NO_TORNEIO = 3\n",
    "\n",
    "#Constantes relacionadas ao problema a ser resolvido:\n",
    "\n",
    "SENHA = \"KimPetras\" #Definção de qual será sua senha que será \"descoberta\".\n",
    "LETRAS_POSSIVEIS = \"abcdefghijklmnopqrstuvwxyzABCDEFGHIJKLMNOPQRTUVWXYZ\" #Definição de quais podem ser os itens considerados para tentar adivinhar a senha.\n",
    "NUMERO_GENES = len(SENHA) #Número de genes é o que abrange a SENHA. Logo, se a senha tiver 10 letras, serão 10 genes."
   ]
  },
  {
   "cell_type": "code",
   "execution_count": 3,
   "metadata": {},
   "outputs": [],
   "source": [
    "#Funções que serão utilizadas somente nesse experimento.\n",
    "\n",
    "def cria_populacao_inicial(tamanho, tamanho_senha):\n",
    "    return populacao_inicial_senha(tamanho, tamanho_senha, LETRAS_POSSIVEIS)\n",
    "\n",
    "def funcao_objetivo_pop(populacao):\n",
    "    return funcao_objetivo_pop_senha(populacao, SENHA)\n",
    "\n",
    "def funcao_selecao(populacao, fitness):\n",
    "    return selecao_torneio_min(populacao, fitness, NUMERO_COMBATENTES_NO_TORNEIO)\n",
    "\n",
    "def funcao_mutacao(individuo):\n",
    "    return mutacao_senha(individuo, LETRAS_POSSIVEIS)"
   ]
  },
  {
   "cell_type": "code",
   "execution_count": 4,
   "metadata": {},
   "outputs": [
    {
     "name": "stdout",
     "output_type": "stream",
     "text": [
      "[['Y', 'O', 'W', 'd', 'i', 'o', 'y', 'O', 's'], ['g', 'H', 'E', 't', 'B', 'Q', 'a', 'H', 'R'], ['R', 'Z', 'a', 'x', 'b', 'b', 'k', 'B', 'M'], ['G', 'X', 's', 'q', 'm', 'd', 'H', 'a', 'd'], ['h', 'A', 'M', 'o', 'O', 'b', 'a', 'W', 'i'], ['Q', 'c', 'n', 'R', 'g', 'W', 'j', 'T', 'd'], ['m', 'G', 'L', 'g', 'A', 'T', 'C', 'b', 'P'], ['r', 'h', 'X', 'k', 'W', 'G', 'V', 'R', 'f'], ['y', 'V', 'j', 'f', 'J', 'm', 'i', 'o', 'd'], ['x', 'T', 'A', 'C', 'n', 'V', 'i', 'r', 'x'], ['l', 'V', 'u', 'Y', 'F', 'x', 'B', 'n', 'C'], ['o', 'T', 'g', 'B', 'i', 'k', 'i', 'J', 'Q'], ['f', 'H', 'i', 'u', 'd', 'K', 'C', 'Q', 'y'], ['c', 'W', 'j', 'Y', 'a', 'A', 'Y', 'x', 's'], ['T', 'l', 'E', 'P', 'L', 's', 'J', 'x', 'f'], ['v', 'Y', 'c', 'd', 'r', 'x', 'X', 'I', 'Y'], ['m', 'J', 'v', 'K', 'p', 'c', 'Q', 'Z', 'r'], ['E', 'a', 'p', 'd', 'L', 'Q', 'M', 'f', 'a'], ['J', 's', 'e', 'H', 'g', 'P', 'A', 'h', 'q'], ['W', 'r', 'K', 'k', 'a', 'W', 'f', 'k', 'Z'], ['K', 'o', 'w', 'I', 'N', 'b', 'K', 'o', 'T'], ['D', 'C', 'h', 'G', 'g', 's', 'Z', 'Q', 'Y'], ['b', 'E', 'I', 'D', 'b', 'T', 'L', 'x', 'W'], ['o', 'E', 'm', 'f', 'w', 'P', 'P', 'V', 'G'], ['e', 'H', 'E', 'm', 'H', 'B', 'g', 'x', 'x'], ['K', 'g', 'O', 'P', 'J', 'w', 'p', 'N', 'X'], ['H', 'n', 'A', 'F', 'o', 'D', 'v', 's', 'F'], ['h', 'H', 'V', 'k', 'x', 'C', 'r', 'L', 'h'], ['H', 'K', 'z', 'Q', 'J', 'N', 'k', 'f', 'O'], ['w', 'D', 'b', 'W', 'y', 'L', 'B', 'm', 'u'], ['U', 'e', 'e', 'I', 'e', 'W', 'D', 'x', 'u'], ['N', 'v', 'r', 'x', 'D', 'T', 'v', 'g', 'w'], ['U', 'Y', 'P', 'c', 'f', 'r', 'A', 'v', 'A'], ['h', 'e', 'P', 'n', 'X', 'J', 'K', 'D', 'b'], ['B', 'c', 'H', 'l', 'X', 'Q', 'p', 'I', 'J'], ['l', 'r', 'b', 'A', 'U', 'J', 'B', 'V', 'M'], ['X', 'H', 'P', 'k', 'E', 'w', 'R', 't', 'E'], ['V', 'a', 'j', 'f', 'E', 's', 'X', 'u', 'w'], ['r', 'X', 'r', 'f', 'k', 'c', 'e', 'K', 'w'], ['n', 'q', 'D', 'u', 'i', 'V', 'B', 'T', 'C'], ['a', 'B', 'h', 's', 'w', 'Y', 'X', 'f', 'O'], ['V', 'V', 'Z', 'G', 'G', 'G', 'g', 'V', 'G'], ['X', 'R', 'r', 'v', 'g', 'A', 'd', 'c', 'h'], ['W', 'T', 'i', 'O', 'L', 'a', 'L', 'l', 'n'], ['A', 'y', 'J', 'W', 'q', 'W', 'Z', 'e', 'l'], ['h', 'D', 'U', 'U', 'A', 'x', 'Z', 'U', 'I'], ['P', 'k', 'O', 'u', 'v', 'j', 'm', 'O', 'd'], ['I', 'J', 'D', 's', 'E', 'u', 'l', 'n', 'q'], ['B', 'x', 'y', 'i', 'K', 'a', 'u', 'C', 'N'], ['Z', 'u', 'g', 'z', 'J', 'z', 'I', 'C', 'U']]\n",
      "Progresso da melhor senha já vista:\n",
      "QcnRgWdch - fitness: 73\n",
      "KcnRgWdch - fitness: 67\n",
      "KgOPgwpZr - fitness: 47\n",
      "KgnRgwjch - fitness: 31\n",
      "KgnRgwpch - fitness: 25\n",
      "KgnPgwpch - fitness: 23\n",
      "KgnRgwjcr - fitness: 21\n",
      "KgnPgtpch - fitness: 20\n",
      "KgnPgtpcr - fitness: 10\n",
      "KgnPetpcr - fitness: 8\n",
      "KgnPetpar - fitness: 6\n",
      "KhnPetpar - fitness: 5\n",
      "KhnPetqar - fitness: 4\n",
      "KhmPetqar - fitness: 3\n",
      "KimPetqar - fitness: 2\n",
      "KimPetqas - fitness: 1\n",
      "KimPetras - fitness: 0\n",
      "\n",
      "Melhor palpite da senha encontrado:\n",
      "KimPetras\n"
     ]
    }
   ],
   "source": [
    "populacao = cria_populacao_inicial(TAMANHO_POPULACAO, NUMERO_GENES)\n",
    "\n",
    "print(populacao)\n",
    "\n",
    "melhor_fitness_ja_visto = float(\"inf\")  # é assim que escrevemos infinito em python\n",
    "\n",
    "print(\"Progresso da melhor senha já vista:\")\n",
    "\n",
    "while melhor_fitness_ja_visto !=0: #Método de como fazer um loop para não usar o número de gerações como critério de parada.\n",
    "    \n",
    "    #Parte da seleção:\n",
    "    fitness = funcao_objetivo_pop(populacao)\n",
    "    populacao = funcao_selecao(populacao, fitness)\n",
    "    \n",
    "    #Parte do cruzamento:\n",
    "    pais = populacao[0::2]\n",
    "    maes = populacao[1::2]\n",
    "    \n",
    "    contador = 0\n",
    "    \n",
    "    for pai, mae in zip(pais, maes):\n",
    "        if random.random() <= CHANCE_CRUZAMENTO:\n",
    "            filho1, filho2 = funcao_cruzamento(pai, mae)\n",
    "            populacao[contador] = filho1\n",
    "            populacao[contador + 1] = filho2\n",
    "        \n",
    "        contador = contador + 2   \n",
    "        \n",
    "    #Parte da mutação:\n",
    "    for n in range(len(populacao)):\n",
    "        if random.random() <= CHANCE_MUTACAO:\n",
    "            individuo = populacao[n]\n",
    "            populacao[n] = funcao_mutacao(individuo)            \n",
    "            \n",
    "    #Escolha do melhor individuo já visto até agora:\n",
    "    fitness = funcao_objetivo_pop(populacao)\n",
    "    menor_fitness = min(fitness)\n",
    "    if menor_fitness < melhor_fitness_ja_visto:        \n",
    "        posicao = fitness.index(menor_fitness)\n",
    "        melhor_individuo_ja_visto = populacao[posicao]\n",
    "        melhor_fitness_ja_visto = menor_fitness\n",
    "        print(\"\".join(melhor_individuo_ja_visto), \"- fitness:\", melhor_fitness_ja_visto)\n",
    "\n",
    "print()\n",
    "print(\"Melhor palpite da senha encontrado:\")\n",
    "print(\"\".join(melhor_individuo_ja_visto))"
   ]
  },
  {
   "attachments": {},
   "cell_type": "markdown",
   "metadata": {},
   "source": [
    "## Conclusão\n",
    "\n",
    "Esse método é muito interessante. O jeito dele ir mutando aleatoriamente as letras até que elas se encaixem nos valores atribuídos que dizem ser os melhores é muito legal. É igual aqueles filmes em que os hacks tentam acertar a senha de um sistema e colocam algum dispositivo que vai chutando letra por letra, ou várias e várias sequências. Esse algoritmo faz as coisas nesse sentido.\n",
    "Fiquei pensando em alguma aplicação com materiais que pode ser utilizado, para achar quais são os melhores elementos que você pode numa composição de algo que queira, por exemplo, uma supercondutividade superior a um valor X. Mas acredito que não seja ainda o melhor método para isso.\n",
    "\n",
    "Vi que, conforme a senha é maior, o número de fitness aumenta. Se alternar entre senhas maiúsculas e minúsculas, também.\n",
    "\n",
    "Como nos exercícios anteriores, algumas coisas estão explicadas (as novas) e outras não tem necessidade, já que estamos usando a mesma estrutura para as coisas de \"seleção, cruzamento e mutação\"."
   ]
  },
  {
   "cell_type": "markdown",
   "metadata": {},
   "source": [
    "## Playground\n",
    "\n"
   ]
  },
  {
   "cell_type": "code",
   "execution_count": null,
   "metadata": {},
   "outputs": [],
   "source": []
  }
 ],
 "metadata": {
  "kernelspec": {
   "display_name": "ilumpy",
   "language": "python",
   "name": "python3"
  },
  "language_info": {
   "codemirror_mode": {
    "name": "ipython",
    "version": 3
   },
   "file_extension": ".py",
   "mimetype": "text/x-python",
   "name": "python",
   "nbconvert_exporter": "python",
   "pygments_lexer": "ipython3",
   "version": "3.9.7"
  },
  "org": null
 },
 "nbformat": 4,
 "nbformat_minor": 4
}
