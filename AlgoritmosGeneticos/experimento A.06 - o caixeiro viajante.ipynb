{
 "cells": [
  {
   "cell_type": "markdown",
   "metadata": {},
   "source": [
    "Caixeiro viajante\n",
    "=================\n",
    "\n"
   ]
  },
  {
   "cell_type": "markdown",
   "metadata": {},
   "source": [
    "## Introdução\n",
    "\n"
   ]
  },
  {
   "cell_type": "markdown",
   "metadata": {},
   "source": [
    "Até agora, sempre que nós aplicamos os operadores de `cruzamento` ou de `mutação` nós não nos preocupamos se o indivíduo gerado por estes processo era um `indivíduo válido`. Um indivíduo válido é aquele que representa uma solução possível e bem formulada para o problema em questão.\n",
    "\n",
    "Por exemplo, no problema das caixas binárias, [1, 0, 0, 1] é um indivíduo válido para o caso de termos 4 caixas. Um exemplo de `indivíduo inválido` para este mesmo problema seria [1, 0, 0, a], pois um dos genes está assumindo um valor fora do domínio. Outro exemplo de indivíduo inválido poderia ser [1, 1, 0], pois é um indivíduo com apenas 3 genes, sendo que o esperado eram 4 genes.\n",
    "\n",
    "Neste experimento nós veremos estratégias para evitar que indivíduos inválidos sejam obtidos quando usamos os operadores de cruzamento e de mutação. No notebook seguinte veremos como aplicar uma penalidade para indivíduos inválidos que forem gerados durante uma busca genética com restrições.\n",
    "\n"
   ]
  },
  {
   "cell_type": "markdown",
   "metadata": {},
   "source": [
    "## Objetivo\n",
    "\n"
   ]
  },
  {
   "cell_type": "markdown",
   "metadata": {},
   "source": [
    "Encontrar uma solução para o problema do caixeiro viajante. Considere que ele irá visitar 5 cidades, pode iniciar sua viagem por qualquer uma destas cidades e deve retornar à cidade de início. Durante seu trajeto, não pode visitar a mesma cidade duas vezes (única exceção é a cidade inicial).\n",
    "\n"
   ]
  },
  {
   "cell_type": "markdown",
   "metadata": {},
   "source": [
    "## Descrição do problema\n",
    "\n"
   ]
  },
  {
   "cell_type": "markdown",
   "metadata": {},
   "source": [
    "O problema consiste em descobrir a rota de menor distância entre $n$ pontos no plano cartesiano (ou seja, $n$ pontos com coordenadas $(x,y)$). A rota pode se iniciar em qualquer um dos pontos disponíveis e deve terminar no ponto inicial, visitando todos os demais pontos apenas uma vez. Considere que a rota entre um ponto e outro é a linha reta que liga os dois pontos.\n",
    "\n",
    "O código abaixo é um gerador de coordenadas de cidades. Use ele caso queira.\n",
    "\n"
   ]
  },
  {
   "cell_type": "markdown",
   "metadata": {},
   "source": [
    "## Importações\n",
    "\n"
   ]
  },
  {
   "cell_type": "code",
   "execution_count": 43,
   "metadata": {},
   "outputs": [],
   "source": [
    "import random\n",
    "from itertools import permutations\n",
    "from funcoes import cria_cidades\n",
    "from funcoes import populacao_inicial_cv as cria_populacao_inicial\n",
    "from funcoes import funcao_objetivo_cv\n",
    "from funcoes import selecao_torneio_min as funcao_selecao\n",
    "from funcoes import cruzamento_ordenado as funcao_cruzamento\n",
    "from funcoes import mutacao_de_troca as funcao_mutacao\n",
    "from funcoes import funcao_objetivo_pop_cv\n",
    "\n",
    "#Parte em que importamos as funções do arquivo de funções.py."
   ]
  },
  {
   "cell_type": "markdown",
   "metadata": {},
   "source": [
    "## Códigos e discussão\n",
    "\n"
   ]
  },
  {
   "cell_type": "code",
   "execution_count": 44,
   "metadata": {},
   "outputs": [],
   "source": [
    "### CONSTANTES\n",
    "\n",
    "#Constantes relacionadas à busca:\n",
    "TAMANHO_POPULACAO = 50\n",
    "NUMERO_GERACOES = 1000\n",
    "CHANCE_CRUZAMENTO = 0.5\n",
    "CHANCE_MUTACAO = 0.05\n",
    "NUM_COMBATENTES_NO_TORNEIO = 3\n",
    "\n",
    "#Constantes relacionadas ao problema a ser resolvido:\n",
    "NUMERO_CIDADES = 5 #Número de cidades que serão consideradas no \"mapa\" do caixeiro viajante, pelas quais ele tem que passar.\n",
    "CIDADES = cria_cidades(NUMERO_CIDADES) #As cidades serão criadas por esssa função que gera uma cidade (indivíduo) com as suas coordenadas cartesinas (genes)."
   ]
  },
  {
   "cell_type": "code",
   "execution_count": 45,
   "metadata": {},
   "outputs": [],
   "source": [
    "# Funções locais\n",
    "\n",
    "def funcao_objetivo_pop(populacao):\n",
    "    return funcao_objetivo_pop_cv(populacao, CIDADES)\n",
    "\n",
    "def funcao_objetivo_individuo(individuo):\n",
    "    return funcao_objetivo_cv(individuo, CIDADES)"
   ]
  },
  {
   "cell_type": "code",
   "execution_count": 46,
   "metadata": {},
   "outputs": [],
   "source": [
    "#Aqui realizamos uma busca por algoritmo genético, envolvendo todas as partes já vistas anteriormente:\n",
    "\n",
    "populacao = cria_populacao_inicial(TAMANHO_POPULACAO, CIDADES) #A população inicial aqui será criada baseada no número de cidades, igual fizemos nos anteriores considerando indivíduos.\n",
    "\n",
    "melhor_fitness_ja_visto = float(\"inf\")  #Melhor jeito de escrever infinito em Python é com esse float(\"inf\").\n",
    "\n",
    "for n in range(NUMERO_GERACOES): #Para cada elemento no número de gerações, faça:\n",
    "    \n",
    "    #Parte da seleção:\n",
    "    fitness = funcao_objetivo_pop(populacao)\n",
    "    populacao = funcao_selecao(populacao, fitness)\n",
    "    \n",
    "    #Parte do cruzamento:\n",
    "    pais = populacao[0::2]\n",
    "    maes = populacao[1::2]\n",
    "    \n",
    "    contador = 0\n",
    "    \n",
    "    for pai, mae in zip(pais, maes):\n",
    "        if random.random() <= CHANCE_CRUZAMENTO:\n",
    "            filho1, filho2 = funcao_cruzamento(pai, mae)\n",
    "            populacao[contador] = filho1\n",
    "            populacao[contador + 1] = filho2\n",
    "        \n",
    "        contador = contador + 2   \n",
    "        \n",
    "    #Parte da mutação:\n",
    "    for n in range(len(populacao)):\n",
    "        if random.random() <= CHANCE_MUTACAO:\n",
    "            individuo = populacao[n]\n",
    "            populacao[n] = funcao_mutacao(individuo)            \n",
    "            \n",
    "    #Melhor individuo já visto até agora:\n",
    "    fitness = funcao_objetivo_pop(populacao)\n",
    "    menor_fitness = min(fitness)\n",
    "    if menor_fitness < melhor_fitness_ja_visto:        \n",
    "        posicao = fitness.index(menor_fitness)\n",
    "        melhor_individuo_ja_visto = populacao[posicao]\n",
    "        melhor_fitness_ja_visto = menor_fitness"
   ]
  },
  {
   "cell_type": "code",
   "execution_count": 47,
   "metadata": {},
   "outputs": [],
   "source": [
    "#Busca testando todas as permutações (parte exaustiva do algoritmo):\n",
    "melhor_fitness_ever = float(\"inf\")\n",
    "\n",
    "#Aqui testando todas as permutações possíveis, ou seja, o cálculo de todas os conjuntos de pontos possíveis:\n",
    "for caminho in permutations(list(CIDADES.keys())):\n",
    "    distancia = funcao_objetivo_individuo(caminho)\n",
    "    if distancia < melhor_fitness_ever:\n",
    "        melhor_fitness_ever = distancia\n",
    "        melhor_resposta_ever = caminho"
   ]
  },
  {
   "cell_type": "code",
   "execution_count": 48,
   "metadata": {},
   "outputs": [
    {
     "name": "stdout",
     "output_type": "stream",
     "text": [
      "\n",
      "Melhor individuo obtido por algoritmos genéticos:\n",
      "['Cidade 2', 'Cidade 0', 'Cidade 1', 'Cidade 4', 'Cidade 3'] com distância: 1.9562304670000925\n",
      "\n",
      "Melhor individuo obtido por busca exaustiva:\n",
      "('Cidade 2', 'Cidade 0', 'Cidade 1', 'Cidade 3', 'Cidade 4') com distância: 1.9562304670000925\n"
     ]
    }
   ],
   "source": [
    "#Parte da checagem dos resultados:\n",
    "\n",
    "print()\n",
    "print(\"Melhor individuo obtido por algoritmos genéticos:\")\n",
    "print(melhor_individuo_ja_visto, \"com distância:\", melhor_fitness_ja_visto)\n",
    "\n",
    "print()\n",
    "print(\"Melhor individuo obtido por busca exaustiva:\")\n",
    "print(melhor_resposta_ever, \"com distância:\", melhor_fitness_ever)"
   ]
  },
  {
   "attachments": {},
   "cell_type": "markdown",
   "metadata": {},
   "source": [
    "## Conclusão\n",
    "\n",
    "Para essa abordagem do caixeiro foi necessário que usássemos algumas estratégias diferentes, como a de cruzamento de ponto simples que foi substituída por um cruzamento ordenado. Também é realizada uma busca exaustiva por todas as permutações possíveis para que possamos resolver esse problema, por consequência, se tívessemos muitas cidades para viajar e, logo, muitas permutações para serem calculadas, nosso algoritmo se tornaria pesado e ineficiente, sendo necessário aplicar outras abordagens para resolver esse problema. Por conta dessa necessidade de adaptação constante, o problema do caixeiro viajante não tem só uma solução, além disso diz-se que ele é um problema de NP, o que fomenta a hipótese da necessidade de adaptação já que não existe uma solução algorítmica eficiente para resolver o problema.\n",
    "\n",
    "Tanto a busca por algortimos genéticos como a busca exaustiva chegam aos mesmos resultados, só a ordem das cidades pode dar a impressão que não, mas o resultado é válidado também pela distância exibida logo ao fim."
   ]
  },
  {
   "cell_type": "markdown",
   "metadata": {},
   "source": [
    "## Playground\n",
    "\n"
   ]
  },
  {
   "cell_type": "code",
   "execution_count": null,
   "metadata": {},
   "outputs": [],
   "source": []
  }
 ],
 "metadata": {
  "kernelspec": {
   "display_name": "Python 3",
   "language": "python",
   "name": "python3"
  },
  "language_info": {
   "codemirror_mode": {
    "name": "ipython",
    "version": 3
   },
   "file_extension": ".py",
   "mimetype": "text/x-python",
   "name": "python",
   "nbconvert_exporter": "python",
   "pygments_lexer": "ipython3",
   "version": "3.9.7"
  },
  "org": null
 },
 "nbformat": 4,
 "nbformat_minor": 4
}
