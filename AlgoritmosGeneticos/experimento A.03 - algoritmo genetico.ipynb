{
 "cells": [
  {
   "cell_type": "markdown",
   "source": [
    "Algoritmo genético\n",
    "==================\n",
    "\n"
   ],
   "metadata": {}
  },
  {
   "cell_type": "markdown",
   "source": [
    "## Introdução\n",
    "\n"
   ],
   "metadata": {}
  },
  {
   "cell_type": "markdown",
   "source": [
    "`Algoritmos genéticos` são algoritmos inspirados na teoria da evolução de Darwin e são ferramentas poderosas para resolver problemas de otimização. De maneira simples, a estratégia consiste em gerar uma população inicial aleatória e através de seleção, cruzamento e mutação sucessivas, gerar populações seguintes. Se feito de maneira correta, as populações seguintes tendem a ser melhores candidatos para a solução do problema do que as populações anteriores.\r\n",
    "\r\n",
    "Um algoritmo genético pode parecer um tanto complexo, porém é possível dividi-lo em partes relativamente simples:\r\n",
    "\r\n",
    "1.  Criação da população inicial (aleatória);\r\n",
    "\r\n",
    "2.  Cálculo da função objetivo para todos os membros da população inicial e atualização do hall da fama;\r\n",
    "\r\n",
    "3.  Seleção dos indivíduos (quais seguem pra próxima geração);\r\n",
    "\r\n",
    "4.  Cruzamento dos indivíduos selecionados (troca de material genético);\r\n",
    "\r\n",
    "5.  Mutação dos indivíduos da população recém-criada (possibilidade de trazer informação nova ao sistema);\r\n",
    "\r\n",
    "6.  Cálculo da função objetivo para todos os membros da população recém-criada e atualização do hall da fama;\r\n",
    "\r\n",
    "7.  Checar os critérios de parada. Caso os critérios não tenham sido atendidos, retornar ao passo 3;\r\n",
    "\r\n",
    "8.  Retornar para o usuário o hall da fama.\r\n",
    "\r\n"
   ],
   "metadata": {}
  },
  {
   "cell_type": "markdown",
   "source": [
    "## Glossário\n",
    "\n"
   ],
   "metadata": {}
  },
  {
   "cell_type": "markdown",
   "source": [
    "-   `Indivíduo`: um candidato para a solução do problema.\r\n",
    "\r\n",
    "-   `População`: um conjunto de candidatos para a solução do problema.\r\n",
    "\r\n",
    "-   `Gene`: um parâmetro que pertence a um indivíduo.\r\n",
    "\r\n",
    "-   `Cromossomo` ou `genótipo`: um conjunto de genes.\r\n",
    "\r\n",
    "-   `Geração`: cada população em uma busca genética faz parte de uma geração. A primeira geração é geralmente formada por indivíduos aleatórios (sorteados dentro do espaço de busca). As gerações seguintes são formadas por seleção, cruzamento e mutação da geração anterior. Um dos critérios de parada possíveis para um algoritmo genético é o número máximo de gerações.\r\n",
    "\r\n",
    "-   `Função de aptidão` ou `função objetivo` ou `função fitness`: uma função que recebe um indivíduo e retorna o seu valor de aptidão. Em um problema de otimização, nós buscamos encontrar soluções que minimizam ou maximizam o valor de aptidão.\r\n",
    "\r\n",
    "-   `Seleção`: processo onde utilizamos o valor de aptidão dos indivíduos para selecionar quais irão passar seus genes para a geração seguinte.\r\n",
    "\r\n",
    "-   `Cruzamento`: processo onde o material genético de indivíduos selecionados é misturado.\r\n",
    "\r\n",
    "-   `Mutação`: processo onde os genes dos indivíduos selecionados têm uma chance de alterar seu valor. A mutação é o único processo capaz de introduzir informação nova ao pool genético após o sorteio aleatório da primeira geração.\r\n",
    "\r\n",
    "-   `Hall da fama`: conjunto dos $n$ indivíduos que obtiveram os melhores valores de aptidão durante o processo de busca.\r\n",
    "\r\n"
   ],
   "metadata": {}
  },
  {
   "cell_type": "markdown",
   "source": [
    "## Reflexões\n",
    "\n"
   ],
   "metadata": {}
  },
  {
   "cell_type": "markdown",
   "source": [
    "Você diria que o algoritmo genético é determinístico ou probabilístico?\n",
    "\n",
    "Será que um algoritmo genético é capaz de encontrar mínimos (ou máximos) da função objetivo?\n",
    "\n",
    "O que será que acontece quando não realizamos a etapa de mutação do algoritmo genético?\n",
    "\n",
    "O que será que acontece quando usamos uma chance de mutação muito alta?\n",
    "\n"
   ],
   "metadata": {}
  },
  {
   "cell_type": "markdown",
   "source": [
    "## Objetivo\n",
    "\n"
   ],
   "metadata": {}
  },
  {
   "cell_type": "markdown",
   "source": [
    "Encontrar uma solução para o problema das caixas binárias usando o algoritmo genético. Considere 4 caixas.\r\n",
    "\r\n"
   ],
   "metadata": {}
  },
  {
   "cell_type": "markdown",
   "source": [
    "## Descrição do problema\n",
    "\n"
   ],
   "metadata": {}
  },
  {
   "cell_type": "markdown",
   "source": [
    "O problema das caixas binárias é simples: nós temos um certo número de caixas e cada uma pode conter um valor do conjunto $\\{0, 1\\}$. O objetivo é encontrar uma combinação de caixas onde a soma dos valores contidos dentro delas é máximo.\r\n",
    "\r\n"
   ],
   "metadata": {}
  },
  {
   "cell_type": "markdown",
   "source": [
    "## Importações\n",
    "\n"
   ],
   "metadata": {}
  },
  {
   "cell_type": "code",
   "execution_count": 44,
   "source": [
    "from funcoes import populacao_caixabinaria as cria_populacao_inicial\r\n",
    "from funcoes import funcao_objetivo_populacao_caixabinaria as funcao_objetivo_populacao\r\n",
    "from funcoes import selecao_roleta_max as funcao_selecao\r\n",
    "from funcoes import cruzamento_simples as funcao_cruzamento\r\n",
    "from funcoes import mutacao_caixabinaria as funcao_mutacao\r\n",
    "import random\r\n",
    "\r\n",
    "# A importação (from funcoes) é devido ao arquivo funcoes.py, onde todas as funções estão devidamente explicadas.\r\n",
    "# Para facilitar, são exportadas e com outro nome que torne mais fácil sua interpretação."
   ],
   "outputs": [],
   "metadata": {}
  },
  {
   "cell_type": "markdown",
   "source": [
    "## Códigos e discussão\n",
    "\n"
   ],
   "metadata": {}
  },
  {
   "cell_type": "code",
   "execution_count": 45,
   "source": [
    "#Definição das constantes:\r\n",
    "\r\n",
    "TAMANHO_POPULACAO = 6 #Tamanho de indivíduos dentro de uma população.\r\n",
    "NUMERO_GENES = 4 #Quantidade de genes de cada indivíduo [x, x, x, x].\r\n",
    "NUMERO_GERACOES = 15 #Quantas vezes o repetirá para que seja selecionado um indivíduo.\r\n",
    "CHANCE_CRUZAMENTO = 0.5 #Geralmente se usa essa taxa de  50%, serve para informar que nem todo mundo \"vivo\" vai passar os genes.\r\n",
    "CHANCE_MUTACAO = 0.05 #É a chance de mutação, não pode ser muito alta pois entra no problema de busca aleatória, nem muito baixa, pois demorará mais para evoluir na passagem de informação gênica.\r\n",
    "\r\n",
    "# Vale a ressalva que alterar as quantidades das constantes é válido para testes afim de especular diferentes resultados."
   ],
   "outputs": [],
   "metadata": {}
  },
  {
   "cell_type": "code",
   "execution_count": 46,
   "source": [
    "# Criamos uma \"população\" aqui, onde seu tamanho foi definido nas constantes tal qual o número de genes.\r\n",
    "# É válido a criação de uma populaççao uma vez que queremos explorar os mecanismos de seleção, cruzamento e mutação.\r\n",
    "populacao = cria_populacao_inicial(TAMANHO_POPULACAO, NUMERO_GENES) \r\n",
    "print('População inicial:') #Nos mostra a população integra.\r\n",
    "print(populacao)\r\n",
    "\r\n",
    "for n in range(NUMERO_GERACOES): #Dentro do \"range\" que abrange o número de gerações.\r\n",
    "    fitness = funcao_objetivo_populacao(populacao) #O fitness tem praticamente a mesma função que a funcao_objetivo_caixabinaria. É ter um \"valor\" baseado no máximo.\r\n",
    "    populacao = funcao_selecao(populacao, fitness) #Aqui os indivíduos serão selecionados com base em uma \"roleta\", sua chance maior de ser escolhido é pesada pelo fitness.\r\n",
    "\r\n",
    "    #Separa-se em dois grupos a nossa população afim de podermos fazer com que haja derivados misturados desses dois grupos.\r\n",
    "    #Esta parte está melhor explicada no READM.ME no exercício A.03, vale uma atenção a mais para esse método de separação.\r\n",
    "    pais = populacao[0::2] #O 0 está indicando a partir de qual elemento da sequência Python começa a contar e 2 é o intervalo.\r\n",
    "    maes = populacao[1::2] #O mesmo aqui, porém se começa a contar a partir do elemento 1.\r\n",
    "\r\n",
    "    contador = 0 #Esse contador foi implementado como uma forma de substituir o lugar da mãe e do pai pelo filho1 e filho2 dentro da lista.\r\n",
    "\r\n",
    "    #Parte que realiza o cruzamento baseada na chance.\r\n",
    "    for pai, mae in zip(pais, maes): #O zip faz um \"pareamento\" das listas. Está melhor explicado no arquivo nessa pasta de \"Algumas coisas valem a pena aprender ou relembrar\"\r\n",
    "        if random.random() <=CHANCE_CRUZAMENTO: #random.random é um número real aleatório entre 0 e 1 que ira ser comparado com a chance de cruzamente anteriormente ditada.\r\n",
    "            filho1, filho2 = funcao_cruzamento(pai, mae) #O dois filhos aqui serão cruzamento dos pais/mães. Dá-se na ração dois pais e dois filhos sempre, nos nossos casos.\r\n",
    "            populacao[contador] = filho1 #Aplica-se a substituição na lista do filho 1.\r\n",
    "            populacao[contador + 1] = filho2 #Mesma coisa que acima mas para o filho 2.\r\n",
    "        contador = contador + 2 #Posição no contador acrecida de 2 afim de alocar os filhos no lugar dos pais.\r\n",
    "\r\n",
    "    for n in range(len(populacao)): #Lê-se: para cada elemento no \"range\" do comprimento da população.\r\n",
    "        if random.random() <= CHANCE_MUTACAO: #random.random é um número real aleatório entre 0 e 1 que ira ser comparado com a chance de mutação anteriormente ditada.\r\n",
    "            individuo = populacao[n] #Lê-se: O indivíduo é um elemento n na população.\r\n",
    "            print()\r\n",
    "            print(individuo)\r\n",
    "            populacao[n] = funcao_mutacao(individuo) #Aqui a mutação acontecerá baseada se sua chance foi menor ou igual a taxa de mutação ditada anteriormente.\r\n",
    "            print(populacao[n])\r\n",
    "            print()\r\n",
    "            #As funções print aqui estão listadas afim de mostrar melhor onde a mutação aconteceu. \r\n",
    "print()\r\n",
    "print('População final:') #Nos mostra a população após a mutação.\r\n",
    "print(populacao)"
   ],
   "outputs": [
    {
     "output_type": "stream",
     "name": "stdout",
     "text": [
      "População inicial:\n",
      "[[0, 1, 1, 1], [0, 0, 0, 0], [0, 0, 0, 0], [0, 0, 0, 1], [1, 0, 1, 1], [1, 1, 1, 0]]\n",
      "\n",
      "[1, 1, 1, 0]\n",
      "[1, 1, 1, 0]\n",
      "\n",
      "\n",
      "[1, 1, 1, 0]\n",
      "[1, 1, 1, 0]\n",
      "\n",
      "\n",
      "[1, 1, 1, 1]\n",
      "[1, 1, 1, 1]\n",
      "\n",
      "\n",
      "[1, 1, 1, 1]\n",
      "[1, 1, 0, 1]\n",
      "\n",
      "\n",
      "[1, 1, 1, 1]\n",
      "[1, 1, 1, 1]\n",
      "\n",
      "\n",
      "[1, 1, 1, 1]\n",
      "[1, 1, 1, 1]\n",
      "\n",
      "\n",
      "[1, 1, 0, 1]\n",
      "[1, 1, 0, 1]\n",
      "\n",
      "\n",
      "[1, 1, 0, 1]\n",
      "[1, 0, 0, 1]\n",
      "\n",
      "\n",
      "[1, 1, 1, 1]\n",
      "[1, 0, 1, 1]\n",
      "\n",
      "\n",
      "População final:\n",
      "[[1, 1, 0, 1], [1, 1, 0, 1], [1, 0, 1, 1], [1, 1, 0, 1], [1, 1, 0, 1], [1, 1, 0, 1]]\n"
     ]
    }
   ],
   "metadata": {}
  },
  {
   "cell_type": "markdown",
   "source": [
    "## Conclusão\r\n",
    "\r\n",
    "Pudemos ver que usando somente a parte de `\"seleção\"`, que não temos a mistura dos genes, logo nem mutações. Por sorte, o indivíduo com os genes que for selecionado ira dominar e se consagrar na população final como único.\r\n",
    "\r\n",
    "Depois, com a parte de `\"cruzamento\"`, pudemos obter respostas que não teríamos utilizando somente seleção. Pode não ser o \"melhor\" resultado, mas no final foi o que ficou. Ele faz um cruzamento aleatório, cada vez que rodarmos o código obteremos um resultado diferente.\r\n",
    "\r\n",
    "Implementando a `\"mutação\"` o algoritmo se torna completo nas suas três etapas essenciais (**_seleção > cruzamento > mutação_**). Pudemos vizualizar a mutação de um gene selecionado (a mais simples) e como isso afetou nosso resultado final. Vale lembrar que uma mutação muito alta faz com que se perca o trabalho realizado nas etapas anteriores.\r\n"
   ],
   "metadata": {}
  },
  {
   "cell_type": "markdown",
   "source": [
    "## Playground\n",
    "\n"
   ],
   "metadata": {}
  },
  {
   "cell_type": "markdown",
   "source": [
    "Fiz novamente pelo CHAT GPT, mesmo pedindo somente o parâmetro de seleção ele dá um jeito de implementar alguns que envolvam cruzamento, aparentemente. Achei legal que ele define como \"tamanho do cromossomo\" a quantidade de genes, [w,x,y,z] = CHROMOSSOME SIZE = 4, além desse \"SELECTION RATE\", para selecionar somente metade dos indivíduos. Diferente da seleção que fizemos, o CHAT GPT implementa uma que, acredito, seja mais específica."
   ],
   "metadata": {}
  },
  {
   "cell_type": "code",
   "execution_count": 47,
   "source": [
    "import random\r\n",
    "\r\n",
    "# Definir os parâmetros do algoritmo genético\r\n",
    "POPULATION_SIZE = 5\r\n",
    "GENERATIONS = 5\r\n",
    "SELECTION_RATE = 0.5\r\n",
    "CHROMOSOME_SIZE = 4\r\n",
    "\r\n",
    "# Criar uma função de aptidão que avalie a qualidade de cada indivíduo\r\n",
    "def fitness(individual):\r\n",
    "    boxes = [[0, 2], [1], [3], []]  # valores em cada caixa\r\n",
    "    total = 0\r\n",
    "    for i in range(CHROMOSOME_SIZE):\r\n",
    "        if individual[i] == 1:\r\n",
    "            total += sum(boxes[i])\r\n",
    "    return total\r\n",
    "\r\n",
    "# Gerar a população inicial de forma aleatória\r\n",
    "def generate_individual():\r\n",
    "    return [random.randint(0, 1) for _ in range(CHROMOSOME_SIZE)]\r\n",
    "\r\n",
    "population = [generate_individual() for _ in range(POPULATION_SIZE)]\r\n",
    "\r\n",
    "# Executar o loop de evolução\r\n",
    "for generation in range(GENERATIONS):\r\n",
    "    # Avaliar a aptidão de cada indivíduo da população\r\n",
    "    fitness_scores = [(individual, fitness(individual)) for individual in population]\r\n",
    "    fitness_scores.sort(reverse=True, key=lambda x: x[1])\r\n",
    "    fittest_individual = fitness_scores[0][0]\r\n",
    "    print(\"Generation:\", generation, \"Fittest:\", fittest_individual, \"Fitness Score:\", fitness_scores[0][1])\r\n",
    "\r\n",
    "    # Selecionar os indivíduos mais aptos para reprodução\r\n",
    "    selected_individuals = [individual for individual, _ in fitness_scores[:int(POPULATION_SIZE * SELECTION_RATE)]]\r\n",
    "\r\n",
    "    # Criar uma nova população somente com os indivíduos selecionados\r\n",
    "    population = selected_individuals + [generate_individual() for _ in range(POPULATION_SIZE - len(selected_individuals))]\r\n"
   ],
   "outputs": [
    {
     "output_type": "stream",
     "name": "stdout",
     "text": [
      "Generation: 0 Fittest: [0, 1, 1, 1] Fitness Score: 4\n",
      "Generation: 1 Fittest: [0, 1, 1, 1] Fitness Score: 4\n",
      "Generation: 2 Fittest: [1, 1, 1, 1] Fitness Score: 6\n",
      "Generation: 3 Fittest: [1, 1, 1, 1] Fitness Score: 6\n",
      "Generation: 4 Fittest: [1, 1, 1, 1] Fitness Score: 6\n"
     ]
    }
   ],
   "metadata": {}
  }
 ],
 "metadata": {
  "kernelspec": {
   "name": "python3",
   "display_name": "Python 3.9.7 64-bit ('ilumpy': venv)"
  },
  "language_info": {
   "codemirror_mode": {
    "name": "ipython",
    "version": 3
   },
   "file_extension": ".py",
   "mimetype": "text/x-python",
   "name": "python",
   "nbconvert_exporter": "python",
   "pygments_lexer": "ipython3",
   "version": "3.9.7"
  },
  "org": null,
  "interpreter": {
   "hash": "757d12d9a4a55c2e2de9a2ad417c398c36634f4a955191ac0231526c1b344dad"
  }
 },
 "nbformat": 4,
 "nbformat_minor": 4
}