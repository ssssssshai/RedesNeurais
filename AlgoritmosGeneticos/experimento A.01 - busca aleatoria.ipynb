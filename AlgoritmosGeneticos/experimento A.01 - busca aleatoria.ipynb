{
 "cells": [
  {
   "cell_type": "markdown",
   "source": [
    "Busca aleatória\n",
    "===============\n",
    "\n"
   ],
   "metadata": {}
  },
  {
   "cell_type": "markdown",
   "source": [
    "## Introdução\n",
    "\n"
   ],
   "metadata": {}
  },
  {
   "cell_type": "markdown",
   "source": [
    "Uma forma simples de se encontrar uma solução para um `problema de otimização` é realizando uma `busca aleatória`. A busca aleatória, como o próprio nome sugere, é um algoritmo onde um certo `espaço de busca` é definido de onde sorteamos `candidatos` de soluções para o problema.\r\n",
    "\r\n",
    "Diferentemente de outros algoritmos de otimização, a busca aleatória não requer que a `função objetivo` seja diferenciável nem contínua.\r\n",
    "\r\n",
    "Um algoritmo de busca aleatória segue os seguintes passos:\r\n",
    "\r\n",
    "1.  Um espaço de busca é definido\r\n",
    "\r\n",
    "2.  Um candidato $x$ dentro do espaço de busca é sorteado aleatoriamente\r\n",
    "\r\n",
    "3.  Calculamos o resultado da função objetivo para o candidato $x$\r\n",
    "\r\n",
    "4.  Se o critério de parada for atingido, encerrar o algoritmo e retornar ao usuário o candidato que teve melhor resultado durante a busca. Do contrário, retorne ao passo 2\r\n",
    "\r\n"
   ],
   "metadata": {}
  },
  {
   "cell_type": "markdown",
   "source": [
    "## Reflexões\n",
    "\n"
   ],
   "metadata": {}
  },
  {
   "cell_type": "markdown",
   "source": [
    "Você diria que o algoritmo de busca aleatória é determinístico ou probabilístico?\n",
    "\n",
    "Em quais problemas de otimização você acredita que este algoritmo seja uma boa escolha?\n",
    "\n",
    "Em quais problemas de otimização você acredita que este algoritmo seja uma má escolha?\n",
    "\n"
   ],
   "metadata": {}
  },
  {
   "cell_type": "markdown",
   "source": [
    "## Objetivo\n",
    "\n"
   ],
   "metadata": {}
  },
  {
   "cell_type": "markdown",
   "source": [
    "Encontrar uma solução para o problema das caixas binárias usando o algoritmo de busca aleatória. Considere 4 caixas.\r\n",
    "\r\n"
   ],
   "metadata": {}
  },
  {
   "cell_type": "markdown",
   "source": [
    "## Descrição do problema\n",
    "\n"
   ],
   "metadata": {}
  },
  {
   "cell_type": "markdown",
   "source": [
    "O problema das caixas binárias é simples: nós temos um certo número de caixas e cada uma pode conter um valor do conjunto $\\{0, 1\\}$. O objetivo é encontrar uma combinação de caixas onde a soma dos valores contidos dentro delas é máximo.\n",
    "\n",
    "Como todo problema computacional, um dos desafios é &ldquo;traduzir&rdquo; o problema dado em estruturas computacionais.\n",
    "\n"
   ],
   "metadata": {}
  },
  {
   "cell_type": "markdown",
   "source": [
    "## Importações\n",
    "\n"
   ],
   "metadata": {}
  },
  {
   "cell_type": "code",
   "execution_count": 14,
   "source": [
    "from funcoes import individuo_caixabinaria, funcao_objetivo_caixabinaria\r\n",
    "#Importação das funções necessárias do arquivo funcoes.py que serão usadas."
   ],
   "outputs": [],
   "metadata": {}
  },
  {
   "cell_type": "markdown",
   "source": [
    "## Códigos e discussão\n",
    "\n"
   ],
   "metadata": {}
  },
  {
   "cell_type": "code",
   "execution_count": 15,
   "source": [
    "# Constantes para serem usadas:\r\n",
    "NUMERO_CANDIDATOS = 15 #Número de candidatos que sujeitaremos ao testes para a busca.\r\n",
    "NUMERO_DE_GENES = 4 #Número de \"digitos\" ou \"caixas\"."
   ],
   "outputs": [],
   "metadata": {}
  },
  {
   "cell_type": "code",
   "execution_count": 16,
   "source": [
    "for n in range(NUMERO_CANDIDATOS): #Lê-se: Para cada elemento no \"range\" que abrange o número de candidatos.\r\n",
    "    candidato = individuo_caixabinaria(NUMERO_DE_GENES) #Um indivíduo gerado baseado na função que segue após o =, explicada no arquivo funcoes.py.\r\n",
    "    funcao_objetivo = funcao_objetivo_caixabinaria(candidato) #Será computadodo uma soma dos genes do indivíduo. Observe fora dos [].\r\n",
    "    print(candidato, funcao_objetivo) "
   ],
   "outputs": [
    {
     "output_type": "stream",
     "name": "stdout",
     "text": [
      "[1, 0, 0, 1] 2\n",
      "[0, 1, 1, 1] 3\n",
      "[1, 0, 0, 0] 1\n",
      "[0, 1, 1, 0] 2\n",
      "[0, 1, 1, 1] 3\n",
      "[1, 0, 0, 0] 1\n",
      "[0, 1, 0, 0] 1\n",
      "[0, 0, 0, 1] 1\n",
      "[1, 1, 0, 0] 2\n",
      "[0, 0, 0, 1] 1\n",
      "[0, 0, 1, 1] 2\n",
      "[0, 0, 0, 1] 1\n",
      "[1, 0, 0, 0] 1\n",
      "[1, 0, 1, 0] 2\n",
      "[1, 1, 1, 1] 4\n"
     ]
    }
   ],
   "metadata": {}
  },
  {
   "cell_type": "markdown",
   "source": [
    "## Conclusão\r\n",
    "\r\n",
    "O problema das 4 caixas binárias foi resolvido com sucesso, atra´ves do teste de várias combinações para chegar a um valor X máximo que é a soma dos valores máximos que podem ser obtidos nos elementos das caixas, que eram 1 e 0, ou seja, 1+1+1+1 = 4. É um algoritmo probabilístico, já que, através de vários testes vê-se que ele não resulta na mesma coisa para todos os testes."
   ],
   "metadata": {}
  },
  {
   "cell_type": "markdown",
   "source": [
    "## Playground\r\n",
    "\r\n"
   ],
   "metadata": {}
  },
  {
   "cell_type": "markdown",
   "source": [
    "Professor, estou pensando em aqui no Playground jogar nossas \"regras\" e o \"objetivo\" para analisar como o Chat GPT entende e modela essa problema. Assim, acredito que consigo ter uma visão \"diferente\" sobre o mesmo problema.\r\n",
    "Aqui, por exemplo, ele mostoru qual seria o melhor resultado, o [1, 1, 1, 1], e criou um ponto de parada, achei muito legal!"
   ],
   "metadata": {}
  },
  {
   "cell_type": "code",
   "execution_count": 17,
   "source": [
    "import random\r\n",
    "\r\n",
    "# Definir espaço de busca\r\n",
    "espaco_busca = [[0, 1] for _ in range(4)]  # 4 caixas, cada uma pode ter 0 ou 1 objetos\r\n",
    "\r\n",
    "# Definir função objetivo\r\n",
    "def func_objetivo(candidato):\r\n",
    "    soma_caixa1 = candidato[0] + candidato[1]  # soma objetos nas caixas 1 e 2\r\n",
    "    soma_caixa2 = candidato[2] + candidato[3]  # soma objetos nas caixas 3 e 4\r\n",
    "    if soma_caixa1 == soma_caixa2:\r\n",
    "        return 1  # candidato válido\r\n",
    "    else:\r\n",
    "        return 0  # candidato inválido\r\n",
    "\r\n",
    "# Definir critério de parada\r\n",
    "max_iter = 1000\r\n",
    "iteracao = 0\r\n",
    "melhor_candidato = None\r\n",
    "melhor_resultado = -1\r\n",
    "\r\n",
    "# Executar algoritmo de busca aleatória\r\n",
    "while iteracao < max_iter:\r\n",
    "    # Sortear candidato aleatório dentro do espaço de busca\r\n",
    "    candidato = [random.choice(espaco_busca[i]) for i in range(4)]\r\n",
    "    \r\n",
    "    # Avaliar função objetivo para o candidato\r\n",
    "    resultado = func_objetivo(candidato)\r\n",
    "    \r\n",
    "    # Atualizar melhor candidato e resultado\r\n",
    "    if resultado > melhor_resultado:\r\n",
    "        melhor_candidato = candidato\r\n",
    "        melhor_resultado = resultado\r\n",
    "        \r\n",
    "    # Verificar critério de parada\r\n",
    "    if melhor_resultado == 1:\r\n",
    "        break\r\n",
    "    \r\n",
    "    # Incrementar iteração\r\n",
    "    iteracao += 1\r\n",
    "\r\n",
    "# Retornar melhor candidato encontrado\r\n",
    "print(f\"Melhor candidato encontrado: {melhor_candidato}\")"
   ],
   "outputs": [
    {
     "output_type": "stream",
     "name": "stdout",
     "text": [
      "Melhor candidato encontrado: [0, 0, 0, 0]\n"
     ]
    }
   ],
   "metadata": {}
  },
  {
   "cell_type": "markdown",
   "source": [
    "Pedi para ele juntar os dois códigos, o que fizemos em aula e o que ele mesmo gerou, para exibir as duas funcionalidades. E funcionu também!"
   ],
   "metadata": {}
  },
  {
   "cell_type": "code",
   "execution_count": 18,
   "source": [
    "import random\r\n",
    "\r\n",
    "# Definir espaço de busca\r\n",
    "espaco_busca = [[0, 1] for _ in range(4)]  # 4 caixas, cada uma pode ter 0 ou 1 objetos\r\n",
    "\r\n",
    "# Definir função objetivo\r\n",
    "def func_objetivo(candidato):\r\n",
    "    soma_caixa1 = candidato[0] + candidato[1]  # soma objetos nas caixas 1 e 2\r\n",
    "    soma_caixa2 = candidato[2] + candidato[3]  # soma objetos nas caixas 3 e 4\r\n",
    "    if soma_caixa1 == soma_caixa2:\r\n",
    "        return 1  # candidato válido\r\n",
    "    else:\r\n",
    "        return 0  # candidato inválido\r\n",
    "\r\n",
    "# Definir critério de parada\r\n",
    "max_iter = 1000\r\n",
    "iteracao = 0\r\n",
    "melhor_candidato = None\r\n",
    "melhor_resultado = -1\r\n",
    "historico_candidatos = []  # lista para armazenar todos os candidatos gerados\r\n",
    "\r\n",
    "# Executar algoritmo de busca aleatória\r\n",
    "while iteracao < max_iter:\r\n",
    "    # Sortear candidato aleatório dentro do espaço de busca\r\n",
    "    candidato = [random.choice(espaco_busca[i]) for i in range(4)]\r\n",
    "    historico_candidatos.append(candidato)  # adicionar candidato ao histórico de candidatos\r\n",
    "    \r\n",
    "    # Avaliar função objetivo para o candidato\r\n",
    "    resultado = func_objetivo(candidato)\r\n",
    "    \r\n",
    "    # Atualizar melhor candidato e resultado\r\n",
    "    if resultado > melhor_resultado:\r\n",
    "        melhor_candidato = candidato\r\n",
    "        melhor_resultado = resultado\r\n",
    "        \r\n",
    "    # Verificar critério de parada\r\n",
    "    if melhor_resultado == 1:\r\n",
    "        break\r\n",
    "    \r\n",
    "    # Incrementar iteração\r\n",
    "    iteracao += 1\r\n",
    "\r\n",
    "# Retornar melhor candidato encontrado\r\n",
    "print(f\"Melhor candidato encontrado: {melhor_candidato}\")\r\n",
    "print(\"Todos os candidatos testados:\")\r\n",
    "for candidato in historico_candidatos:\r\n",
    "    print(candidato)\r\n"
   ],
   "outputs": [
    {
     "output_type": "stream",
     "name": "stdout",
     "text": [
      "Melhor candidato encontrado: [1, 1, 1, 1]\n",
      "Todos os candidatos testados:\n",
      "[0, 0, 0, 1]\n",
      "[1, 1, 1, 1]\n"
     ]
    }
   ],
   "metadata": {}
  }
 ],
 "metadata": {
  "kernelspec": {
   "name": "python3",
   "display_name": "Python 3.9.7 64-bit ('ilumpy': venv)"
  },
  "language_info": {
   "codemirror_mode": {
    "name": "ipython",
    "version": 3
   },
   "file_extension": ".py",
   "mimetype": "text/x-python",
   "name": "python",
   "nbconvert_exporter": "python",
   "pygments_lexer": "ipython3",
   "version": "3.9.7"
  },
  "org": null,
  "interpreter": {
   "hash": "757d12d9a4a55c2e2de9a2ad417c398c36634f4a955191ac0231526c1b344dad"
  }
 },
 "nbformat": 4,
 "nbformat_minor": 4
}