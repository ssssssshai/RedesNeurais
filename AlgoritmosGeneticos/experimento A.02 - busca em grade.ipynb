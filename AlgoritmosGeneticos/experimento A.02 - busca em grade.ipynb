{
 "cells": [
  {
   "cell_type": "markdown",
   "source": [
    "Busca em grade\n",
    "==============\n",
    "\n"
   ],
   "metadata": {}
  },
  {
   "cell_type": "markdown",
   "source": [
    "## Introdução\r\n",
    "\r\n"
   ],
   "metadata": {}
  },
  {
   "cell_type": "markdown",
   "source": [
    "Uma forma de se encontrar uma solução para um problema de otimização é realizando uma `busca em grade`. Uma busca em grade nada mais é do que testar exaustivamente todas as combinações possíveis entre um ou mais conjunto de parâmetros.\r\n",
    "\r\n",
    "Vamos supor que você queira testar dois parâmetros em um problema de otimização, $p$ e $q$. Os valores possíveis para $p$ e $q$ estão exibidos abaixo:\r\n",
    "\r\n",
    "$p = \\{0, 1, 2\\}$\r\n",
    "\r\n",
    "$q = \\{a, b, c\\}$\r\n",
    "\r\n",
    "Em uma busca em grade, nós iremos testar todas as combinações entre $p$ e $q$, sendo elas: $(0, a)$, $(0, b)$, $(0,c)$, $(1, a)$, $(1, b)$, $(1,c)$, $(2, a)$, $(2, b)$ e $(2,c)$.\r\n",
    "\r\n",
    "Um algoritmo de busca em grade segue os seguintes passos:\r\n",
    "\r\n",
    "1.  Definir quais são os parâmetros e quais são os valores possíveis para cada parâmetro\r\n",
    "\r\n",
    "2.  Computar e armazenar o resultado da função objetivo para todas as combinações possíveis dos parâmetros definidos no passo 1\r\n",
    "\r\n",
    "3.  Retornar ao usuário a combinação de parâmetros que teve o melhor resultado durante a busca.\r\n",
    "\r\n"
   ],
   "metadata": {}
  },
  {
   "cell_type": "markdown",
   "source": [
    "## Reflexões\n",
    "\n"
   ],
   "metadata": {}
  },
  {
   "cell_type": "markdown",
   "source": [
    "Você diria que o algoritmo de busca em grade é determinístico ou probabilístico?\n",
    "\n",
    "Será que a busca em grade é capaz de encontrar mínimos (ou máximos) da função objetivo?\n",
    "\n",
    "O que você espera da performance do algoritmo de busca em grade? Como a performance varia com o número de parâmetros e o número de itens nos conjuntos de valores de cada parâmetro?\n",
    "\n"
   ],
   "metadata": {}
  },
  {
   "cell_type": "markdown",
   "source": [
    "## Objetivo\n",
    "\n"
   ],
   "metadata": {}
  },
  {
   "cell_type": "markdown",
   "source": [
    "Encontrar uma solução para o problema das caixas binárias usando o algoritmo de busca em grade. Considere 4 caixas.\r\n",
    "\r\n"
   ],
   "metadata": {}
  },
  {
   "cell_type": "markdown",
   "source": [
    "## Descrição do problema\n",
    "\n"
   ],
   "metadata": {}
  },
  {
   "cell_type": "markdown",
   "source": [
    "O problema das caixas binárias é simples: nós temos um certo número de caixas e cada uma pode conter um valor do conjunto $\\{0, 1\\}$. O objetivo é encontrar uma combinação de caixas onde a soma dos valores contidos dentro delas é máximo.\n",
    "\n"
   ],
   "metadata": {}
  },
  {
   "cell_type": "markdown",
   "source": [
    "## Importações\n",
    "\n"
   ],
   "metadata": {}
  },
  {
   "cell_type": "code",
   "execution_count": 6,
   "source": [
    "from funcoes import funcao_objetivo_caixabinaria \r\n",
    "import itertools #Oferece uma coleção de funções para facilitar o trabalho, mais sobre o Intertools: https://docs.python.org/3/library/itertools.html.\r\n",
    "\r\n",
    "#Importamos somente a função necessária do arquivo \"funcoes.py\" e o \"intertools\", esse último sendo do próprio Python."
   ],
   "outputs": [],
   "metadata": {}
  },
  {
   "cell_type": "markdown",
   "source": [
    "## Códigos e discussão\n",
    "\n"
   ],
   "metadata": {}
  },
  {
   "cell_type": "code",
   "execution_count": 7,
   "source": [
    "#Aqui iremos construir de maneira simplificada uma maneira de busca exaustiva para achar o melhor resultado dos genes.\r\n",
    "for gene1 in [0,1]: #Todas as linhas que se seguem no mesmo modelo que esta significam a mesma coisa: um valor de 0 ou 1 está sendo inteirado dentro da variável geneX.\r\n",
    "    for gene2 in [0,1]:\r\n",
    "        for gene3 in [0,1]:\r\n",
    "             for gene4 in [0,1]: \r\n",
    "                individuo = [gene1, gene2, gene3, gene4] #Criação de uma lista contendo todos os genesX.\r\n",
    "                funcao_objetivo = funcao_objetivo_caixabinaria(individuo) #Calcula o valor dos genes do individuo. Aqui, nosso individuo, cujo encontra-se na linha acima, é uma lista composta por elementos dos genesX com números binários (0 ou 1).\r\n",
    "                print(individuo, funcao_objetivo) #Pritamos o indivíduo e a soma dos seus genes."
   ],
   "outputs": [
    {
     "output_type": "stream",
     "name": "stdout",
     "text": [
      "[0, 0, 0, 0] 1\n",
      "[0, 0, 0, 1] 2\n",
      "[0, 0, 1, 0] 2\n",
      "[0, 0, 1, 1] 3\n",
      "[0, 1, 0, 0] 2\n",
      "[0, 1, 0, 1] 3\n",
      "[0, 1, 1, 0] 3\n",
      "[0, 1, 1, 1] 4\n",
      "[1, 0, 0, 0] 2\n",
      "[1, 0, 0, 1] 3\n",
      "[1, 0, 1, 0] 3\n",
      "[1, 0, 1, 1] 4\n",
      "[1, 1, 0, 0] 3\n",
      "[1, 1, 0, 1] 4\n",
      "[1, 1, 1, 0] 4\n",
      "[1, 1, 1, 1] 5\n"
     ]
    }
   ],
   "metadata": {}
  },
  {
   "cell_type": "code",
   "execution_count": 8,
   "source": [
    "for individuo in itertools.product([0,1], [0,1], [0,1], [0,1]): #Para cada indivíduo o intertools vai gerar um produto cartesiano do conjunto de dois elementos, aqui seria de 0 e 1.\r\n",
    "    funcao_objetivo = funcao_objetivo_caixabinaria(individuo) #Calcula o valor dos genes do individuo. Aqui, nosso individuo, cujo encontra-se na linha acima, é uma lista composta por elementos dos genesX com números binários (0 ou 1).\r\n",
    "    print(individuo, funcao_objetivo)"
   ],
   "outputs": [
    {
     "output_type": "stream",
     "name": "stdout",
     "text": [
      "(0, 0, 0, 0) 1\n",
      "(0, 0, 0, 1) 2\n",
      "(0, 0, 1, 0) 2\n",
      "(0, 0, 1, 1) 3\n",
      "(0, 1, 0, 0) 2\n",
      "(0, 1, 0, 1) 3\n",
      "(0, 1, 1, 0) 3\n",
      "(0, 1, 1, 1) 4\n",
      "(1, 0, 0, 0) 2\n",
      "(1, 0, 0, 1) 3\n",
      "(1, 0, 1, 0) 3\n",
      "(1, 0, 1, 1) 4\n",
      "(1, 1, 0, 0) 3\n",
      "(1, 1, 0, 1) 4\n",
      "(1, 1, 1, 0) 4\n",
      "(1, 1, 1, 1) 5\n"
     ]
    }
   ],
   "metadata": {}
  },
  {
   "cell_type": "code",
   "execution_count": 9,
   "source": [
    "for individuo in itertools.product([0,1], repeat = 6): #Num comprimento 6, serão geradas todas as combinações possíveis entre 0 e 1.\r\n",
    "    funcao_objetivo = funcao_objetivo_caixabinaria(individuo) #Calcula o valor dos genes do individuo. Aqui, nosso individuo, cujo encontra-se na linha acima, é uma lista composta por elementos dos genesX com números binários (0 ou 1).\r\n",
    "    print(individuo, funcao_objetivo)"
   ],
   "outputs": [
    {
     "output_type": "stream",
     "name": "stdout",
     "text": [
      "(0, 0, 0, 0, 0, 0) 1\n",
      "(0, 0, 0, 0, 0, 1) 2\n",
      "(0, 0, 0, 0, 1, 0) 2\n",
      "(0, 0, 0, 0, 1, 1) 3\n",
      "(0, 0, 0, 1, 0, 0) 2\n",
      "(0, 0, 0, 1, 0, 1) 3\n",
      "(0, 0, 0, 1, 1, 0) 3\n",
      "(0, 0, 0, 1, 1, 1) 4\n",
      "(0, 0, 1, 0, 0, 0) 2\n",
      "(0, 0, 1, 0, 0, 1) 3\n",
      "(0, 0, 1, 0, 1, 0) 3\n",
      "(0, 0, 1, 0, 1, 1) 4\n",
      "(0, 0, 1, 1, 0, 0) 3\n",
      "(0, 0, 1, 1, 0, 1) 4\n",
      "(0, 0, 1, 1, 1, 0) 4\n",
      "(0, 0, 1, 1, 1, 1) 5\n",
      "(0, 1, 0, 0, 0, 0) 2\n",
      "(0, 1, 0, 0, 0, 1) 3\n",
      "(0, 1, 0, 0, 1, 0) 3\n",
      "(0, 1, 0, 0, 1, 1) 4\n",
      "(0, 1, 0, 1, 0, 0) 3\n",
      "(0, 1, 0, 1, 0, 1) 4\n",
      "(0, 1, 0, 1, 1, 0) 4\n",
      "(0, 1, 0, 1, 1, 1) 5\n",
      "(0, 1, 1, 0, 0, 0) 3\n",
      "(0, 1, 1, 0, 0, 1) 4\n",
      "(0, 1, 1, 0, 1, 0) 4\n",
      "(0, 1, 1, 0, 1, 1) 5\n",
      "(0, 1, 1, 1, 0, 0) 4\n",
      "(0, 1, 1, 1, 0, 1) 5\n",
      "(0, 1, 1, 1, 1, 0) 5\n",
      "(0, 1, 1, 1, 1, 1) 6\n",
      "(1, 0, 0, 0, 0, 0) 2\n",
      "(1, 0, 0, 0, 0, 1) 3\n",
      "(1, 0, 0, 0, 1, 0) 3\n",
      "(1, 0, 0, 0, 1, 1) 4\n",
      "(1, 0, 0, 1, 0, 0) 3\n",
      "(1, 0, 0, 1, 0, 1) 4\n",
      "(1, 0, 0, 1, 1, 0) 4\n",
      "(1, 0, 0, 1, 1, 1) 5\n",
      "(1, 0, 1, 0, 0, 0) 3\n",
      "(1, 0, 1, 0, 0, 1) 4\n",
      "(1, 0, 1, 0, 1, 0) 4\n",
      "(1, 0, 1, 0, 1, 1) 5\n",
      "(1, 0, 1, 1, 0, 0) 4\n",
      "(1, 0, 1, 1, 0, 1) 5\n",
      "(1, 0, 1, 1, 1, 0) 5\n",
      "(1, 0, 1, 1, 1, 1) 6\n",
      "(1, 1, 0, 0, 0, 0) 3\n",
      "(1, 1, 0, 0, 0, 1) 4\n",
      "(1, 1, 0, 0, 1, 0) 4\n",
      "(1, 1, 0, 0, 1, 1) 5\n",
      "(1, 1, 0, 1, 0, 0) 4\n",
      "(1, 1, 0, 1, 0, 1) 5\n",
      "(1, 1, 0, 1, 1, 0) 5\n",
      "(1, 1, 0, 1, 1, 1) 6\n",
      "(1, 1, 1, 0, 0, 0) 4\n",
      "(1, 1, 1, 0, 0, 1) 5\n",
      "(1, 1, 1, 0, 1, 0) 5\n",
      "(1, 1, 1, 0, 1, 1) 6\n",
      "(1, 1, 1, 1, 0, 0) 5\n",
      "(1, 1, 1, 1, 0, 1) 6\n",
      "(1, 1, 1, 1, 1, 0) 6\n",
      "(1, 1, 1, 1, 1, 1) 7\n"
     ]
    }
   ],
   "metadata": {}
  },
  {
   "cell_type": "markdown",
   "source": [
    "## Conclusão\r\n",
    "\r\n",
    "É um algoritmo determinístico, acredito. Pois ele faz todas as possibilidades possíveis e me mostra qual for, se forem usados os mesmos parâmetros por outra pessoa, acredito que dará a mesma resposta, justamente por testar todas as possibilidades.\r\n",
    "\r\n",
    "A busca exaustiva é exaustiva de entender também.\r\n",
    "\r\n",
    "É útil em casos onde não tem muito o que buscar dentro do \"individuo\", se não, demora muito mais e se torna muito pesado/exaustivo. Para casos de maximização é legal! E também numa dúvida de saber qual o valor \"máximo\" dos genes do individuo."
   ],
   "metadata": {}
  },
  {
   "cell_type": "markdown",
   "source": [
    "## Playground\r\n",
    "\r\n",
    "Quis testar os parâmetros no GPT, e depois de algumas correções, saiu isso. Não achei que foi viável. Achando limitações do algoritmo!\r\n"
   ],
   "metadata": {}
  },
  {
   "cell_type": "code",
   "execution_count": 10,
   "source": [
    "from itertools import product\r\n",
    "\r\n",
    "def first_fit(items, capacities):\r\n",
    "    \"\"\"\r\n",
    "    Algoritmo First-Fit para organizar os itens nas caixas.\r\n",
    "    \"\"\"\r\n",
    "    boxes = [[] for _ in capacities]\r\n",
    "    for item in items:\r\n",
    "        for i, c in enumerate(capacities):\r\n",
    "            if sum(boxes[i]) + item <= c:\r\n",
    "                boxes[i].append(item)\r\n",
    "                break\r\n",
    "        else:\r\n",
    "            return None\r\n",
    "    return boxes\r\n",
    "\r\n",
    "def best_fit(items, capacities):\r\n",
    "    \"\"\"\r\n",
    "    Algoritmo Best-Fit para organizar os itens nas caixas.\r\n",
    "    \"\"\"\r\n",
    "    boxes = [[] for _ in capacities]\r\n",
    "    for item in items:\r\n",
    "        # Tentar colocar o item na caixa com menor espaço livre\r\n",
    "        min_capacity = float('inf')\r\n",
    "        min_index = None\r\n",
    "        for i, c in enumerate(capacities):\r\n",
    "            if c - sum(boxes[i]) >= item and c - sum(boxes[i]) < min_capacity:\r\n",
    "                min_capacity = c - sum(boxes[i])\r\n",
    "                min_index = i\r\n",
    "        if min_index is not None:\r\n",
    "            boxes[min_index].append(item)\r\n",
    "        else:\r\n",
    "            return None\r\n",
    "    return boxes\r\n",
    "\r\n",
    "def worst_fit(items, capacities):\r\n",
    "    \"\"\"\r\n",
    "    Algoritmo Worst-Fit para organizar os itens nas caixas.\r\n",
    "    \"\"\"\r\n",
    "    boxes = [[] for _ in capacities]\r\n",
    "    for item in items:\r\n",
    "        # Tentar colocar o item na caixa com maior espaço livre\r\n",
    "        max_capacity = 0\r\n",
    "        max_index = None\r\n",
    "        for i, c in enumerate(capacities):\r\n",
    "            if c - sum(boxes[i]) >= item and c - sum(boxes[i]) > max_capacity:\r\n",
    "                max_capacity = c - sum(boxes[i])\r\n",
    "                max_index = i\r\n",
    "        if max_index is not None:\r\n",
    "            boxes[max_index].append(item)\r\n",
    "        else:\r\n",
    "            return None  # Retorna None se não encontrar nenhuma caixa válida\r\n",
    "    return boxes\r\n",
    "\r\n",
    "\r\n",
    "def search_boxes(items, capacities):\r\n",
    "    \"\"\"\r\n",
    "    Realiza busca em grade para encontrar a melhor combinação de algoritmo e parâmetros para organizar os itens nas caixas.\r\n",
    "    \"\"\"\r\n",
    "    N = range(1, len(capacities) + 1)  # Quantidade de caixas a serem usadas\r\n",
    "    M = ['first_fit', 'best_fit', 'worst_fit']  # Algoritmos disponíveis\r\n",
    "\r\n",
    "    best_score = float('inf')\r\n",
    "    for n, m in product(N, M):\r\n",
    "        boxes = getattr(sys.modules[__name__], m)(items[:], capacities[:n])\r\n",
    "        if boxes is None:  # Verifica se a função de organização de caixas retornou None\r\n",
    "            continue  # Pula essa combinação de parâmetros\r\n",
    "        score = sum(abs(sum(group) - c) for c, group in zip(capacities[:n], boxes))\r\n",
    "        if score < best_score:\r\n",
    "            best_score = score\r\n",
    "            best_params = (n, m)\r\n",
    "    return best_params\r\n",
    "\r\n",
    "# Exemplo de uso\r\n",
    "items = [1, 2, 3, 4, 5, 6, 7, 8, 9, 10]\r\n",
    "capacities = [10, 20, 30, 40]\r\n",
    "best_params = search_boxes(items, capacities)\r\n",
    "print(best_params)  # Output: (4, 'worst_fit')\r\n",
    "\r\n"
   ],
   "outputs": [
    {
     "output_type": "stream",
     "name": "stdout",
     "text": [
      "(3, 'first_fit')\n"
     ]
    }
   ],
   "metadata": {}
  }
 ],
 "metadata": {
  "kernelspec": {
   "name": "python3",
   "display_name": "Python 3.9.7 64-bit"
  },
  "language_info": {
   "codemirror_mode": {
    "name": "ipython",
    "version": 3
   },
   "file_extension": ".py",
   "mimetype": "text/x-python",
   "name": "python",
   "nbconvert_exporter": "python",
   "pygments_lexer": "ipython3",
   "version": "3.9.7"
  },
  "org": null,
  "interpreter": {
   "hash": "ac59ebe37160ed0dfa835113d9b8498d9f09ceb179beaac4002f036b9467c963"
  }
 },
 "nbformat": 4,
 "nbformat_minor": 4
}