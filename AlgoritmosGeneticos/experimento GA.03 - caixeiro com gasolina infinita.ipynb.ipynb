{
 "cells": [
  {
   "attachments": {},
   "cell_type": "markdown",
   "metadata": {},
   "source": [
    "Caixeiro viajante com gasolina infinita\n",
    "========================================\n",
    "\n"
   ]
  },
  {
   "attachments": {},
   "cell_type": "markdown",
   "metadata": {},
   "source": [
    "## Introdução\n",
    "\n"
   ]
  },
  {
   "attachments": {},
   "cell_type": "markdown",
   "metadata": {},
   "source": [
    "Já havíamos resolvido o problema do caixeiro viajante no experimento A.06, aqui, porém, queremos achar o caminho de maior distância que ele pode percorrer (e aqui não temos a limitação da gasolina!).\n",
    "\n",
    "Considere um número $n\\geq 7$ de coordenadas $(x,y)$ de cidades e que o caixeiro tenha combustível infinito. Você pode gerar as coordenadas de forma aleatória ou simplesmente usar as coordenadas que desejar. O caixeiro só anda em linha reta e apenas entre duas cidades. O caixeiro começa e termina seu trajeto na mesma cidade e, fora a cidade inicial, ele não visita nenhuma outra cidade mais de uma vez."
   ]
  },
  {
   "attachments": {},
   "cell_type": "markdown",
   "metadata": {},
   "source": [
    "## Objetivo\n",
    "\n"
   ]
  },
  {
   "attachments": {},
   "cell_type": "markdown",
   "metadata": {},
   "source": [
    " Encontre o caminho de *maior* distância no problema do caixeiro viajante e mostre ele de forma gráfica.]"
   ]
  },
  {
   "attachments": {},
   "cell_type": "markdown",
   "metadata": {},
   "source": [
    "## Importações\n",
    "\n"
   ]
  },
  {
   "attachments": {},
   "cell_type": "markdown",
   "metadata": {},
   "source": [
    "Todos os comandos de `import` devem estar dentro desta seção.\n",
    "\n"
   ]
  },
  {
   "cell_type": "code",
   "execution_count": 25,
   "metadata": {},
   "outputs": [],
   "source": [
    "import random\n",
    "from itertools import permutations\n",
    "from funcoes import cria_cidades\n",
    "from funcoes import populacao_inicial_cv as cria_populacao_inicial\n",
    "from funcoes import funcao_objetivo_pop_cv\n",
    "from funcoes import funcao_objetivo_cv\n",
    "from funcoes import selecao_roleta_max as funcao_selecao\n",
    "from funcoes import cruzamento_ordenado as funcao_cruzamento\n",
    "from funcoes import mutacao_de_troca as funcao_mutacao\n",
    "import matplotlib.pyplot as plt\n",
    "\n",
    "#Parte das importações das funções do arquivo funções.py."
   ]
  },
  {
   "attachments": {},
   "cell_type": "markdown",
   "metadata": {},
   "source": [
    "## Códigos e discussão\n",
    "\n"
   ]
  },
  {
   "cell_type": "code",
   "execution_count": 26,
   "metadata": {},
   "outputs": [],
   "source": [
    "### CONSTANTES\n",
    "\n",
    "#Constantes relacionadas à busca:\n",
    "TAMANHO_POPULACAO = 50\n",
    "NUMERO_GERACOES = 1000\n",
    "CHANCE_CRUZAMENTO = 0.5\n",
    "CHANCE_MUTACAO = 0.05\n",
    "NUM_COMBATENTES_NO_TORNEIO = 3\n",
    "\n",
    "#Constantes relacionadas ao problema a ser resolvido:\n",
    "NUMERO_CIDADES = 5 #Número de cidades que serão consideradas no \"mapa\" do caixeiro viajante, pelas quais ele tem que passar.\n",
    "CIDADES = cria_cidades(NUMERO_CIDADES) #As cidades serão criadas por esssa função que gera uma cidade (indivíduo) com as suas coordenadas cartesinas (genes)."
   ]
  },
  {
   "cell_type": "code",
   "execution_count": 27,
   "metadata": {},
   "outputs": [],
   "source": [
    "#Funções locais\n",
    "\n",
    "def funcao_objetivo_pop(populacao):\n",
    "    return funcao_objetivo_pop_cv(populacao, CIDADES)\n",
    "\n",
    "def funcao_objetivo_individuo(individuo):\n",
    "    return funcao_objetivo_cv(individuo, CIDADES)"
   ]
  },
  {
   "cell_type": "code",
   "execution_count": 28,
   "metadata": {},
   "outputs": [],
   "source": [
    "#Aqui realizamos uma busca por algoritmo genético, envolvendo todas as partes já vistas anteriormente:\n",
    "\n",
    "populacao = cria_populacao_inicial(TAMANHO_POPULACAO, CIDADES) #A população inicial aqui será criada baseada no número de cidades, igual fizemos nos anteriores considerando indivíduos.\n",
    "\n",
    "melhor_fitness_ja_visto = -float(\"inf\")  #Melhor jeito de escrever infinito em Python é com esse float(\"inf\").\n",
    "\n",
    "for n in range(NUMERO_GERACOES): #Para cada elemento no número de gerações, faça:\n",
    "    \n",
    "    #Parte da seleção:\n",
    "    fitness = funcao_objetivo_pop(populacao)\n",
    "    populacao = funcao_selecao(populacao, fitness)\n",
    "    \n",
    "    #Parte do cruzamento:\n",
    "    pais = populacao[0::2]\n",
    "    maes = populacao[1::2]\n",
    "    \n",
    "    contador = 0\n",
    "    \n",
    "    for pai, mae in zip(pais, maes):\n",
    "        if random.random() <= CHANCE_CRUZAMENTO:\n",
    "            filho1, filho2 = funcao_cruzamento(pai, mae)\n",
    "            populacao[contador] = filho1\n",
    "            populacao[contador + 1] = filho2\n",
    "        \n",
    "        contador = contador + 2   \n",
    "        \n",
    "    #Parte da mutação:\n",
    "    for n in range(len(populacao)):\n",
    "        if random.random() <= CHANCE_MUTACAO:\n",
    "            individuo = populacao[n]\n",
    "            populacao[n] = funcao_mutacao(individuo)            \n",
    "            \n",
    "    #Melhor individuo já visto até agora:\n",
    "    fitness = funcao_objetivo_pop(populacao)\n",
    "    maior_fitness = max(fitness)\n",
    "    if maior_fitness > melhor_fitness_ja_visto:        \n",
    "        posicao = fitness.index(maior_fitness)\n",
    "        melhor_individuo_ja_visto = populacao[posicao]\n",
    "        melhor_fitness_ja_visto = maior_fitness"
   ]
  },
  {
   "cell_type": "code",
   "execution_count": 29,
   "metadata": {},
   "outputs": [],
   "source": [
    "#Busca testando todas as permutações (parte exaustiva do algoritmo):\n",
    "melhor_fitness_ever = -float(\"inf\")\n",
    "\n",
    "#Aqui testando todas as permutações possíveis, ou seja, o cálculo de todas os conjuntos de pontos possíveis:\n",
    "for caminho in permutations(list(CIDADES.keys())):\n",
    "    distancia = funcao_objetivo_individuo(caminho)\n",
    "    if distancia > melhor_fitness_ever:\n",
    "        melhor_fitness_ever = distancia\n",
    "        melhor_resposta_ever = caminho"
   ]
  },
  {
   "cell_type": "code",
   "execution_count": 30,
   "metadata": {},
   "outputs": [
    {
     "name": "stdout",
     "output_type": "stream",
     "text": [
      "\n",
      "Melhor individuo obtido por algoritmos genéticos:\n",
      "['Cidade 4', 'Cidade 1', 'Cidade 2', 'Cidade 3', 'Cidade 0'] com distância: 3.985395654328618\n",
      "\n",
      "Melhor individuo obtido por busca exaustiva:\n",
      "('Cidade 0', 'Cidade 3', 'Cidade 2', 'Cidade 1', 'Cidade 4') com distância: 3.985395654328618\n"
     ]
    }
   ],
   "source": [
    "#Parte da checagem dos resultados:\n",
    "\n",
    "print()\n",
    "print(\"Melhor individuo obtido por algoritmos genéticos:\")\n",
    "print(melhor_individuo_ja_visto, \"com distância:\", melhor_fitness_ja_visto)\n",
    "\n",
    "print()\n",
    "print(\"Melhor individuo obtido por busca exaustiva:\")\n",
    "print(melhor_resposta_ever, \"com distância:\", melhor_fitness_ever)"
   ]
  },
  {
   "cell_type": "code",
   "execution_count": 31,
   "metadata": {},
   "outputs": [
    {
     "name": "stdout",
     "output_type": "stream",
     "text": [
      "[(0.9821539889983917, 0.8970384631778751), (0.09763041231109493, 0.5165337029361026), (0.9894020161601986, 0.5205123677011275), (0.7714925380949857, 0.8241988383123955), (0.22925830135674963, 0.26867917515992235)]\n"
     ]
    },
    {
     "data": {
      "image/png": "[encoded data removed]",
      "text/plain": [
       "<Figure size 432x288 with 1 Axes>"
      ]
     },
     "metadata": {
      "needs_background": "light"
     },
     "output_type": "display_data"
    }
   ],
   "source": [
    "#Pegando as coordenadas dos pontos da resposta dada pelo Algoritmo Genético:\n",
    "grafo = []\n",
    "for i in melhor_individuo_ja_visto:\n",
    "    grafo.append(CIDADES[str(i)])\n",
    "print(grafo)\n",
    "#Lista com as coordenadas dos pontos:\n",
    "lista_pontos = grafo\n",
    "\n",
    "#Coordenadas X e Y dos pontos:\n",
    "x = [ponto[0] for ponto in lista_pontos]\n",
    "y = [ponto[1] for ponto in lista_pontos]\n",
    "for i, nome in enumerate(melhor_individuo_ja_visto):\n",
    "    plt.annotate(nome, (x[i], y[i]), textcoords=\"offset points\", xytext=(5,-10), ha='center')\n",
    "\n",
    "#Plotagem dos pontos:\n",
    "plt.scatter(x, y)\n",
    "\n",
    "#Ligamos os pontos com uma reta entre eles:\n",
    "for i in range(len(lista_pontos)-1):\n",
    "    plt.plot([lista_pontos[i][0], lista_pontos[i+1][0]],\n",
    "             [lista_pontos[i][1], lista_pontos[i+1][1]], 'b-')\n",
    "\n",
    "#Define os rótulos dos eixos:\n",
    "plt.xlabel('Coordenada X')\n",
    "plt.ylabel('Coordenada Y')\n",
    "plt.title('Caminho do caixeiro viajante - algoritmos genéticos')\n",
    "#Plotagem do gráfico:\n",
    "plt.show()"
   ]
  },
  {
   "cell_type": "code",
   "execution_count": 32,
   "metadata": {},
   "outputs": [
    {
     "name": "stdout",
     "output_type": "stream",
     "text": [
      "[(0.22925830135674963, 0.26867917515992235), (0.7714925380949857, 0.8241988383123955), (0.9894020161601986, 0.5205123677011275), (0.09763041231109493, 0.5165337029361026), (0.9821539889983917, 0.8970384631778751)]\n"
     ]
    },
    {
     "data": {
      "image/png": "[encoded data removed]",
      "text/plain": [
       "<Figure size 432x288 with 1 Axes>"
      ]
     },
     "metadata": {
      "needs_background": "light"
     },
     "output_type": "display_data"
    }
   ],
   "source": [
    "#Pegando as coordenadas dos pontos da resposta dada pelo algoritmo de Busca Exaustiva:\n",
    "grafo = []\n",
    "for i in melhor_resposta_ever:\n",
    "    grafo.append(CIDADES[str(i)])\n",
    "print(grafo)\n",
    "#Lista com as coordenadas dos pontos:\n",
    "lista_pontos = grafo\n",
    "\n",
    "#Coordenadas X e Y dos pontos:\n",
    "x = [ponto[0] for ponto in lista_pontos]\n",
    "y = [ponto[1] for ponto in lista_pontos]\n",
    "for i, nome in enumerate(melhor_resposta_ever):\n",
    "    plt.annotate(nome, (x[i], y[i]), textcoords=\"offset points\", xytext=(5,-10), ha='center')\n",
    "\n",
    "#Plotagem dos pontos:\n",
    "plt.scatter(x, y)\n",
    "\n",
    "#Ligamos os pontos com uma reta entre eles:\n",
    "for i in range(len(lista_pontos)-1):\n",
    "    plt.plot([lista_pontos[i][0], lista_pontos[i+1][0]],\n",
    "             [lista_pontos[i][1], lista_pontos[i+1][1]], 'b-')\n",
    "\n",
    "#Define os rótulos dos eixos:\n",
    "plt.xlabel('Coordenada X')\n",
    "plt.ylabel('Coordenada Y')\n",
    "plt.title('Caminho do caixeiro viajante - busca exaustiva')\n",
    "#Plotagem do gráfico:\n",
    "plt.show()"
   ]
  },
  {
   "attachments": {},
   "cell_type": "markdown",
   "metadata": {},
   "source": [
    "## Conclusão\n",
    "\n"
   ]
  },
  {
   "attachments": {},
   "cell_type": "markdown",
   "metadata": {},
   "source": [
    "Podemos ver que ambos os métodos funcionam bem, verificamos pelos valores exibidos e também pelos grafos que foram plotados. Em diferença ao exercício do caixeiro em que tínahmos a penalidade que o fizesse procurar a menor rota possível, aqui retiramos. Por conta disso mudamos os parâmetros de minimização para maximização, de modo que focássemos na maior distância possível, como delimitado nos objetivos prévios.\n"
   ]
  },
  {
   "attachments": {},
   "cell_type": "markdown",
   "metadata": {},
   "source": [
    "## Referências consultadas\n",
    "\n"
   ]
  },
  {
   "attachments": {},
   "cell_type": "markdown",
   "metadata": {},
   "source": [
    "1.  Delete este texto e inclua suas referências ordenadas numericamente. Se for referenciar no notebook, use o número entre colchetes (exemplo: para citar essa referência aqui escreva &ldquo;[1]&rdquo; sem as áspas).\n",
    "\n",
    "2.  Cada item deve ser numerado. Siga o padrão apresentado.\n",
    "\n",
    "3.  Caso não tenha nenhuma referência consultada, delete esta seção e o texto contido nela!\n",
    "\n"
   ]
  },
  {
   "attachments": {},
   "cell_type": "markdown",
   "metadata": {},
   "source": [
    "## Playground\n",
    "\n"
   ]
  },
  {
   "attachments": {},
   "cell_type": "markdown",
   "metadata": {},
   "source": [
    "Todo código de teste que não faz parte do seu experimento deve vir aqui. Este código não será considerado na avaliação.\n",
    "\n"
   ]
  },
  {
   "cell_type": "code",
   "execution_count": null,
   "metadata": {},
   "outputs": [],
   "source": []
  }
 ],
 "metadata": {
  "kernelspec": {
   "display_name": "ilumpy",
   "language": "python",
   "name": "python3"
  },
  "language_info": {
   "codemirror_mode": {
    "name": "ipython",
    "version": 3
   },
   "file_extension": ".py",
   "mimetype": "text/x-python",
   "name": "python",
   "nbconvert_exporter": "python",
   "pygments_lexer": "ipython3",
   "version": "3.9.7"
  },
  "org": null
 },
 "nbformat": 4,
 "nbformat_minor": 4
}
