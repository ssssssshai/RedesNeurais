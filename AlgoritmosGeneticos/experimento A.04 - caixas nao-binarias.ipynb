{
 "cells": [
  {
   "cell_type": "markdown",
   "metadata": {},
   "source": [
    "Problema das caixas não-binárias\n",
    "================================\n",
    "\n"
   ]
  },
  {
   "cell_type": "markdown",
   "metadata": {},
   "source": [
    "## Objetivo\n",
    "\n"
   ]
  },
  {
   "cell_type": "markdown",
   "metadata": {},
   "source": [
    "Encontrar uma solução para o problema das caixas não-binárias usando um algoritmo genético. Considere 4 caixas. Considere que cada caixa pode ter um valor inteiro dentro do conjunto [0, 100].\n",
    "\n"
   ]
  },
  {
   "cell_type": "markdown",
   "metadata": {},
   "source": [
    "## Descrição do problema\n",
    "\n"
   ]
  },
  {
   "cell_type": "markdown",
   "metadata": {},
   "source": [
    "O problema das caixas não-binárias é simples: nós temos um certo número de caixas e cada uma pode conter um número inteiro. O objetivo é encontrar uma combinação de caixas onde a soma dos valores contidos dentro delas é máximo.\n",
    "\n"
   ]
  },
  {
   "cell_type": "markdown",
   "metadata": {},
   "source": [
    "## Importações\n",
    "\n"
   ]
  },
  {
   "cell_type": "code",
   "execution_count": 9,
   "metadata": {},
   "outputs": [],
   "source": [
    "from funcoes import populacao_caixanb\n",
    "from funcoes import funcao_objetivo_populacao_caixabinaria as funcao_objetivo_pop\n",
    "from funcoes import selecao_roleta_max as funcao_selecao\n",
    "from funcoes import cruzamento_simples as funcao_cruzamento\n",
    "from funcoes import mutacao_caixanb\n",
    "import random\n",
    "\n",
    "# A importação (from funcoes) é devido ao arquivo funcoes.py, onde todas as funções estão devidamente explicadas.\n",
    "# Para facilitar, são exportadas e com outro nome que torne mais fácil sua interpretação."
   ]
  },
  {
   "cell_type": "markdown",
   "metadata": {},
   "source": [
    "## Códigos e discussão\n",
    "\n"
   ]
  },
  {
   "cell_type": "code",
   "execution_count": 10,
   "metadata": {},
   "outputs": [],
   "source": [
    "#Definição das constantes:\n",
    "\n",
    "TAMANHO_POPULACAO = 5 #Tamanho de indivíduos dentro de uma população.\n",
    "NUMERO_GERACOES = 200 #Quantas vezes o repetirá para que seja selecionado um indivíduo.\n",
    "CHANCE_CRUZAMENTO = 0.5 #Geralmente se usa essa taxa de  50%, serve para informar que nem todo mundo \"vivo\" vai passar os genes.\n",
    "CHANCE_MUTACAO = 0.05 #É a chance de mutação, não pode ser muito alta pois entra no problema de busca aleatória, nem muito baixa, pois demorará mais para evoluir na passagem de informação gênica.\n",
    "\n",
    "#As acima são praticamente as mesmas que se utilizou no experimento A.03. Abaixo, estão as específicas para esse problema.\n",
    "\n",
    "NUMERO_GENES = 4 #Quantidade de genes de cada indivíduo [x, x, x, x].\n",
    "VALOR_MAXIMO_CAIXA = 100 #É um valor que a caixa pode assumir, mas não pode passar."
   ]
  },
  {
   "cell_type": "code",
   "execution_count": 11,
   "metadata": {},
   "outputs": [],
   "source": [
    "#Funções locais. Essas não vão para o arquivo de funções pois vamos utilizar somente nesse experimento.\n",
    "\n",
    "def cria_populacao_inicial(tamanho, n_genes): #Explicada no experimento A.03.\n",
    "    return populacao_caixanb(tamanho, n_genes, VALOR_MAXIMO_CAIXA)\n",
    "\n",
    "def funcao_mutacao(individuo): #Essa função foi refeita para se adequar aos novos valores do gene, relacionado ao valor_max_caixa definido anteriormente.\n",
    "    return mutacao_caixanb(individuo, VALOR_MAXIMO_CAIXA)"
   ]
  },
  {
   "cell_type": "code",
   "execution_count": 12,
   "metadata": {},
   "outputs": [
    {
     "name": "stdout",
     "output_type": "stream",
     "text": [
      "População inicial:\n",
      "[[58, 74, 75, 40], [59, 64, 69, 29], [40, 45, 49, 33], [35, 95, 82, 74], [19, 27, 91, 65]]\n",
      "\n",
      "População final:\n",
      "[[60, 38, 81, 95], [60, 38, 73, 95], [60, 38, 81, 95], [60, 38, 81, 95], [60, 38, 81, 95]]\n"
     ]
    }
   ],
   "source": [
    "populacao = cria_populacao_inicial(TAMANHO_POPULACAO, NUMERO_GENES)\n",
    "\n",
    "print(\"População inicial:\") #Criação de uma população inical, já explicado no A.03.\n",
    "print(populacao)\n",
    "\n",
    "for n in range(NUMERO_GERACOES): #Para cada item no número de gerações, faça:    \n",
    "    \n",
    "    #O fitness de cada indivíduo na população é calculado usando a função funcao_objetivo_pop.\n",
    "    #Em seguida, a operação de seleção é realizada usando a função funcao_selecao. É onde estamos selecionando os indivíduos da população.\n",
    "    fitness = funcao_objetivo_pop(populacao)\n",
    "    populacao = funcao_selecao(populacao, fitness)\n",
    "    \n",
    "    #Aqui é a parte de cruzamento, bem parecida com o que foi feito no A.03.\n",
    "    pais = populacao[0::2]\n",
    "    maes = populacao[1::2]\n",
    "    \n",
    "    contador = 0 #Estretégia do contador, também já utilizada.\n",
    "    \n",
    "    for pai, mae in zip(pais, maes): #Esse laço de repetição está explicado parte a parte no A.03.\n",
    "        if random.random() <= CHANCE_CRUZAMENTO:\n",
    "            filho1, filho2 = funcao_cruzamento(pai, mae)\n",
    "            populacao[contador] = filho1\n",
    "            populacao[contador + 1] = filho2\n",
    "        \n",
    "        contador = contador + 2   \n",
    "        \n",
    "    #Aqui, para cada indivíduo dentro do range da população há uma chance randômica de ser mutado.\n",
    "    for n in range(len(populacao)):\n",
    "        if random.random() <= CHANCE_MUTACAO:\n",
    "            individuo = populacao[n]\n",
    "            populacao[n] = funcao_mutacao(individuo)            \n",
    "\n",
    "print()\n",
    "print(\"População final:\")\n",
    "print(populacao)"
   ]
  },
  {
   "attachments": {},
   "cell_type": "markdown",
   "metadata": {},
   "source": [
    "## Conclusão\n",
    "\n",
    "Junto do A.03, é uma fixação da ideia de que Algortitmos Genéticos são poderosos. Nesse experimento, vimos que mesmo cada gene podendo assumir uma quantidade grande de valores, podemos encontrar de forma rápida, fácil e objetiva os melhores valores dentro dessas populações. Além disso, podemos ver como as chances de mutação alteram a população, vendo que nem todos os indivíduos da população final assumem os mesmos exatos valores. É interessante variar os valores das constantes para observar como o sistema todo vai se comportando, assim, podemos tirar outras conclusões. Mudar a chance de mutação para valores maiores ou menores torna o experimento interessante para ver como a população final ficará, se mais homogênea ou mais heterogênea."
   ]
  },
  {
   "cell_type": "markdown",
   "metadata": {},
   "source": [
    "## Playground\n",
    "\n"
   ]
  },
  {
   "cell_type": "code",
   "execution_count": null,
   "metadata": {},
   "outputs": [],
   "source": []
  }
 ],
 "metadata": {
  "interpreter": {
   "hash": "757d12d9a4a55c2e2de9a2ad417c398c36634f4a955191ac0231526c1b344dad"
  },
  "kernelspec": {
   "display_name": "Python 3.9.7 64-bit ('ilumpy': venv)",
   "name": "python3"
  },
  "language_info": {
   "codemirror_mode": {
    "name": "ipython",
    "version": 3
   },
   "file_extension": ".py",
   "mimetype": "text/x-python",
   "name": "python",
   "nbconvert_exporter": "python",
   "pygments_lexer": "ipython3",
   "version": "3.9.7"
  },
  "org": null
 },
 "nbformat": 4,
 "nbformat_minor": 4
}
